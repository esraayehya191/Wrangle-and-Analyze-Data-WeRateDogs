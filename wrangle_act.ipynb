{
 "cells": [
  {
   "cell_type": "markdown",
   "id": "downtown-continuity",
   "metadata": {},
   "source": [
    "# Wrangle & Analyze Data\n"
   ]
  },
  {
   "cell_type": "markdown",
   "id": "restricted-triumph",
   "metadata": {},
   "source": [
    "## Contents\n",
    "\n",
    "<a href=\"#gather\">Gather Data</a>\n",
    "    <ol>\n",
    "        <li><a href=\"#gather_archive\">Enhanced Twitter Archive</a></li>\n",
    "        <li><a href=\"#gather_predictions\">Image Predictions File</a></li>\n",
    "        <li><a href=\"#gather_json_data\">Twitter API</a></li>\n",
    "    </ol>\n",
    "\n",
    "<a href=\"#assess\">Assess Data:</a>\n",
    "\n",
    "<a href=\"#visual\">A-Visual Assessment:</a>\n",
    "   <ul>\n",
    "        <li><a href=\"#visual_archive\">_**`archive`**_ </a></li>\n",
    "        <li><a href=\"#visual_predictions\"> _**`predictions`**_</a></li>\n",
    "        <li><a href=\"#visual_json_data\">_**`json_data`**_</a></li>\n",
    "    </ul>\n",
    "\n",
    "<a href=\"#prog\">B-Programmatic Assessment:</a>\n",
    "    <ul>\n",
    "        <li><a href=\"#prog_archive\"> _**`archive`**_</a></li>\n",
    "        <li><a href=\"#prog_predictions\">_**`predictions`**_</a></li>\n",
    "        <li><a href=\"#prog_json_data\">_**`json_data`**_</a></li>\n",
    "    </ul>\n",
    "\n",
    "<a href=\"#summary\">Assessment Summery</a>\n",
    "\n",
    "<a href=\"#clean\">Clean Data</a>\n",
    "\n",
    "<a href=\"#store\">Store Data</a>\n",
    "\n",
    "<a href=\"#analyze\">Analyze Data</a>"
   ]
  },
  {
   "cell_type": "code",
   "execution_count": 1,
   "id": "acceptable-wesley",
   "metadata": {},
   "outputs": [],
   "source": [
    "#Import all packages needed\n",
    "import pandas as pd\n",
    "import numpy as np\n",
    "import requests\n",
    "import tweepy\n",
    "import json\n",
    "\n",
    "import matplotlib.pyplot as plt\n",
    "%matplotlib inline\n"
   ]
  },
  {
   "cell_type": "markdown",
   "id": "optional-lloyd",
   "metadata": {},
   "source": [
    "---\n",
    "<a id='gather'></a>\n",
    "# Gather Data\n",
    "_Gather each of the three pieces of data :_\n",
    "1. **Twitter archive file**\n",
    "\n",
    "downloaded manually\n",
    "\n",
    "2. **The tweet image predictions**\n",
    "\n",
    "downloaded programmatically using the following URL: https://d17h27t6h515a5.cloudfront.net/topher/2017/August/599fd2ad_image-predictions/image-predictions.tsv\n",
    "\n",
    "3. **Twitter API** \n",
    "\n",
    "Using the tweet IDs in the WeRateDogs Twitter archive, query the Twitter API for each tweet's JSON data using Python's Tweepy library and store each tweet's entire set of JSON data "
   ]
  },
  {
   "cell_type": "markdown",
   "id": "martial-billy",
   "metadata": {},
   "source": [
    "---\n",
    "<a id='gather_archive'></a>\n",
    "## 1. Enhanced Twitter Archive"
   ]
  },
  {
   "cell_type": "code",
   "execution_count": 2,
   "id": "behavioral-filter",
   "metadata": {},
   "outputs": [],
   "source": [
    "#Read CSV file \n",
    "df_twitter_archive = pd.read_csv('twitter-archive-enhanced.csv')"
   ]
  },
  {
   "cell_type": "markdown",
   "id": "collectible-spray",
   "metadata": {},
   "source": [
    "---\n",
    "<a id='gather_predictions'></a>\n",
    "## 2. Image Predictions File"
   ]
  },
  {
   "cell_type": "code",
   "execution_count": 3,
   "id": "fifth-tulsa",
   "metadata": {},
   "outputs": [],
   "source": [
    "#URL downloaded programatically \n",
    "url = 'https://d17h27t6h515a5.cloudfront.net/topher/2017/August/599fd2ad_image-predictions/image-predictions.tsv'\n",
    "response = requests.get(url)\n",
    "\n",
    "with open('image-predictions.tsv', mode = 'wb') as file:\n",
    "    file.write(response.content)"
   ]
  },
  {
   "cell_type": "markdown",
   "id": "antique-sarah",
   "metadata": {},
   "source": [
    "---\n",
    "<a id='gather_json_data'></a>\n",
    "## 3. Twitter API"
   ]
  },
  {
   "cell_type": "code",
   "execution_count": 4,
   "id": "weighted-violation",
   "metadata": {},
   "outputs": [],
   "source": [
    "#Read tweet_json.txt file line by line, add each into list\n",
    "df_list = []\n",
    "with open('tweet_json.txt') as file:\n",
    "    for line in file :\n",
    "        df_list.append(json.loads(line))"
   ]
  },
  {
   "cell_type": "code",
   "execution_count": null,
   "id": "certain-cancellation",
   "metadata": {},
   "outputs": [],
   "source": [
    "import tweepy\n",
    "from tweepy import OAuthHandler\n",
    "import json\n",
    "from timeit import default_timer as timer\n",
    "\n",
    "# Query Twitter API for each tweet in the Twitter archive and save JSON in a text file\n",
    "# These are hidden to comply with Twitter's API terms and conditions\n",
    "consumer_key = 'HIDDEN'\n",
    "consumer_secret = 'HIDDEN'\n",
    "access_token = 'HIDDEN'\n",
    "access_secret = 'HIDDEN'\n",
    "\n",
    "auth = OAuthHandler(consumer_key, consumer_secret)\n",
    "auth.set_access_token(access_token, access_secret)\n",
    "\n",
    "api = tweepy.API(auth, wait_on_rate_limit=True)\n",
    "\n",
    "# NOTE TO REVIEWER: this student had mobile verification issues so the following\n",
    "# Twitter API code was sent to this student from a Udacity instructor\n",
    "# Tweet IDs for which to gather additional data via Twitter's API\n",
    "tweet_ids = df_twitter_archive.tweet_id.values\n",
    "len(tweet_ids)\n",
    "\n",
    "# Query Twitter's API for JSON data for each tweet ID in the Twitter archive\n",
    "count = 0\n",
    "fails_dict = {}\n",
    "start = timer()\n",
    "# Save each tweet's returned JSON as a new line in a .txt file\n",
    "with open('tweet_json.txt', 'w') as outfile:\n",
    "    # This loop will likely take 20-30 minutes to run because of Twitter's rate limit\n",
    "    for tweet_id in tweet_ids:\n",
    "        count += 1\n",
    "        print(str(count) + \": \" + str(tweet_id))\n",
    "        try:\n",
    "            tweet = api.get_status(tweet_id, tweet_mode='extended')\n",
    "            print(\"Success\")\n",
    "            json.dump(tweet._json, outfile)\n",
    "            outfile.write('\\n')\n",
    "        except tweepy.TweepError as e:\n",
    "            print(\"Fail\")\n",
    "            fails_dict[tweet_id] = e\n",
    "            pass\n",
    "end = timer()\n",
    "print(end - start)\n",
    "print(fails_dict)"
   ]
  },
  {
   "cell_type": "code",
   "execution_count": 5,
   "id": "partial-carpet",
   "metadata": {},
   "outputs": [],
   "source": [
    "df_list = []\n",
    "\n",
    "with open('tweet_json.txt') as file:\n",
    "    for line in file :\n",
    "        df_list.append(json.loads(line))"
   ]
  },
  {
   "cell_type": "code",
   "execution_count": 6,
   "id": "signal-apollo",
   "metadata": {},
   "outputs": [
    {
     "name": "stdout",
     "output_type": "stream",
     "text": [
      "{'created_at': 'Tue Aug 01 16:23:56 +0000 2017', 'id': 892420643555336193, 'id_str': '892420643555336193', 'full_text': \"This is Phineas. He's a mystical boy. Only ever appears in the hole of a donut. 13/10 https://t.co/MgUWQ76dJU\", 'truncated': False, 'display_text_range': [0, 85], 'entities': {'hashtags': [], 'symbols': [], 'user_mentions': [], 'urls': [], 'media': [{'id': 892420639486877696, 'id_str': '892420639486877696', 'indices': [86, 109], 'media_url': 'http://pbs.twimg.com/media/DGKD1-bXoAAIAUK.jpg', 'media_url_https': 'https://pbs.twimg.com/media/DGKD1-bXoAAIAUK.jpg', 'url': 'https://t.co/MgUWQ76dJU', 'display_url': 'pic.twitter.com/MgUWQ76dJU', 'expanded_url': 'https://twitter.com/dog_rates/status/892420643555336193/photo/1', 'type': 'photo', 'sizes': {'large': {'w': 540, 'h': 528, 'resize': 'fit'}, 'thumb': {'w': 150, 'h': 150, 'resize': 'crop'}, 'small': {'w': 540, 'h': 528, 'resize': 'fit'}, 'medium': {'w': 540, 'h': 528, 'resize': 'fit'}}}]}, 'extended_entities': {'media': [{'id': 892420639486877696, 'id_str': '892420639486877696', 'indices': [86, 109], 'media_url': 'http://pbs.twimg.com/media/DGKD1-bXoAAIAUK.jpg', 'media_url_https': 'https://pbs.twimg.com/media/DGKD1-bXoAAIAUK.jpg', 'url': 'https://t.co/MgUWQ76dJU', 'display_url': 'pic.twitter.com/MgUWQ76dJU', 'expanded_url': 'https://twitter.com/dog_rates/status/892420643555336193/photo/1', 'type': 'photo', 'sizes': {'large': {'w': 540, 'h': 528, 'resize': 'fit'}, 'thumb': {'w': 150, 'h': 150, 'resize': 'crop'}, 'small': {'w': 540, 'h': 528, 'resize': 'fit'}, 'medium': {'w': 540, 'h': 528, 'resize': 'fit'}}}]}, 'source': '<a href=\"http://twitter.com/download/iphone\" rel=\"nofollow\">Twitter for iPhone</a>', 'in_reply_to_status_id': None, 'in_reply_to_status_id_str': None, 'in_reply_to_user_id': None, 'in_reply_to_user_id_str': None, 'in_reply_to_screen_name': None, 'user': {'id': 4196983835, 'id_str': '4196983835', 'name': 'WeRateDogs™ (author)', 'screen_name': 'dog_rates', 'location': 'DM YOUR DOGS, WE WILL RATE', 'description': '#1 Source for Professional Dog Ratings | STORE: @ShopWeRateDogs | IG, FB & SC: WeRateDogs MOBILE APP: @GoodDogsGame | Business: dogratingtwitter@gmail.com', 'url': 'https://t.co/N7sNNHAEXS', 'entities': {'url': {'urls': [{'url': 'https://t.co/N7sNNHAEXS', 'expanded_url': 'http://weratedogs.com', 'display_url': 'weratedogs.com', 'indices': [0, 23]}]}, 'description': {'urls': []}}, 'protected': False, 'followers_count': 3200889, 'friends_count': 104, 'listed_count': 2784, 'created_at': 'Sun Nov 15 21:41:29 +0000 2015', 'favourites_count': 114031, 'utc_offset': None, 'time_zone': None, 'geo_enabled': True, 'verified': True, 'statuses_count': 5288, 'lang': 'en', 'contributors_enabled': False, 'is_translator': False, 'is_translation_enabled': False, 'profile_background_color': '000000', 'profile_background_image_url': 'http://abs.twimg.com/images/themes/theme1/bg.png', 'profile_background_image_url_https': 'https://abs.twimg.com/images/themes/theme1/bg.png', 'profile_background_tile': False, 'profile_image_url': 'http://pbs.twimg.com/profile_images/861415328504569856/R2xOOfwe_normal.jpg', 'profile_image_url_https': 'https://pbs.twimg.com/profile_images/861415328504569856/R2xOOfwe_normal.jpg', 'profile_banner_url': 'https://pbs.twimg.com/profile_banners/4196983835/1501129017', 'profile_link_color': 'F5ABB5', 'profile_sidebar_border_color': '000000', 'profile_sidebar_fill_color': '000000', 'profile_text_color': '000000', 'profile_use_background_image': False, 'has_extended_profile': True, 'default_profile': False, 'default_profile_image': False, 'following': True, 'follow_request_sent': False, 'notifications': False, 'translator_type': 'none'}, 'geo': None, 'coordinates': None, 'place': None, 'contributors': None, 'is_quote_status': False, 'retweet_count': 8853, 'favorite_count': 39467, 'favorited': False, 'retweeted': False, 'possibly_sensitive': False, 'possibly_sensitive_appealable': False, 'lang': 'en'}\n"
     ]
    }
   ],
   "source": [
    "print(df_list[0])"
   ]
  },
  {
   "cell_type": "code",
   "execution_count": 7,
   "id": "brilliant-probe",
   "metadata": {},
   "outputs": [
    {
     "data": {
      "text/html": [
       "<div>\n",
       "<style scoped>\n",
       "    .dataframe tbody tr th:only-of-type {\n",
       "        vertical-align: middle;\n",
       "    }\n",
       "\n",
       "    .dataframe tbody tr th {\n",
       "        vertical-align: top;\n",
       "    }\n",
       "\n",
       "    .dataframe thead th {\n",
       "        text-align: right;\n",
       "    }\n",
       "</style>\n",
       "<table border=\"1\" class=\"dataframe\">\n",
       "  <thead>\n",
       "    <tr style=\"text-align: right;\">\n",
       "      <th></th>\n",
       "      <th>id</th>\n",
       "      <th>retweet_count</th>\n",
       "      <th>favorite_count</th>\n",
       "    </tr>\n",
       "  </thead>\n",
       "  <tbody>\n",
       "    <tr>\n",
       "      <th>0</th>\n",
       "      <td>892420643555336193</td>\n",
       "      <td>8853</td>\n",
       "      <td>39467</td>\n",
       "    </tr>\n",
       "    <tr>\n",
       "      <th>1</th>\n",
       "      <td>892177421306343426</td>\n",
       "      <td>6514</td>\n",
       "      <td>33819</td>\n",
       "    </tr>\n",
       "    <tr>\n",
       "      <th>2</th>\n",
       "      <td>891815181378084864</td>\n",
       "      <td>4328</td>\n",
       "      <td>25461</td>\n",
       "    </tr>\n",
       "    <tr>\n",
       "      <th>3</th>\n",
       "      <td>891689557279858688</td>\n",
       "      <td>8964</td>\n",
       "      <td>42908</td>\n",
       "    </tr>\n",
       "    <tr>\n",
       "      <th>4</th>\n",
       "      <td>891327558926688256</td>\n",
       "      <td>9774</td>\n",
       "      <td>41048</td>\n",
       "    </tr>\n",
       "  </tbody>\n",
       "</table>\n",
       "</div>"
      ],
      "text/plain": [
       "                   id  retweet_count  favorite_count\n",
       "0  892420643555336193           8853           39467\n",
       "1  892177421306343426           6514           33819\n",
       "2  891815181378084864           4328           25461\n",
       "3  891689557279858688           8964           42908\n",
       "4  891327558926688256           9774           41048"
      ]
     },
     "execution_count": 7,
     "metadata": {},
     "output_type": "execute_result"
    }
   ],
   "source": [
    "#Create pandas DataFrame \n",
    "json_data = pd.DataFrame(df_list, columns = ['id',\n",
    "                                              'retweet_count',\n",
    "                                              'favorite_count'])\n",
    "json_data.head()"
   ]
  },
  {
   "cell_type": "code",
   "execution_count": 8,
   "id": "engaged-manner",
   "metadata": {},
   "outputs": [
    {
     "data": {
      "text/html": [
       "<div>\n",
       "<style scoped>\n",
       "    .dataframe tbody tr th:only-of-type {\n",
       "        vertical-align: middle;\n",
       "    }\n",
       "\n",
       "    .dataframe tbody tr th {\n",
       "        vertical-align: top;\n",
       "    }\n",
       "\n",
       "    .dataframe thead th {\n",
       "        text-align: right;\n",
       "    }\n",
       "</style>\n",
       "<table border=\"1\" class=\"dataframe\">\n",
       "  <thead>\n",
       "    <tr style=\"text-align: right;\">\n",
       "      <th></th>\n",
       "      <th>tweet_id</th>\n",
       "      <th>retweet_count</th>\n",
       "      <th>favorite_count</th>\n",
       "    </tr>\n",
       "  </thead>\n",
       "  <tbody>\n",
       "    <tr>\n",
       "      <th>0</th>\n",
       "      <td>892420643555336193</td>\n",
       "      <td>8853</td>\n",
       "      <td>39467</td>\n",
       "    </tr>\n",
       "    <tr>\n",
       "      <th>1</th>\n",
       "      <td>892177421306343426</td>\n",
       "      <td>6514</td>\n",
       "      <td>33819</td>\n",
       "    </tr>\n",
       "    <tr>\n",
       "      <th>2</th>\n",
       "      <td>891815181378084864</td>\n",
       "      <td>4328</td>\n",
       "      <td>25461</td>\n",
       "    </tr>\n",
       "    <tr>\n",
       "      <th>3</th>\n",
       "      <td>891689557279858688</td>\n",
       "      <td>8964</td>\n",
       "      <td>42908</td>\n",
       "    </tr>\n",
       "    <tr>\n",
       "      <th>4</th>\n",
       "      <td>891327558926688256</td>\n",
       "      <td>9774</td>\n",
       "      <td>41048</td>\n",
       "    </tr>\n",
       "  </tbody>\n",
       "</table>\n",
       "</div>"
      ],
      "text/plain": [
       "             tweet_id  retweet_count  favorite_count\n",
       "0  892420643555336193           8853           39467\n",
       "1  892177421306343426           6514           33819\n",
       "2  891815181378084864           4328           25461\n",
       "3  891689557279858688           8964           42908\n",
       "4  891327558926688256           9774           41048"
      ]
     },
     "execution_count": 8,
     "metadata": {},
     "output_type": "execute_result"
    }
   ],
   "source": [
    "#Changing the name of column'id' to 'tweet_id'\n",
    "json_data = json_data.rename(columns = {'id':'tweet_id'})\n",
    "json_data.head()"
   ]
  },
  {
   "cell_type": "code",
   "execution_count": 9,
   "id": "roman-voice",
   "metadata": {},
   "outputs": [],
   "source": [
    "#Saving the Dataframe to csv file for future use\n",
    "#(without index column so it willnot appear as unnamed column in the file)\n",
    "json_data.to_csv('json_data.csv', index = False)"
   ]
  },
  {
   "cell_type": "markdown",
   "id": "invisible-truck",
   "metadata": {},
   "source": [
    "---\n",
    "<a id='assess'></a>\n",
    "# Assess Data:"
   ]
  },
  {
   "cell_type": "code",
   "execution_count": 10,
   "id": "nutritional-program",
   "metadata": {},
   "outputs": [],
   "source": [
    "# Load the data gathered data files\n",
    "archive = pd.read_csv('twitter-archive-enhanced.csv')\n",
    "predictions = pd.read_csv('image-predictions.tsv', sep = '\\\\t', engine = 'python')\n",
    "json_data = pd.read_csv('json_data.csv')"
   ]
  },
  {
   "cell_type": "markdown",
   "id": "infinite-summary",
   "metadata": {},
   "source": [
    "---\n",
    "<a id='visual'></a>\n",
    "\n",
    "## A- Visual assessment\n",
    "\n",
    "Each piece of gathered data is displayed in the Jupyter Notebook for visual assessment purposes."
   ]
  },
  {
   "cell_type": "markdown",
   "id": "legal-ensemble",
   "metadata": {},
   "source": [
    "---\n",
    "<a id='visual_archive'></a>\n",
    "## _**`archive`**_"
   ]
  },
  {
   "cell_type": "code",
   "execution_count": 11,
   "id": "fourth-particular",
   "metadata": {},
   "outputs": [
    {
     "data": {
      "text/html": [
       "<div>\n",
       "<style scoped>\n",
       "    .dataframe tbody tr th:only-of-type {\n",
       "        vertical-align: middle;\n",
       "    }\n",
       "\n",
       "    .dataframe tbody tr th {\n",
       "        vertical-align: top;\n",
       "    }\n",
       "\n",
       "    .dataframe thead th {\n",
       "        text-align: right;\n",
       "    }\n",
       "</style>\n",
       "<table border=\"1\" class=\"dataframe\">\n",
       "  <thead>\n",
       "    <tr style=\"text-align: right;\">\n",
       "      <th></th>\n",
       "      <th>tweet_id</th>\n",
       "      <th>in_reply_to_status_id</th>\n",
       "      <th>in_reply_to_user_id</th>\n",
       "      <th>timestamp</th>\n",
       "      <th>source</th>\n",
       "      <th>text</th>\n",
       "      <th>retweeted_status_id</th>\n",
       "      <th>retweeted_status_user_id</th>\n",
       "      <th>retweeted_status_timestamp</th>\n",
       "      <th>expanded_urls</th>\n",
       "      <th>rating_numerator</th>\n",
       "      <th>rating_denominator</th>\n",
       "      <th>name</th>\n",
       "      <th>doggo</th>\n",
       "      <th>floofer</th>\n",
       "      <th>pupper</th>\n",
       "      <th>puppo</th>\n",
       "    </tr>\n",
       "  </thead>\n",
       "  <tbody>\n",
       "    <tr>\n",
       "      <th>0</th>\n",
       "      <td>892420643555336193</td>\n",
       "      <td>NaN</td>\n",
       "      <td>NaN</td>\n",
       "      <td>2017-08-01 16:23:56 +0000</td>\n",
       "      <td>&lt;a href=\"http://twitter.com/download/iphone\" r...</td>\n",
       "      <td>This is Phineas. He's a mystical boy. Only eve...</td>\n",
       "      <td>NaN</td>\n",
       "      <td>NaN</td>\n",
       "      <td>NaN</td>\n",
       "      <td>https://twitter.com/dog_rates/status/892420643...</td>\n",
       "      <td>13</td>\n",
       "      <td>10</td>\n",
       "      <td>Phineas</td>\n",
       "      <td>None</td>\n",
       "      <td>None</td>\n",
       "      <td>None</td>\n",
       "      <td>None</td>\n",
       "    </tr>\n",
       "    <tr>\n",
       "      <th>1</th>\n",
       "      <td>892177421306343426</td>\n",
       "      <td>NaN</td>\n",
       "      <td>NaN</td>\n",
       "      <td>2017-08-01 00:17:27 +0000</td>\n",
       "      <td>&lt;a href=\"http://twitter.com/download/iphone\" r...</td>\n",
       "      <td>This is Tilly. She's just checking pup on you....</td>\n",
       "      <td>NaN</td>\n",
       "      <td>NaN</td>\n",
       "      <td>NaN</td>\n",
       "      <td>https://twitter.com/dog_rates/status/892177421...</td>\n",
       "      <td>13</td>\n",
       "      <td>10</td>\n",
       "      <td>Tilly</td>\n",
       "      <td>None</td>\n",
       "      <td>None</td>\n",
       "      <td>None</td>\n",
       "      <td>None</td>\n",
       "    </tr>\n",
       "    <tr>\n",
       "      <th>2</th>\n",
       "      <td>891815181378084864</td>\n",
       "      <td>NaN</td>\n",
       "      <td>NaN</td>\n",
       "      <td>2017-07-31 00:18:03 +0000</td>\n",
       "      <td>&lt;a href=\"http://twitter.com/download/iphone\" r...</td>\n",
       "      <td>This is Archie. He is a rare Norwegian Pouncin...</td>\n",
       "      <td>NaN</td>\n",
       "      <td>NaN</td>\n",
       "      <td>NaN</td>\n",
       "      <td>https://twitter.com/dog_rates/status/891815181...</td>\n",
       "      <td>12</td>\n",
       "      <td>10</td>\n",
       "      <td>Archie</td>\n",
       "      <td>None</td>\n",
       "      <td>None</td>\n",
       "      <td>None</td>\n",
       "      <td>None</td>\n",
       "    </tr>\n",
       "    <tr>\n",
       "      <th>3</th>\n",
       "      <td>891689557279858688</td>\n",
       "      <td>NaN</td>\n",
       "      <td>NaN</td>\n",
       "      <td>2017-07-30 15:58:51 +0000</td>\n",
       "      <td>&lt;a href=\"http://twitter.com/download/iphone\" r...</td>\n",
       "      <td>This is Darla. She commenced a snooze mid meal...</td>\n",
       "      <td>NaN</td>\n",
       "      <td>NaN</td>\n",
       "      <td>NaN</td>\n",
       "      <td>https://twitter.com/dog_rates/status/891689557...</td>\n",
       "      <td>13</td>\n",
       "      <td>10</td>\n",
       "      <td>Darla</td>\n",
       "      <td>None</td>\n",
       "      <td>None</td>\n",
       "      <td>None</td>\n",
       "      <td>None</td>\n",
       "    </tr>\n",
       "    <tr>\n",
       "      <th>4</th>\n",
       "      <td>891327558926688256</td>\n",
       "      <td>NaN</td>\n",
       "      <td>NaN</td>\n",
       "      <td>2017-07-29 16:00:24 +0000</td>\n",
       "      <td>&lt;a href=\"http://twitter.com/download/iphone\" r...</td>\n",
       "      <td>This is Franklin. He would like you to stop ca...</td>\n",
       "      <td>NaN</td>\n",
       "      <td>NaN</td>\n",
       "      <td>NaN</td>\n",
       "      <td>https://twitter.com/dog_rates/status/891327558...</td>\n",
       "      <td>12</td>\n",
       "      <td>10</td>\n",
       "      <td>Franklin</td>\n",
       "      <td>None</td>\n",
       "      <td>None</td>\n",
       "      <td>None</td>\n",
       "      <td>None</td>\n",
       "    </tr>\n",
       "    <tr>\n",
       "      <th>...</th>\n",
       "      <td>...</td>\n",
       "      <td>...</td>\n",
       "      <td>...</td>\n",
       "      <td>...</td>\n",
       "      <td>...</td>\n",
       "      <td>...</td>\n",
       "      <td>...</td>\n",
       "      <td>...</td>\n",
       "      <td>...</td>\n",
       "      <td>...</td>\n",
       "      <td>...</td>\n",
       "      <td>...</td>\n",
       "      <td>...</td>\n",
       "      <td>...</td>\n",
       "      <td>...</td>\n",
       "      <td>...</td>\n",
       "      <td>...</td>\n",
       "    </tr>\n",
       "    <tr>\n",
       "      <th>2351</th>\n",
       "      <td>666049248165822465</td>\n",
       "      <td>NaN</td>\n",
       "      <td>NaN</td>\n",
       "      <td>2015-11-16 00:24:50 +0000</td>\n",
       "      <td>&lt;a href=\"http://twitter.com/download/iphone\" r...</td>\n",
       "      <td>Here we have a 1949 1st generation vulpix. Enj...</td>\n",
       "      <td>NaN</td>\n",
       "      <td>NaN</td>\n",
       "      <td>NaN</td>\n",
       "      <td>https://twitter.com/dog_rates/status/666049248...</td>\n",
       "      <td>5</td>\n",
       "      <td>10</td>\n",
       "      <td>None</td>\n",
       "      <td>None</td>\n",
       "      <td>None</td>\n",
       "      <td>None</td>\n",
       "      <td>None</td>\n",
       "    </tr>\n",
       "    <tr>\n",
       "      <th>2352</th>\n",
       "      <td>666044226329800704</td>\n",
       "      <td>NaN</td>\n",
       "      <td>NaN</td>\n",
       "      <td>2015-11-16 00:04:52 +0000</td>\n",
       "      <td>&lt;a href=\"http://twitter.com/download/iphone\" r...</td>\n",
       "      <td>This is a purebred Piers Morgan. Loves to Netf...</td>\n",
       "      <td>NaN</td>\n",
       "      <td>NaN</td>\n",
       "      <td>NaN</td>\n",
       "      <td>https://twitter.com/dog_rates/status/666044226...</td>\n",
       "      <td>6</td>\n",
       "      <td>10</td>\n",
       "      <td>a</td>\n",
       "      <td>None</td>\n",
       "      <td>None</td>\n",
       "      <td>None</td>\n",
       "      <td>None</td>\n",
       "    </tr>\n",
       "    <tr>\n",
       "      <th>2353</th>\n",
       "      <td>666033412701032449</td>\n",
       "      <td>NaN</td>\n",
       "      <td>NaN</td>\n",
       "      <td>2015-11-15 23:21:54 +0000</td>\n",
       "      <td>&lt;a href=\"http://twitter.com/download/iphone\" r...</td>\n",
       "      <td>Here is a very happy pup. Big fan of well-main...</td>\n",
       "      <td>NaN</td>\n",
       "      <td>NaN</td>\n",
       "      <td>NaN</td>\n",
       "      <td>https://twitter.com/dog_rates/status/666033412...</td>\n",
       "      <td>9</td>\n",
       "      <td>10</td>\n",
       "      <td>a</td>\n",
       "      <td>None</td>\n",
       "      <td>None</td>\n",
       "      <td>None</td>\n",
       "      <td>None</td>\n",
       "    </tr>\n",
       "    <tr>\n",
       "      <th>2354</th>\n",
       "      <td>666029285002620928</td>\n",
       "      <td>NaN</td>\n",
       "      <td>NaN</td>\n",
       "      <td>2015-11-15 23:05:30 +0000</td>\n",
       "      <td>&lt;a href=\"http://twitter.com/download/iphone\" r...</td>\n",
       "      <td>This is a western brown Mitsubishi terrier. Up...</td>\n",
       "      <td>NaN</td>\n",
       "      <td>NaN</td>\n",
       "      <td>NaN</td>\n",
       "      <td>https://twitter.com/dog_rates/status/666029285...</td>\n",
       "      <td>7</td>\n",
       "      <td>10</td>\n",
       "      <td>a</td>\n",
       "      <td>None</td>\n",
       "      <td>None</td>\n",
       "      <td>None</td>\n",
       "      <td>None</td>\n",
       "    </tr>\n",
       "    <tr>\n",
       "      <th>2355</th>\n",
       "      <td>666020888022790149</td>\n",
       "      <td>NaN</td>\n",
       "      <td>NaN</td>\n",
       "      <td>2015-11-15 22:32:08 +0000</td>\n",
       "      <td>&lt;a href=\"http://twitter.com/download/iphone\" r...</td>\n",
       "      <td>Here we have a Japanese Irish Setter. Lost eye...</td>\n",
       "      <td>NaN</td>\n",
       "      <td>NaN</td>\n",
       "      <td>NaN</td>\n",
       "      <td>https://twitter.com/dog_rates/status/666020888...</td>\n",
       "      <td>8</td>\n",
       "      <td>10</td>\n",
       "      <td>None</td>\n",
       "      <td>None</td>\n",
       "      <td>None</td>\n",
       "      <td>None</td>\n",
       "      <td>None</td>\n",
       "    </tr>\n",
       "  </tbody>\n",
       "</table>\n",
       "<p>2356 rows × 17 columns</p>\n",
       "</div>"
      ],
      "text/plain": [
       "                tweet_id  in_reply_to_status_id  in_reply_to_user_id  \\\n",
       "0     892420643555336193                    NaN                  NaN   \n",
       "1     892177421306343426                    NaN                  NaN   \n",
       "2     891815181378084864                    NaN                  NaN   \n",
       "3     891689557279858688                    NaN                  NaN   \n",
       "4     891327558926688256                    NaN                  NaN   \n",
       "...                  ...                    ...                  ...   \n",
       "2351  666049248165822465                    NaN                  NaN   \n",
       "2352  666044226329800704                    NaN                  NaN   \n",
       "2353  666033412701032449                    NaN                  NaN   \n",
       "2354  666029285002620928                    NaN                  NaN   \n",
       "2355  666020888022790149                    NaN                  NaN   \n",
       "\n",
       "                      timestamp  \\\n",
       "0     2017-08-01 16:23:56 +0000   \n",
       "1     2017-08-01 00:17:27 +0000   \n",
       "2     2017-07-31 00:18:03 +0000   \n",
       "3     2017-07-30 15:58:51 +0000   \n",
       "4     2017-07-29 16:00:24 +0000   \n",
       "...                         ...   \n",
       "2351  2015-11-16 00:24:50 +0000   \n",
       "2352  2015-11-16 00:04:52 +0000   \n",
       "2353  2015-11-15 23:21:54 +0000   \n",
       "2354  2015-11-15 23:05:30 +0000   \n",
       "2355  2015-11-15 22:32:08 +0000   \n",
       "\n",
       "                                                 source  \\\n",
       "0     <a href=\"http://twitter.com/download/iphone\" r...   \n",
       "1     <a href=\"http://twitter.com/download/iphone\" r...   \n",
       "2     <a href=\"http://twitter.com/download/iphone\" r...   \n",
       "3     <a href=\"http://twitter.com/download/iphone\" r...   \n",
       "4     <a href=\"http://twitter.com/download/iphone\" r...   \n",
       "...                                                 ...   \n",
       "2351  <a href=\"http://twitter.com/download/iphone\" r...   \n",
       "2352  <a href=\"http://twitter.com/download/iphone\" r...   \n",
       "2353  <a href=\"http://twitter.com/download/iphone\" r...   \n",
       "2354  <a href=\"http://twitter.com/download/iphone\" r...   \n",
       "2355  <a href=\"http://twitter.com/download/iphone\" r...   \n",
       "\n",
       "                                                   text  retweeted_status_id  \\\n",
       "0     This is Phineas. He's a mystical boy. Only eve...                  NaN   \n",
       "1     This is Tilly. She's just checking pup on you....                  NaN   \n",
       "2     This is Archie. He is a rare Norwegian Pouncin...                  NaN   \n",
       "3     This is Darla. She commenced a snooze mid meal...                  NaN   \n",
       "4     This is Franklin. He would like you to stop ca...                  NaN   \n",
       "...                                                 ...                  ...   \n",
       "2351  Here we have a 1949 1st generation vulpix. Enj...                  NaN   \n",
       "2352  This is a purebred Piers Morgan. Loves to Netf...                  NaN   \n",
       "2353  Here is a very happy pup. Big fan of well-main...                  NaN   \n",
       "2354  This is a western brown Mitsubishi terrier. Up...                  NaN   \n",
       "2355  Here we have a Japanese Irish Setter. Lost eye...                  NaN   \n",
       "\n",
       "      retweeted_status_user_id retweeted_status_timestamp  \\\n",
       "0                          NaN                        NaN   \n",
       "1                          NaN                        NaN   \n",
       "2                          NaN                        NaN   \n",
       "3                          NaN                        NaN   \n",
       "4                          NaN                        NaN   \n",
       "...                        ...                        ...   \n",
       "2351                       NaN                        NaN   \n",
       "2352                       NaN                        NaN   \n",
       "2353                       NaN                        NaN   \n",
       "2354                       NaN                        NaN   \n",
       "2355                       NaN                        NaN   \n",
       "\n",
       "                                          expanded_urls  rating_numerator  \\\n",
       "0     https://twitter.com/dog_rates/status/892420643...                13   \n",
       "1     https://twitter.com/dog_rates/status/892177421...                13   \n",
       "2     https://twitter.com/dog_rates/status/891815181...                12   \n",
       "3     https://twitter.com/dog_rates/status/891689557...                13   \n",
       "4     https://twitter.com/dog_rates/status/891327558...                12   \n",
       "...                                                 ...               ...   \n",
       "2351  https://twitter.com/dog_rates/status/666049248...                 5   \n",
       "2352  https://twitter.com/dog_rates/status/666044226...                 6   \n",
       "2353  https://twitter.com/dog_rates/status/666033412...                 9   \n",
       "2354  https://twitter.com/dog_rates/status/666029285...                 7   \n",
       "2355  https://twitter.com/dog_rates/status/666020888...                 8   \n",
       "\n",
       "      rating_denominator      name doggo floofer pupper puppo  \n",
       "0                     10   Phineas  None    None   None  None  \n",
       "1                     10     Tilly  None    None   None  None  \n",
       "2                     10    Archie  None    None   None  None  \n",
       "3                     10     Darla  None    None   None  None  \n",
       "4                     10  Franklin  None    None   None  None  \n",
       "...                  ...       ...   ...     ...    ...   ...  \n",
       "2351                  10      None  None    None   None  None  \n",
       "2352                  10         a  None    None   None  None  \n",
       "2353                  10         a  None    None   None  None  \n",
       "2354                  10         a  None    None   None  None  \n",
       "2355                  10      None  None    None   None  None  \n",
       "\n",
       "[2356 rows x 17 columns]"
      ]
     },
     "execution_count": 11,
     "metadata": {},
     "output_type": "execute_result"
    }
   ],
   "source": [
    "archive"
   ]
  },
  {
   "cell_type": "markdown",
   "id": "regular-flavor",
   "metadata": {},
   "source": [
    "<a id='visual_predictions'></a>\n",
    "## _**`predictions`**_"
   ]
  },
  {
   "cell_type": "code",
   "execution_count": 12,
   "id": "corporate-consortium",
   "metadata": {},
   "outputs": [
    {
     "data": {
      "text/html": [
       "<div>\n",
       "<style scoped>\n",
       "    .dataframe tbody tr th:only-of-type {\n",
       "        vertical-align: middle;\n",
       "    }\n",
       "\n",
       "    .dataframe tbody tr th {\n",
       "        vertical-align: top;\n",
       "    }\n",
       "\n",
       "    .dataframe thead th {\n",
       "        text-align: right;\n",
       "    }\n",
       "</style>\n",
       "<table border=\"1\" class=\"dataframe\">\n",
       "  <thead>\n",
       "    <tr style=\"text-align: right;\">\n",
       "      <th></th>\n",
       "      <th>tweet_id</th>\n",
       "      <th>jpg_url</th>\n",
       "      <th>img_num</th>\n",
       "      <th>p1</th>\n",
       "      <th>p1_conf</th>\n",
       "      <th>p1_dog</th>\n",
       "      <th>p2</th>\n",
       "      <th>p2_conf</th>\n",
       "      <th>p2_dog</th>\n",
       "      <th>p3</th>\n",
       "      <th>p3_conf</th>\n",
       "      <th>p3_dog</th>\n",
       "    </tr>\n",
       "  </thead>\n",
       "  <tbody>\n",
       "    <tr>\n",
       "      <th>0</th>\n",
       "      <td>666020888022790149</td>\n",
       "      <td>https://pbs.twimg.com/media/CT4udn0WwAA0aMy.jpg</td>\n",
       "      <td>1</td>\n",
       "      <td>Welsh_springer_spaniel</td>\n",
       "      <td>0.465074</td>\n",
       "      <td>True</td>\n",
       "      <td>collie</td>\n",
       "      <td>0.156665</td>\n",
       "      <td>True</td>\n",
       "      <td>Shetland_sheepdog</td>\n",
       "      <td>0.061428</td>\n",
       "      <td>True</td>\n",
       "    </tr>\n",
       "    <tr>\n",
       "      <th>1</th>\n",
       "      <td>666029285002620928</td>\n",
       "      <td>https://pbs.twimg.com/media/CT42GRgUYAA5iDo.jpg</td>\n",
       "      <td>1</td>\n",
       "      <td>redbone</td>\n",
       "      <td>0.506826</td>\n",
       "      <td>True</td>\n",
       "      <td>miniature_pinscher</td>\n",
       "      <td>0.074192</td>\n",
       "      <td>True</td>\n",
       "      <td>Rhodesian_ridgeback</td>\n",
       "      <td>0.072010</td>\n",
       "      <td>True</td>\n",
       "    </tr>\n",
       "    <tr>\n",
       "      <th>2</th>\n",
       "      <td>666033412701032449</td>\n",
       "      <td>https://pbs.twimg.com/media/CT4521TWwAEvMyu.jpg</td>\n",
       "      <td>1</td>\n",
       "      <td>German_shepherd</td>\n",
       "      <td>0.596461</td>\n",
       "      <td>True</td>\n",
       "      <td>malinois</td>\n",
       "      <td>0.138584</td>\n",
       "      <td>True</td>\n",
       "      <td>bloodhound</td>\n",
       "      <td>0.116197</td>\n",
       "      <td>True</td>\n",
       "    </tr>\n",
       "    <tr>\n",
       "      <th>3</th>\n",
       "      <td>666044226329800704</td>\n",
       "      <td>https://pbs.twimg.com/media/CT5Dr8HUEAA-lEu.jpg</td>\n",
       "      <td>1</td>\n",
       "      <td>Rhodesian_ridgeback</td>\n",
       "      <td>0.408143</td>\n",
       "      <td>True</td>\n",
       "      <td>redbone</td>\n",
       "      <td>0.360687</td>\n",
       "      <td>True</td>\n",
       "      <td>miniature_pinscher</td>\n",
       "      <td>0.222752</td>\n",
       "      <td>True</td>\n",
       "    </tr>\n",
       "    <tr>\n",
       "      <th>4</th>\n",
       "      <td>666049248165822465</td>\n",
       "      <td>https://pbs.twimg.com/media/CT5IQmsXIAAKY4A.jpg</td>\n",
       "      <td>1</td>\n",
       "      <td>miniature_pinscher</td>\n",
       "      <td>0.560311</td>\n",
       "      <td>True</td>\n",
       "      <td>Rottweiler</td>\n",
       "      <td>0.243682</td>\n",
       "      <td>True</td>\n",
       "      <td>Doberman</td>\n",
       "      <td>0.154629</td>\n",
       "      <td>True</td>\n",
       "    </tr>\n",
       "    <tr>\n",
       "      <th>...</th>\n",
       "      <td>...</td>\n",
       "      <td>...</td>\n",
       "      <td>...</td>\n",
       "      <td>...</td>\n",
       "      <td>...</td>\n",
       "      <td>...</td>\n",
       "      <td>...</td>\n",
       "      <td>...</td>\n",
       "      <td>...</td>\n",
       "      <td>...</td>\n",
       "      <td>...</td>\n",
       "      <td>...</td>\n",
       "    </tr>\n",
       "    <tr>\n",
       "      <th>2070</th>\n",
       "      <td>891327558926688256</td>\n",
       "      <td>https://pbs.twimg.com/media/DF6hr6BUMAAzZgT.jpg</td>\n",
       "      <td>2</td>\n",
       "      <td>basset</td>\n",
       "      <td>0.555712</td>\n",
       "      <td>True</td>\n",
       "      <td>English_springer</td>\n",
       "      <td>0.225770</td>\n",
       "      <td>True</td>\n",
       "      <td>German_short-haired_pointer</td>\n",
       "      <td>0.175219</td>\n",
       "      <td>True</td>\n",
       "    </tr>\n",
       "    <tr>\n",
       "      <th>2071</th>\n",
       "      <td>891689557279858688</td>\n",
       "      <td>https://pbs.twimg.com/media/DF_q7IAWsAEuuN8.jpg</td>\n",
       "      <td>1</td>\n",
       "      <td>paper_towel</td>\n",
       "      <td>0.170278</td>\n",
       "      <td>False</td>\n",
       "      <td>Labrador_retriever</td>\n",
       "      <td>0.168086</td>\n",
       "      <td>True</td>\n",
       "      <td>spatula</td>\n",
       "      <td>0.040836</td>\n",
       "      <td>False</td>\n",
       "    </tr>\n",
       "    <tr>\n",
       "      <th>2072</th>\n",
       "      <td>891815181378084864</td>\n",
       "      <td>https://pbs.twimg.com/media/DGBdLU1WsAANxJ9.jpg</td>\n",
       "      <td>1</td>\n",
       "      <td>Chihuahua</td>\n",
       "      <td>0.716012</td>\n",
       "      <td>True</td>\n",
       "      <td>malamute</td>\n",
       "      <td>0.078253</td>\n",
       "      <td>True</td>\n",
       "      <td>kelpie</td>\n",
       "      <td>0.031379</td>\n",
       "      <td>True</td>\n",
       "    </tr>\n",
       "    <tr>\n",
       "      <th>2073</th>\n",
       "      <td>892177421306343426</td>\n",
       "      <td>https://pbs.twimg.com/media/DGGmoV4XsAAUL6n.jpg</td>\n",
       "      <td>1</td>\n",
       "      <td>Chihuahua</td>\n",
       "      <td>0.323581</td>\n",
       "      <td>True</td>\n",
       "      <td>Pekinese</td>\n",
       "      <td>0.090647</td>\n",
       "      <td>True</td>\n",
       "      <td>papillon</td>\n",
       "      <td>0.068957</td>\n",
       "      <td>True</td>\n",
       "    </tr>\n",
       "    <tr>\n",
       "      <th>2074</th>\n",
       "      <td>892420643555336193</td>\n",
       "      <td>https://pbs.twimg.com/media/DGKD1-bXoAAIAUK.jpg</td>\n",
       "      <td>1</td>\n",
       "      <td>orange</td>\n",
       "      <td>0.097049</td>\n",
       "      <td>False</td>\n",
       "      <td>bagel</td>\n",
       "      <td>0.085851</td>\n",
       "      <td>False</td>\n",
       "      <td>banana</td>\n",
       "      <td>0.076110</td>\n",
       "      <td>False</td>\n",
       "    </tr>\n",
       "  </tbody>\n",
       "</table>\n",
       "<p>2075 rows × 12 columns</p>\n",
       "</div>"
      ],
      "text/plain": [
       "                tweet_id                                          jpg_url  \\\n",
       "0     666020888022790149  https://pbs.twimg.com/media/CT4udn0WwAA0aMy.jpg   \n",
       "1     666029285002620928  https://pbs.twimg.com/media/CT42GRgUYAA5iDo.jpg   \n",
       "2     666033412701032449  https://pbs.twimg.com/media/CT4521TWwAEvMyu.jpg   \n",
       "3     666044226329800704  https://pbs.twimg.com/media/CT5Dr8HUEAA-lEu.jpg   \n",
       "4     666049248165822465  https://pbs.twimg.com/media/CT5IQmsXIAAKY4A.jpg   \n",
       "...                  ...                                              ...   \n",
       "2070  891327558926688256  https://pbs.twimg.com/media/DF6hr6BUMAAzZgT.jpg   \n",
       "2071  891689557279858688  https://pbs.twimg.com/media/DF_q7IAWsAEuuN8.jpg   \n",
       "2072  891815181378084864  https://pbs.twimg.com/media/DGBdLU1WsAANxJ9.jpg   \n",
       "2073  892177421306343426  https://pbs.twimg.com/media/DGGmoV4XsAAUL6n.jpg   \n",
       "2074  892420643555336193  https://pbs.twimg.com/media/DGKD1-bXoAAIAUK.jpg   \n",
       "\n",
       "      img_num                      p1   p1_conf  p1_dog                  p2  \\\n",
       "0           1  Welsh_springer_spaniel  0.465074    True              collie   \n",
       "1           1                 redbone  0.506826    True  miniature_pinscher   \n",
       "2           1         German_shepherd  0.596461    True            malinois   \n",
       "3           1     Rhodesian_ridgeback  0.408143    True             redbone   \n",
       "4           1      miniature_pinscher  0.560311    True          Rottweiler   \n",
       "...       ...                     ...       ...     ...                 ...   \n",
       "2070        2                  basset  0.555712    True    English_springer   \n",
       "2071        1             paper_towel  0.170278   False  Labrador_retriever   \n",
       "2072        1               Chihuahua  0.716012    True            malamute   \n",
       "2073        1               Chihuahua  0.323581    True            Pekinese   \n",
       "2074        1                  orange  0.097049   False               bagel   \n",
       "\n",
       "       p2_conf  p2_dog                           p3   p3_conf  p3_dog  \n",
       "0     0.156665    True            Shetland_sheepdog  0.061428    True  \n",
       "1     0.074192    True          Rhodesian_ridgeback  0.072010    True  \n",
       "2     0.138584    True                   bloodhound  0.116197    True  \n",
       "3     0.360687    True           miniature_pinscher  0.222752    True  \n",
       "4     0.243682    True                     Doberman  0.154629    True  \n",
       "...        ...     ...                          ...       ...     ...  \n",
       "2070  0.225770    True  German_short-haired_pointer  0.175219    True  \n",
       "2071  0.168086    True                      spatula  0.040836   False  \n",
       "2072  0.078253    True                       kelpie  0.031379    True  \n",
       "2073  0.090647    True                     papillon  0.068957    True  \n",
       "2074  0.085851   False                       banana  0.076110   False  \n",
       "\n",
       "[2075 rows x 12 columns]"
      ]
     },
     "execution_count": 12,
     "metadata": {},
     "output_type": "execute_result"
    }
   ],
   "source": [
    "predictions"
   ]
  },
  {
   "cell_type": "code",
   "execution_count": 13,
   "id": "blessed-knight",
   "metadata": {},
   "outputs": [],
   "source": [
    "#display predictions dataframe by saving to csv file for visual assessment\n",
    "predictions.to_csv('predictions.csv', index = False)"
   ]
  },
  {
   "cell_type": "markdown",
   "id": "prescription-hobby",
   "metadata": {},
   "source": [
    "---\n",
    "<a id='visual_json_data'></a>\n",
    "\n",
    "### _**`json_data`**_\n"
   ]
  },
  {
   "cell_type": "code",
   "execution_count": 14,
   "id": "impaired-chaos",
   "metadata": {},
   "outputs": [
    {
     "data": {
      "text/html": [
       "<div>\n",
       "<style scoped>\n",
       "    .dataframe tbody tr th:only-of-type {\n",
       "        vertical-align: middle;\n",
       "    }\n",
       "\n",
       "    .dataframe tbody tr th {\n",
       "        vertical-align: top;\n",
       "    }\n",
       "\n",
       "    .dataframe thead th {\n",
       "        text-align: right;\n",
       "    }\n",
       "</style>\n",
       "<table border=\"1\" class=\"dataframe\">\n",
       "  <thead>\n",
       "    <tr style=\"text-align: right;\">\n",
       "      <th></th>\n",
       "      <th>tweet_id</th>\n",
       "      <th>retweet_count</th>\n",
       "      <th>favorite_count</th>\n",
       "    </tr>\n",
       "  </thead>\n",
       "  <tbody>\n",
       "    <tr>\n",
       "      <th>0</th>\n",
       "      <td>892420643555336193</td>\n",
       "      <td>8853</td>\n",
       "      <td>39467</td>\n",
       "    </tr>\n",
       "    <tr>\n",
       "      <th>1</th>\n",
       "      <td>892177421306343426</td>\n",
       "      <td>6514</td>\n",
       "      <td>33819</td>\n",
       "    </tr>\n",
       "    <tr>\n",
       "      <th>2</th>\n",
       "      <td>891815181378084864</td>\n",
       "      <td>4328</td>\n",
       "      <td>25461</td>\n",
       "    </tr>\n",
       "    <tr>\n",
       "      <th>3</th>\n",
       "      <td>891689557279858688</td>\n",
       "      <td>8964</td>\n",
       "      <td>42908</td>\n",
       "    </tr>\n",
       "    <tr>\n",
       "      <th>4</th>\n",
       "      <td>891327558926688256</td>\n",
       "      <td>9774</td>\n",
       "      <td>41048</td>\n",
       "    </tr>\n",
       "    <tr>\n",
       "      <th>...</th>\n",
       "      <td>...</td>\n",
       "      <td>...</td>\n",
       "      <td>...</td>\n",
       "    </tr>\n",
       "    <tr>\n",
       "      <th>2349</th>\n",
       "      <td>666049248165822465</td>\n",
       "      <td>41</td>\n",
       "      <td>111</td>\n",
       "    </tr>\n",
       "    <tr>\n",
       "      <th>2350</th>\n",
       "      <td>666044226329800704</td>\n",
       "      <td>147</td>\n",
       "      <td>311</td>\n",
       "    </tr>\n",
       "    <tr>\n",
       "      <th>2351</th>\n",
       "      <td>666033412701032449</td>\n",
       "      <td>47</td>\n",
       "      <td>128</td>\n",
       "    </tr>\n",
       "    <tr>\n",
       "      <th>2352</th>\n",
       "      <td>666029285002620928</td>\n",
       "      <td>48</td>\n",
       "      <td>132</td>\n",
       "    </tr>\n",
       "    <tr>\n",
       "      <th>2353</th>\n",
       "      <td>666020888022790149</td>\n",
       "      <td>532</td>\n",
       "      <td>2535</td>\n",
       "    </tr>\n",
       "  </tbody>\n",
       "</table>\n",
       "<p>2354 rows × 3 columns</p>\n",
       "</div>"
      ],
      "text/plain": [
       "                tweet_id  retweet_count  favorite_count\n",
       "0     892420643555336193           8853           39467\n",
       "1     892177421306343426           6514           33819\n",
       "2     891815181378084864           4328           25461\n",
       "3     891689557279858688           8964           42908\n",
       "4     891327558926688256           9774           41048\n",
       "...                  ...            ...             ...\n",
       "2349  666049248165822465             41             111\n",
       "2350  666044226329800704            147             311\n",
       "2351  666033412701032449             47             128\n",
       "2352  666029285002620928             48             132\n",
       "2353  666020888022790149            532            2535\n",
       "\n",
       "[2354 rows x 3 columns]"
      ]
     },
     "execution_count": 14,
     "metadata": {},
     "output_type": "execute_result"
    }
   ],
   "source": [
    "json_data"
   ]
  },
  {
   "cell_type": "markdown",
   "id": "atmospheric-checkout",
   "metadata": {},
   "source": [
    "_**Visual Assessment**_ show some issues in each piece of data:\n",
    "\n",
    "## `archive`\n",
    "### Quality\n",
    "- The **name** column has invalid names like \"a\", \"in\" and \"an\".\n",
    "\n",
    "- There are missing data in **name** and **expanded_urls** columns.\n",
    "\n",
    "- The **Key Points** indicates that we’re only interested in \"original tweets\", no \"retweets\"which stored in the columns **retweeted_status_id, retweeted_status_user_id, retweeted_status_timestamp**,\n",
    "\n",
    "- \"reply tweets\" are also not \"original tweets\" which stored in the columns **in_reply_to_status_id, in_reply_to_user_id**.\n",
    "\n",
    "### Tidiness\n",
    "\n",
    "- There are 4 columns for dog stages (**doggo, floofer, pupper, puppo**). The 4 columns for one variable doesn't conform to the rules of \"tidy data\". \n",
    "\n",
    "- column **rating_denominator**s is no longer needed because they are of the same 10 (not variable).\n",
    "\n",
    "\n",
    "## `predictions`\n",
    "\n",
    "### Quality:\n",
    "\n",
    "- There are 2075 image predictions, 281 less than the number of tweets in the archive, so will be classified as \"missing data\".\n",
    "\n",
    "\n",
    "### Tidness:\n",
    "\n",
    "- The table does not follow the rules of “Tidy Data”; the columns **p1**, **p2** and **p3** contain the same type of data, predictions. The columns **p1_conf**, **p2_conf** and **p3_conf** all contain values for confidence level, and columns **p1_dog**, **p2_dog** and **p3_dog** all contain Boolean values indicating whether the prediction is in fact a type of dog.\n",
    "\n",
    "\n",
    "## `json_data`\n",
    "\n",
    "### Tidness:\n",
    "\n",
    "\n",
    "- All data are related but devided into 3 separate dataframes"
   ]
  },
  {
   "cell_type": "markdown",
   "id": "positive-sunday",
   "metadata": {},
   "source": [
    "---\n",
    "<a id='prog'></a>\n",
    "\n",
    "## Programmatic assessment\n",
    "\n",
    "Pandas' functions and/or methods are used to assess the data."
   ]
  },
  {
   "cell_type": "markdown",
   "id": "textile-alexandria",
   "metadata": {},
   "source": [
    "---\n",
    "<a id='prog_archive'></a>\n",
    "## _**`archive`**_"
   ]
  },
  {
   "cell_type": "code",
   "execution_count": 15,
   "id": "weighted-least",
   "metadata": {},
   "outputs": [
    {
     "name": "stdout",
     "output_type": "stream",
     "text": [
      "<class 'pandas.core.frame.DataFrame'>\n",
      "RangeIndex: 2356 entries, 0 to 2355\n",
      "Data columns (total 17 columns):\n",
      " #   Column                      Non-Null Count  Dtype  \n",
      "---  ------                      --------------  -----  \n",
      " 0   tweet_id                    2356 non-null   int64  \n",
      " 1   in_reply_to_status_id       78 non-null     float64\n",
      " 2   in_reply_to_user_id         78 non-null     float64\n",
      " 3   timestamp                   2356 non-null   object \n",
      " 4   source                      2356 non-null   object \n",
      " 5   text                        2356 non-null   object \n",
      " 6   retweeted_status_id         181 non-null    float64\n",
      " 7   retweeted_status_user_id    181 non-null    float64\n",
      " 8   retweeted_status_timestamp  181 non-null    object \n",
      " 9   expanded_urls               2297 non-null   object \n",
      " 10  rating_numerator            2356 non-null   int64  \n",
      " 11  rating_denominator          2356 non-null   int64  \n",
      " 12  name                        2356 non-null   object \n",
      " 13  doggo                       2356 non-null   object \n",
      " 14  floofer                     2356 non-null   object \n",
      " 15  pupper                      2356 non-null   object \n",
      " 16  puppo                       2356 non-null   object \n",
      "dtypes: float64(4), int64(3), object(10)\n",
      "memory usage: 313.0+ KB\n"
     ]
    }
   ],
   "source": [
    "archive.info()"
   ]
  },
  {
   "cell_type": "markdown",
   "id": "broke-progressive",
   "metadata": {},
   "source": [
    "**_`info()`_** method shows us many issues:\n",
    "\n",
    "### Quality:\n",
    "\n",
    "- There are 181 retweets as indicated by (**retweeted_status_id, retweeted_status_user_id, retweeted_status_timestamp**).\n",
    " \n",
    "- **timestamp** data type is invalid (string not datetime)\n",
    "\n",
    "- There are 2297 tweets with **expanded_urls** (links to tweets) indicating 59 tweets with missing data\n",
    " \n",
    "- There are 78 reply tweets (**in_reply_to_status_id, in_reply_to_user_id**)\n",
    " \n",
    "### Tidness:\n",
    "- There are 4 columns for dog stages (**doggo, floofer, pupper, puppo**)\n"
   ]
  },
  {
   "cell_type": "code",
   "execution_count": 16,
   "id": "apart-module",
   "metadata": {},
   "outputs": [
    {
     "data": {
      "text/plain": [
       "0"
      ]
     },
     "execution_count": 16,
     "metadata": {},
     "output_type": "execute_result"
    }
   ],
   "source": [
    "sum(archive['tweet_id'].duplicated())"
   ]
  },
  {
   "cell_type": "code",
   "execution_count": 17,
   "id": "active-classroom",
   "metadata": {},
   "outputs": [
    {
     "data": {
      "text/html": [
       "<div>\n",
       "<style scoped>\n",
       "    .dataframe tbody tr th:only-of-type {\n",
       "        vertical-align: middle;\n",
       "    }\n",
       "\n",
       "    .dataframe tbody tr th {\n",
       "        vertical-align: top;\n",
       "    }\n",
       "\n",
       "    .dataframe thead th {\n",
       "        text-align: right;\n",
       "    }\n",
       "</style>\n",
       "<table border=\"1\" class=\"dataframe\">\n",
       "  <thead>\n",
       "    <tr style=\"text-align: right;\">\n",
       "      <th></th>\n",
       "      <th>tweet_id</th>\n",
       "      <th>in_reply_to_status_id</th>\n",
       "      <th>in_reply_to_user_id</th>\n",
       "      <th>timestamp</th>\n",
       "      <th>source</th>\n",
       "      <th>text</th>\n",
       "      <th>retweeted_status_id</th>\n",
       "      <th>retweeted_status_user_id</th>\n",
       "      <th>retweeted_status_timestamp</th>\n",
       "      <th>expanded_urls</th>\n",
       "      <th>rating_numerator</th>\n",
       "      <th>rating_denominator</th>\n",
       "      <th>name</th>\n",
       "      <th>doggo</th>\n",
       "      <th>floofer</th>\n",
       "      <th>pupper</th>\n",
       "      <th>puppo</th>\n",
       "    </tr>\n",
       "  </thead>\n",
       "  <tbody>\n",
       "    <tr>\n",
       "      <th>0</th>\n",
       "      <td>892420643555336193</td>\n",
       "      <td>NaN</td>\n",
       "      <td>NaN</td>\n",
       "      <td>2017-08-01 16:23:56 +0000</td>\n",
       "      <td>&lt;a href=\"http://twitter.com/download/iphone\" r...</td>\n",
       "      <td>This is Phineas. He's a mystical boy. Only eve...</td>\n",
       "      <td>NaN</td>\n",
       "      <td>NaN</td>\n",
       "      <td>NaN</td>\n",
       "      <td>https://twitter.com/dog_rates/status/892420643...</td>\n",
       "      <td>13</td>\n",
       "      <td>10</td>\n",
       "      <td>Phineas</td>\n",
       "      <td>None</td>\n",
       "      <td>None</td>\n",
       "      <td>None</td>\n",
       "      <td>None</td>\n",
       "    </tr>\n",
       "    <tr>\n",
       "      <th>1</th>\n",
       "      <td>892177421306343426</td>\n",
       "      <td>NaN</td>\n",
       "      <td>NaN</td>\n",
       "      <td>2017-08-01 00:17:27 +0000</td>\n",
       "      <td>&lt;a href=\"http://twitter.com/download/iphone\" r...</td>\n",
       "      <td>This is Tilly. She's just checking pup on you....</td>\n",
       "      <td>NaN</td>\n",
       "      <td>NaN</td>\n",
       "      <td>NaN</td>\n",
       "      <td>https://twitter.com/dog_rates/status/892177421...</td>\n",
       "      <td>13</td>\n",
       "      <td>10</td>\n",
       "      <td>Tilly</td>\n",
       "      <td>None</td>\n",
       "      <td>None</td>\n",
       "      <td>None</td>\n",
       "      <td>None</td>\n",
       "    </tr>\n",
       "    <tr>\n",
       "      <th>2</th>\n",
       "      <td>891815181378084864</td>\n",
       "      <td>NaN</td>\n",
       "      <td>NaN</td>\n",
       "      <td>2017-07-31 00:18:03 +0000</td>\n",
       "      <td>&lt;a href=\"http://twitter.com/download/iphone\" r...</td>\n",
       "      <td>This is Archie. He is a rare Norwegian Pouncin...</td>\n",
       "      <td>NaN</td>\n",
       "      <td>NaN</td>\n",
       "      <td>NaN</td>\n",
       "      <td>https://twitter.com/dog_rates/status/891815181...</td>\n",
       "      <td>12</td>\n",
       "      <td>10</td>\n",
       "      <td>Archie</td>\n",
       "      <td>None</td>\n",
       "      <td>None</td>\n",
       "      <td>None</td>\n",
       "      <td>None</td>\n",
       "    </tr>\n",
       "    <tr>\n",
       "      <th>3</th>\n",
       "      <td>891689557279858688</td>\n",
       "      <td>NaN</td>\n",
       "      <td>NaN</td>\n",
       "      <td>2017-07-30 15:58:51 +0000</td>\n",
       "      <td>&lt;a href=\"http://twitter.com/download/iphone\" r...</td>\n",
       "      <td>This is Darla. She commenced a snooze mid meal...</td>\n",
       "      <td>NaN</td>\n",
       "      <td>NaN</td>\n",
       "      <td>NaN</td>\n",
       "      <td>https://twitter.com/dog_rates/status/891689557...</td>\n",
       "      <td>13</td>\n",
       "      <td>10</td>\n",
       "      <td>Darla</td>\n",
       "      <td>None</td>\n",
       "      <td>None</td>\n",
       "      <td>None</td>\n",
       "      <td>None</td>\n",
       "    </tr>\n",
       "    <tr>\n",
       "      <th>4</th>\n",
       "      <td>891327558926688256</td>\n",
       "      <td>NaN</td>\n",
       "      <td>NaN</td>\n",
       "      <td>2017-07-29 16:00:24 +0000</td>\n",
       "      <td>&lt;a href=\"http://twitter.com/download/iphone\" r...</td>\n",
       "      <td>This is Franklin. He would like you to stop ca...</td>\n",
       "      <td>NaN</td>\n",
       "      <td>NaN</td>\n",
       "      <td>NaN</td>\n",
       "      <td>https://twitter.com/dog_rates/status/891327558...</td>\n",
       "      <td>12</td>\n",
       "      <td>10</td>\n",
       "      <td>Franklin</td>\n",
       "      <td>None</td>\n",
       "      <td>None</td>\n",
       "      <td>None</td>\n",
       "      <td>None</td>\n",
       "    </tr>\n",
       "    <tr>\n",
       "      <th>5</th>\n",
       "      <td>891087950875897856</td>\n",
       "      <td>NaN</td>\n",
       "      <td>NaN</td>\n",
       "      <td>2017-07-29 00:08:17 +0000</td>\n",
       "      <td>&lt;a href=\"http://twitter.com/download/iphone\" r...</td>\n",
       "      <td>Here we have a majestic great white breaching ...</td>\n",
       "      <td>NaN</td>\n",
       "      <td>NaN</td>\n",
       "      <td>NaN</td>\n",
       "      <td>https://twitter.com/dog_rates/status/891087950...</td>\n",
       "      <td>13</td>\n",
       "      <td>10</td>\n",
       "      <td>None</td>\n",
       "      <td>None</td>\n",
       "      <td>None</td>\n",
       "      <td>None</td>\n",
       "      <td>None</td>\n",
       "    </tr>\n",
       "    <tr>\n",
       "      <th>6</th>\n",
       "      <td>890971913173991426</td>\n",
       "      <td>NaN</td>\n",
       "      <td>NaN</td>\n",
       "      <td>2017-07-28 16:27:12 +0000</td>\n",
       "      <td>&lt;a href=\"http://twitter.com/download/iphone\" r...</td>\n",
       "      <td>Meet Jax. He enjoys ice cream so much he gets ...</td>\n",
       "      <td>NaN</td>\n",
       "      <td>NaN</td>\n",
       "      <td>NaN</td>\n",
       "      <td>https://gofundme.com/ydvmve-surgery-for-jax,ht...</td>\n",
       "      <td>13</td>\n",
       "      <td>10</td>\n",
       "      <td>Jax</td>\n",
       "      <td>None</td>\n",
       "      <td>None</td>\n",
       "      <td>None</td>\n",
       "      <td>None</td>\n",
       "    </tr>\n",
       "    <tr>\n",
       "      <th>7</th>\n",
       "      <td>890729181411237888</td>\n",
       "      <td>NaN</td>\n",
       "      <td>NaN</td>\n",
       "      <td>2017-07-28 00:22:40 +0000</td>\n",
       "      <td>&lt;a href=\"http://twitter.com/download/iphone\" r...</td>\n",
       "      <td>When you watch your owner call another dog a g...</td>\n",
       "      <td>NaN</td>\n",
       "      <td>NaN</td>\n",
       "      <td>NaN</td>\n",
       "      <td>https://twitter.com/dog_rates/status/890729181...</td>\n",
       "      <td>13</td>\n",
       "      <td>10</td>\n",
       "      <td>None</td>\n",
       "      <td>None</td>\n",
       "      <td>None</td>\n",
       "      <td>None</td>\n",
       "      <td>None</td>\n",
       "    </tr>\n",
       "    <tr>\n",
       "      <th>8</th>\n",
       "      <td>890609185150312448</td>\n",
       "      <td>NaN</td>\n",
       "      <td>NaN</td>\n",
       "      <td>2017-07-27 16:25:51 +0000</td>\n",
       "      <td>&lt;a href=\"http://twitter.com/download/iphone\" r...</td>\n",
       "      <td>This is Zoey. She doesn't want to be one of th...</td>\n",
       "      <td>NaN</td>\n",
       "      <td>NaN</td>\n",
       "      <td>NaN</td>\n",
       "      <td>https://twitter.com/dog_rates/status/890609185...</td>\n",
       "      <td>13</td>\n",
       "      <td>10</td>\n",
       "      <td>Zoey</td>\n",
       "      <td>None</td>\n",
       "      <td>None</td>\n",
       "      <td>None</td>\n",
       "      <td>None</td>\n",
       "    </tr>\n",
       "    <tr>\n",
       "      <th>9</th>\n",
       "      <td>890240255349198849</td>\n",
       "      <td>NaN</td>\n",
       "      <td>NaN</td>\n",
       "      <td>2017-07-26 15:59:51 +0000</td>\n",
       "      <td>&lt;a href=\"http://twitter.com/download/iphone\" r...</td>\n",
       "      <td>This is Cassie. She is a college pup. Studying...</td>\n",
       "      <td>NaN</td>\n",
       "      <td>NaN</td>\n",
       "      <td>NaN</td>\n",
       "      <td>https://twitter.com/dog_rates/status/890240255...</td>\n",
       "      <td>14</td>\n",
       "      <td>10</td>\n",
       "      <td>Cassie</td>\n",
       "      <td>doggo</td>\n",
       "      <td>None</td>\n",
       "      <td>None</td>\n",
       "      <td>None</td>\n",
       "    </tr>\n",
       "  </tbody>\n",
       "</table>\n",
       "</div>"
      ],
      "text/plain": [
       "             tweet_id  in_reply_to_status_id  in_reply_to_user_id  \\\n",
       "0  892420643555336193                    NaN                  NaN   \n",
       "1  892177421306343426                    NaN                  NaN   \n",
       "2  891815181378084864                    NaN                  NaN   \n",
       "3  891689557279858688                    NaN                  NaN   \n",
       "4  891327558926688256                    NaN                  NaN   \n",
       "5  891087950875897856                    NaN                  NaN   \n",
       "6  890971913173991426                    NaN                  NaN   \n",
       "7  890729181411237888                    NaN                  NaN   \n",
       "8  890609185150312448                    NaN                  NaN   \n",
       "9  890240255349198849                    NaN                  NaN   \n",
       "\n",
       "                   timestamp  \\\n",
       "0  2017-08-01 16:23:56 +0000   \n",
       "1  2017-08-01 00:17:27 +0000   \n",
       "2  2017-07-31 00:18:03 +0000   \n",
       "3  2017-07-30 15:58:51 +0000   \n",
       "4  2017-07-29 16:00:24 +0000   \n",
       "5  2017-07-29 00:08:17 +0000   \n",
       "6  2017-07-28 16:27:12 +0000   \n",
       "7  2017-07-28 00:22:40 +0000   \n",
       "8  2017-07-27 16:25:51 +0000   \n",
       "9  2017-07-26 15:59:51 +0000   \n",
       "\n",
       "                                              source  \\\n",
       "0  <a href=\"http://twitter.com/download/iphone\" r...   \n",
       "1  <a href=\"http://twitter.com/download/iphone\" r...   \n",
       "2  <a href=\"http://twitter.com/download/iphone\" r...   \n",
       "3  <a href=\"http://twitter.com/download/iphone\" r...   \n",
       "4  <a href=\"http://twitter.com/download/iphone\" r...   \n",
       "5  <a href=\"http://twitter.com/download/iphone\" r...   \n",
       "6  <a href=\"http://twitter.com/download/iphone\" r...   \n",
       "7  <a href=\"http://twitter.com/download/iphone\" r...   \n",
       "8  <a href=\"http://twitter.com/download/iphone\" r...   \n",
       "9  <a href=\"http://twitter.com/download/iphone\" r...   \n",
       "\n",
       "                                                text  retweeted_status_id  \\\n",
       "0  This is Phineas. He's a mystical boy. Only eve...                  NaN   \n",
       "1  This is Tilly. She's just checking pup on you....                  NaN   \n",
       "2  This is Archie. He is a rare Norwegian Pouncin...                  NaN   \n",
       "3  This is Darla. She commenced a snooze mid meal...                  NaN   \n",
       "4  This is Franklin. He would like you to stop ca...                  NaN   \n",
       "5  Here we have a majestic great white breaching ...                  NaN   \n",
       "6  Meet Jax. He enjoys ice cream so much he gets ...                  NaN   \n",
       "7  When you watch your owner call another dog a g...                  NaN   \n",
       "8  This is Zoey. She doesn't want to be one of th...                  NaN   \n",
       "9  This is Cassie. She is a college pup. Studying...                  NaN   \n",
       "\n",
       "   retweeted_status_user_id retweeted_status_timestamp  \\\n",
       "0                       NaN                        NaN   \n",
       "1                       NaN                        NaN   \n",
       "2                       NaN                        NaN   \n",
       "3                       NaN                        NaN   \n",
       "4                       NaN                        NaN   \n",
       "5                       NaN                        NaN   \n",
       "6                       NaN                        NaN   \n",
       "7                       NaN                        NaN   \n",
       "8                       NaN                        NaN   \n",
       "9                       NaN                        NaN   \n",
       "\n",
       "                                       expanded_urls  rating_numerator  \\\n",
       "0  https://twitter.com/dog_rates/status/892420643...                13   \n",
       "1  https://twitter.com/dog_rates/status/892177421...                13   \n",
       "2  https://twitter.com/dog_rates/status/891815181...                12   \n",
       "3  https://twitter.com/dog_rates/status/891689557...                13   \n",
       "4  https://twitter.com/dog_rates/status/891327558...                12   \n",
       "5  https://twitter.com/dog_rates/status/891087950...                13   \n",
       "6  https://gofundme.com/ydvmve-surgery-for-jax,ht...                13   \n",
       "7  https://twitter.com/dog_rates/status/890729181...                13   \n",
       "8  https://twitter.com/dog_rates/status/890609185...                13   \n",
       "9  https://twitter.com/dog_rates/status/890240255...                14   \n",
       "\n",
       "   rating_denominator      name  doggo floofer pupper puppo  \n",
       "0                  10   Phineas   None    None   None  None  \n",
       "1                  10     Tilly   None    None   None  None  \n",
       "2                  10    Archie   None    None   None  None  \n",
       "3                  10     Darla   None    None   None  None  \n",
       "4                  10  Franklin   None    None   None  None  \n",
       "5                  10      None   None    None   None  None  \n",
       "6                  10       Jax   None    None   None  None  \n",
       "7                  10      None   None    None   None  None  \n",
       "8                  10      Zoey   None    None   None  None  \n",
       "9                  10    Cassie  doggo    None   None  None  "
      ]
     },
     "execution_count": 17,
     "metadata": {},
     "output_type": "execute_result"
    }
   ],
   "source": [
    "archive.head(10)"
   ]
  },
  {
   "cell_type": "code",
   "execution_count": 18,
   "id": "adult-punishment",
   "metadata": {},
   "outputs": [
    {
     "data": {
      "text/html": [
       "<div>\n",
       "<style scoped>\n",
       "    .dataframe tbody tr th:only-of-type {\n",
       "        vertical-align: middle;\n",
       "    }\n",
       "\n",
       "    .dataframe tbody tr th {\n",
       "        vertical-align: top;\n",
       "    }\n",
       "\n",
       "    .dataframe thead th {\n",
       "        text-align: right;\n",
       "    }\n",
       "</style>\n",
       "<table border=\"1\" class=\"dataframe\">\n",
       "  <thead>\n",
       "    <tr style=\"text-align: right;\">\n",
       "      <th></th>\n",
       "      <th>tweet_id</th>\n",
       "      <th>in_reply_to_status_id</th>\n",
       "      <th>in_reply_to_user_id</th>\n",
       "      <th>timestamp</th>\n",
       "      <th>source</th>\n",
       "      <th>text</th>\n",
       "      <th>retweeted_status_id</th>\n",
       "      <th>retweeted_status_user_id</th>\n",
       "      <th>retweeted_status_timestamp</th>\n",
       "      <th>expanded_urls</th>\n",
       "      <th>rating_numerator</th>\n",
       "      <th>rating_denominator</th>\n",
       "      <th>name</th>\n",
       "      <th>doggo</th>\n",
       "      <th>floofer</th>\n",
       "      <th>pupper</th>\n",
       "      <th>puppo</th>\n",
       "    </tr>\n",
       "  </thead>\n",
       "  <tbody>\n",
       "    <tr>\n",
       "      <th>2346</th>\n",
       "      <td>666058600524156928</td>\n",
       "      <td>NaN</td>\n",
       "      <td>NaN</td>\n",
       "      <td>2015-11-16 01:01:59 +0000</td>\n",
       "      <td>&lt;a href=\"http://twitter.com/download/iphone\" r...</td>\n",
       "      <td>Here is the Rand Paul of retrievers folks! He'...</td>\n",
       "      <td>NaN</td>\n",
       "      <td>NaN</td>\n",
       "      <td>NaN</td>\n",
       "      <td>https://twitter.com/dog_rates/status/666058600...</td>\n",
       "      <td>8</td>\n",
       "      <td>10</td>\n",
       "      <td>the</td>\n",
       "      <td>None</td>\n",
       "      <td>None</td>\n",
       "      <td>None</td>\n",
       "      <td>None</td>\n",
       "    </tr>\n",
       "    <tr>\n",
       "      <th>2347</th>\n",
       "      <td>666057090499244032</td>\n",
       "      <td>NaN</td>\n",
       "      <td>NaN</td>\n",
       "      <td>2015-11-16 00:55:59 +0000</td>\n",
       "      <td>&lt;a href=\"http://twitter.com/download/iphone\" r...</td>\n",
       "      <td>My oh my. This is a rare blond Canadian terrie...</td>\n",
       "      <td>NaN</td>\n",
       "      <td>NaN</td>\n",
       "      <td>NaN</td>\n",
       "      <td>https://twitter.com/dog_rates/status/666057090...</td>\n",
       "      <td>9</td>\n",
       "      <td>10</td>\n",
       "      <td>a</td>\n",
       "      <td>None</td>\n",
       "      <td>None</td>\n",
       "      <td>None</td>\n",
       "      <td>None</td>\n",
       "    </tr>\n",
       "    <tr>\n",
       "      <th>2348</th>\n",
       "      <td>666055525042405380</td>\n",
       "      <td>NaN</td>\n",
       "      <td>NaN</td>\n",
       "      <td>2015-11-16 00:49:46 +0000</td>\n",
       "      <td>&lt;a href=\"http://twitter.com/download/iphone\" r...</td>\n",
       "      <td>Here is a Siberian heavily armored polar bear ...</td>\n",
       "      <td>NaN</td>\n",
       "      <td>NaN</td>\n",
       "      <td>NaN</td>\n",
       "      <td>https://twitter.com/dog_rates/status/666055525...</td>\n",
       "      <td>10</td>\n",
       "      <td>10</td>\n",
       "      <td>a</td>\n",
       "      <td>None</td>\n",
       "      <td>None</td>\n",
       "      <td>None</td>\n",
       "      <td>None</td>\n",
       "    </tr>\n",
       "    <tr>\n",
       "      <th>2349</th>\n",
       "      <td>666051853826850816</td>\n",
       "      <td>NaN</td>\n",
       "      <td>NaN</td>\n",
       "      <td>2015-11-16 00:35:11 +0000</td>\n",
       "      <td>&lt;a href=\"http://twitter.com/download/iphone\" r...</td>\n",
       "      <td>This is an odd dog. Hard on the outside but lo...</td>\n",
       "      <td>NaN</td>\n",
       "      <td>NaN</td>\n",
       "      <td>NaN</td>\n",
       "      <td>https://twitter.com/dog_rates/status/666051853...</td>\n",
       "      <td>2</td>\n",
       "      <td>10</td>\n",
       "      <td>an</td>\n",
       "      <td>None</td>\n",
       "      <td>None</td>\n",
       "      <td>None</td>\n",
       "      <td>None</td>\n",
       "    </tr>\n",
       "    <tr>\n",
       "      <th>2350</th>\n",
       "      <td>666050758794694657</td>\n",
       "      <td>NaN</td>\n",
       "      <td>NaN</td>\n",
       "      <td>2015-11-16 00:30:50 +0000</td>\n",
       "      <td>&lt;a href=\"http://twitter.com/download/iphone\" r...</td>\n",
       "      <td>This is a truly beautiful English Wilson Staff...</td>\n",
       "      <td>NaN</td>\n",
       "      <td>NaN</td>\n",
       "      <td>NaN</td>\n",
       "      <td>https://twitter.com/dog_rates/status/666050758...</td>\n",
       "      <td>10</td>\n",
       "      <td>10</td>\n",
       "      <td>a</td>\n",
       "      <td>None</td>\n",
       "      <td>None</td>\n",
       "      <td>None</td>\n",
       "      <td>None</td>\n",
       "    </tr>\n",
       "    <tr>\n",
       "      <th>2351</th>\n",
       "      <td>666049248165822465</td>\n",
       "      <td>NaN</td>\n",
       "      <td>NaN</td>\n",
       "      <td>2015-11-16 00:24:50 +0000</td>\n",
       "      <td>&lt;a href=\"http://twitter.com/download/iphone\" r...</td>\n",
       "      <td>Here we have a 1949 1st generation vulpix. Enj...</td>\n",
       "      <td>NaN</td>\n",
       "      <td>NaN</td>\n",
       "      <td>NaN</td>\n",
       "      <td>https://twitter.com/dog_rates/status/666049248...</td>\n",
       "      <td>5</td>\n",
       "      <td>10</td>\n",
       "      <td>None</td>\n",
       "      <td>None</td>\n",
       "      <td>None</td>\n",
       "      <td>None</td>\n",
       "      <td>None</td>\n",
       "    </tr>\n",
       "    <tr>\n",
       "      <th>2352</th>\n",
       "      <td>666044226329800704</td>\n",
       "      <td>NaN</td>\n",
       "      <td>NaN</td>\n",
       "      <td>2015-11-16 00:04:52 +0000</td>\n",
       "      <td>&lt;a href=\"http://twitter.com/download/iphone\" r...</td>\n",
       "      <td>This is a purebred Piers Morgan. Loves to Netf...</td>\n",
       "      <td>NaN</td>\n",
       "      <td>NaN</td>\n",
       "      <td>NaN</td>\n",
       "      <td>https://twitter.com/dog_rates/status/666044226...</td>\n",
       "      <td>6</td>\n",
       "      <td>10</td>\n",
       "      <td>a</td>\n",
       "      <td>None</td>\n",
       "      <td>None</td>\n",
       "      <td>None</td>\n",
       "      <td>None</td>\n",
       "    </tr>\n",
       "    <tr>\n",
       "      <th>2353</th>\n",
       "      <td>666033412701032449</td>\n",
       "      <td>NaN</td>\n",
       "      <td>NaN</td>\n",
       "      <td>2015-11-15 23:21:54 +0000</td>\n",
       "      <td>&lt;a href=\"http://twitter.com/download/iphone\" r...</td>\n",
       "      <td>Here is a very happy pup. Big fan of well-main...</td>\n",
       "      <td>NaN</td>\n",
       "      <td>NaN</td>\n",
       "      <td>NaN</td>\n",
       "      <td>https://twitter.com/dog_rates/status/666033412...</td>\n",
       "      <td>9</td>\n",
       "      <td>10</td>\n",
       "      <td>a</td>\n",
       "      <td>None</td>\n",
       "      <td>None</td>\n",
       "      <td>None</td>\n",
       "      <td>None</td>\n",
       "    </tr>\n",
       "    <tr>\n",
       "      <th>2354</th>\n",
       "      <td>666029285002620928</td>\n",
       "      <td>NaN</td>\n",
       "      <td>NaN</td>\n",
       "      <td>2015-11-15 23:05:30 +0000</td>\n",
       "      <td>&lt;a href=\"http://twitter.com/download/iphone\" r...</td>\n",
       "      <td>This is a western brown Mitsubishi terrier. Up...</td>\n",
       "      <td>NaN</td>\n",
       "      <td>NaN</td>\n",
       "      <td>NaN</td>\n",
       "      <td>https://twitter.com/dog_rates/status/666029285...</td>\n",
       "      <td>7</td>\n",
       "      <td>10</td>\n",
       "      <td>a</td>\n",
       "      <td>None</td>\n",
       "      <td>None</td>\n",
       "      <td>None</td>\n",
       "      <td>None</td>\n",
       "    </tr>\n",
       "    <tr>\n",
       "      <th>2355</th>\n",
       "      <td>666020888022790149</td>\n",
       "      <td>NaN</td>\n",
       "      <td>NaN</td>\n",
       "      <td>2015-11-15 22:32:08 +0000</td>\n",
       "      <td>&lt;a href=\"http://twitter.com/download/iphone\" r...</td>\n",
       "      <td>Here we have a Japanese Irish Setter. Lost eye...</td>\n",
       "      <td>NaN</td>\n",
       "      <td>NaN</td>\n",
       "      <td>NaN</td>\n",
       "      <td>https://twitter.com/dog_rates/status/666020888...</td>\n",
       "      <td>8</td>\n",
       "      <td>10</td>\n",
       "      <td>None</td>\n",
       "      <td>None</td>\n",
       "      <td>None</td>\n",
       "      <td>None</td>\n",
       "      <td>None</td>\n",
       "    </tr>\n",
       "  </tbody>\n",
       "</table>\n",
       "</div>"
      ],
      "text/plain": [
       "                tweet_id  in_reply_to_status_id  in_reply_to_user_id  \\\n",
       "2346  666058600524156928                    NaN                  NaN   \n",
       "2347  666057090499244032                    NaN                  NaN   \n",
       "2348  666055525042405380                    NaN                  NaN   \n",
       "2349  666051853826850816                    NaN                  NaN   \n",
       "2350  666050758794694657                    NaN                  NaN   \n",
       "2351  666049248165822465                    NaN                  NaN   \n",
       "2352  666044226329800704                    NaN                  NaN   \n",
       "2353  666033412701032449                    NaN                  NaN   \n",
       "2354  666029285002620928                    NaN                  NaN   \n",
       "2355  666020888022790149                    NaN                  NaN   \n",
       "\n",
       "                      timestamp  \\\n",
       "2346  2015-11-16 01:01:59 +0000   \n",
       "2347  2015-11-16 00:55:59 +0000   \n",
       "2348  2015-11-16 00:49:46 +0000   \n",
       "2349  2015-11-16 00:35:11 +0000   \n",
       "2350  2015-11-16 00:30:50 +0000   \n",
       "2351  2015-11-16 00:24:50 +0000   \n",
       "2352  2015-11-16 00:04:52 +0000   \n",
       "2353  2015-11-15 23:21:54 +0000   \n",
       "2354  2015-11-15 23:05:30 +0000   \n",
       "2355  2015-11-15 22:32:08 +0000   \n",
       "\n",
       "                                                 source  \\\n",
       "2346  <a href=\"http://twitter.com/download/iphone\" r...   \n",
       "2347  <a href=\"http://twitter.com/download/iphone\" r...   \n",
       "2348  <a href=\"http://twitter.com/download/iphone\" r...   \n",
       "2349  <a href=\"http://twitter.com/download/iphone\" r...   \n",
       "2350  <a href=\"http://twitter.com/download/iphone\" r...   \n",
       "2351  <a href=\"http://twitter.com/download/iphone\" r...   \n",
       "2352  <a href=\"http://twitter.com/download/iphone\" r...   \n",
       "2353  <a href=\"http://twitter.com/download/iphone\" r...   \n",
       "2354  <a href=\"http://twitter.com/download/iphone\" r...   \n",
       "2355  <a href=\"http://twitter.com/download/iphone\" r...   \n",
       "\n",
       "                                                   text  retweeted_status_id  \\\n",
       "2346  Here is the Rand Paul of retrievers folks! He'...                  NaN   \n",
       "2347  My oh my. This is a rare blond Canadian terrie...                  NaN   \n",
       "2348  Here is a Siberian heavily armored polar bear ...                  NaN   \n",
       "2349  This is an odd dog. Hard on the outside but lo...                  NaN   \n",
       "2350  This is a truly beautiful English Wilson Staff...                  NaN   \n",
       "2351  Here we have a 1949 1st generation vulpix. Enj...                  NaN   \n",
       "2352  This is a purebred Piers Morgan. Loves to Netf...                  NaN   \n",
       "2353  Here is a very happy pup. Big fan of well-main...                  NaN   \n",
       "2354  This is a western brown Mitsubishi terrier. Up...                  NaN   \n",
       "2355  Here we have a Japanese Irish Setter. Lost eye...                  NaN   \n",
       "\n",
       "      retweeted_status_user_id retweeted_status_timestamp  \\\n",
       "2346                       NaN                        NaN   \n",
       "2347                       NaN                        NaN   \n",
       "2348                       NaN                        NaN   \n",
       "2349                       NaN                        NaN   \n",
       "2350                       NaN                        NaN   \n",
       "2351                       NaN                        NaN   \n",
       "2352                       NaN                        NaN   \n",
       "2353                       NaN                        NaN   \n",
       "2354                       NaN                        NaN   \n",
       "2355                       NaN                        NaN   \n",
       "\n",
       "                                          expanded_urls  rating_numerator  \\\n",
       "2346  https://twitter.com/dog_rates/status/666058600...                 8   \n",
       "2347  https://twitter.com/dog_rates/status/666057090...                 9   \n",
       "2348  https://twitter.com/dog_rates/status/666055525...                10   \n",
       "2349  https://twitter.com/dog_rates/status/666051853...                 2   \n",
       "2350  https://twitter.com/dog_rates/status/666050758...                10   \n",
       "2351  https://twitter.com/dog_rates/status/666049248...                 5   \n",
       "2352  https://twitter.com/dog_rates/status/666044226...                 6   \n",
       "2353  https://twitter.com/dog_rates/status/666033412...                 9   \n",
       "2354  https://twitter.com/dog_rates/status/666029285...                 7   \n",
       "2355  https://twitter.com/dog_rates/status/666020888...                 8   \n",
       "\n",
       "      rating_denominator  name doggo floofer pupper puppo  \n",
       "2346                  10   the  None    None   None  None  \n",
       "2347                  10     a  None    None   None  None  \n",
       "2348                  10     a  None    None   None  None  \n",
       "2349                  10    an  None    None   None  None  \n",
       "2350                  10     a  None    None   None  None  \n",
       "2351                  10  None  None    None   None  None  \n",
       "2352                  10     a  None    None   None  None  \n",
       "2353                  10     a  None    None   None  None  \n",
       "2354                  10     a  None    None   None  None  \n",
       "2355                  10  None  None    None   None  None  "
      ]
     },
     "execution_count": 18,
     "metadata": {},
     "output_type": "execute_result"
    }
   ],
   "source": [
    "archive.tail(10)"
   ]
  },
  {
   "cell_type": "markdown",
   "id": "stylish-performance",
   "metadata": {},
   "source": [
    " The _**`head()`**_ and _**`tail()`**_ methods show us several issues:\n",
    "\n",
    "### Quality:\n",
    " - The **timestamp** column has dates in string form.\n",
    " - Some of the rows from the `tail()` output above have invalid strings in the **name** column, e.g. \"a\", \"an\", \"in\". \n",
    " - Values of \"None\" in the **name** column."
   ]
  },
  {
   "cell_type": "code",
   "execution_count": 19,
   "id": "frank-airport",
   "metadata": {},
   "outputs": [
    {
     "data": {
      "text/plain": [
       "None       745\n",
       "a           55\n",
       "Charlie     12\n",
       "Cooper      11\n",
       "Lucy        11\n",
       "Oliver      11\n",
       "Lola        10\n",
       "Tucker      10\n",
       "Penny       10\n",
       "Bo           9\n",
       "Winston      9\n",
       "Sadie        8\n",
       "the          8\n",
       "Buddy        7\n",
       "an           7\n",
       "Toby         7\n",
       "Bailey       7\n",
       "Daisy        7\n",
       "Oscar        6\n",
       "Milo         6\n",
       "Scout        6\n",
       "Koda         6\n",
       "Jack         6\n",
       "Bella        6\n",
       "Stanley      6\n",
       "Dave         6\n",
       "Jax          6\n",
       "Leo          6\n",
       "Rusty        6\n",
       "Bentley      5\n",
       "Louis        5\n",
       "Sammy        5\n",
       "George       5\n",
       "Finn         5\n",
       "Gus          5\n",
       "Phil         5\n",
       "Alfie        5\n",
       "Larry        5\n",
       "Oakley       5\n",
       "Sunny        5\n",
       "very         5\n",
       "Chester      5\n",
       "Boomer       4\n",
       "Bruce        4\n",
       "Gary         4\n",
       "Maggie       4\n",
       "Carl         4\n",
       "one          4\n",
       "Dexter       4\n",
       "Jerry        4\n",
       "Name: name, dtype: int64"
      ]
     },
     "execution_count": 19,
     "metadata": {},
     "output_type": "execute_result"
    }
   ],
   "source": [
    "#First we will check the 'name' column, starting with value counts.\n",
    "archive.name.value_counts().head(50)"
   ]
  },
  {
   "cell_type": "markdown",
   "id": "intermediate-disclosure",
   "metadata": {},
   "source": [
    "### Quality:\n",
    "- the dog names are all capitalized, so words that begin in lowercase are probably not names."
   ]
  },
  {
   "cell_type": "code",
   "execution_count": 20,
   "id": "variable-binding",
   "metadata": {},
   "outputs": [
    {
     "data": {
      "text/plain": [
       "a               55\n",
       "actually         2\n",
       "all              1\n",
       "an               7\n",
       "by               1\n",
       "getting          2\n",
       "his              1\n",
       "incredibly       1\n",
       "infuriating      1\n",
       "just             4\n",
       "life             1\n",
       "light            1\n",
       "mad              2\n",
       "my               1\n",
       "not              2\n",
       "officially       1\n",
       "old              1\n",
       "one              4\n",
       "quite            4\n",
       "space            1\n",
       "such             1\n",
       "the              8\n",
       "this             1\n",
       "unacceptable     1\n",
       "very             5\n",
       "Name: name, dtype: int64"
      ]
     },
     "execution_count": 20,
     "metadata": {},
     "output_type": "execute_result"
    }
   ],
   "source": [
    "# list all names that are NOT capitalized\n",
    "err_names_mask = archive.name.str.contains('^[a-z]', regex = True)\n",
    "archive[err_names_mask].name.value_counts().sort_index()"
   ]
  },
  {
   "cell_type": "code",
   "execution_count": 21,
   "id": "forty-arbor",
   "metadata": {},
   "outputs": [
    {
     "data": {
      "text/plain": [
       "109"
      ]
     },
     "execution_count": 21,
     "metadata": {},
     "output_type": "execute_result"
    }
   ],
   "source": [
    "len(archive[err_names_mask])"
   ]
  },
  {
   "cell_type": "markdown",
   "id": "actual-meter",
   "metadata": {},
   "source": [
    "### Quality:\n",
    "\n",
    "- This list contains non-capitalized words from the **name** column for 109 tweets, none of which are a valid name."
   ]
  },
  {
   "cell_type": "code",
   "execution_count": 22,
   "id": "offensive-waterproof",
   "metadata": {},
   "outputs": [
    {
     "data": {
      "text/plain": [
       "59"
      ]
     },
     "execution_count": 22,
     "metadata": {},
     "output_type": "execute_result"
    }
   ],
   "source": [
    "#Check the tweets that are missing data in `expanded_urls`\n",
    "#Number of tweets with missing urls\n",
    "sum(archive.expanded_urls.isna())"
   ]
  },
  {
   "cell_type": "code",
   "execution_count": 23,
   "id": "governing-geometry",
   "metadata": {},
   "outputs": [
    {
     "data": {
      "text/plain": [
       "56"
      ]
     },
     "execution_count": 23,
     "metadata": {},
     "output_type": "execute_result"
    }
   ],
   "source": [
    "#Find tweets with missing urls which are replies or retweets\n",
    "sum(archive.expanded_urls.isna() & \\\n",
    "    (archive.in_reply_to_status_id.notnull() | \\\n",
    "     archive.retweeted_status_id.notnull()))"
   ]
  },
  {
   "cell_type": "code",
   "execution_count": 24,
   "id": "departmental-slope",
   "metadata": {},
   "outputs": [
    {
     "data": {
      "text/html": [
       "<div>\n",
       "<style scoped>\n",
       "    .dataframe tbody tr th:only-of-type {\n",
       "        vertical-align: middle;\n",
       "    }\n",
       "\n",
       "    .dataframe tbody tr th {\n",
       "        vertical-align: top;\n",
       "    }\n",
       "\n",
       "    .dataframe thead th {\n",
       "        text-align: right;\n",
       "    }\n",
       "</style>\n",
       "<table border=\"1\" class=\"dataframe\">\n",
       "  <thead>\n",
       "    <tr style=\"text-align: right;\">\n",
       "      <th></th>\n",
       "      <th>tweet_id</th>\n",
       "      <th>text</th>\n",
       "      <th>expanded_urls</th>\n",
       "    </tr>\n",
       "  </thead>\n",
       "  <tbody>\n",
       "    <tr>\n",
       "      <th>375</th>\n",
       "      <td>828361771580813312</td>\n",
       "      <td>Beebop and Doobert should start a band 12/10 w...</td>\n",
       "      <td>NaN</td>\n",
       "    </tr>\n",
       "    <tr>\n",
       "      <th>707</th>\n",
       "      <td>785515384317313025</td>\n",
       "      <td>Today, 10/10, should be National Dog Rates Day</td>\n",
       "      <td>NaN</td>\n",
       "    </tr>\n",
       "    <tr>\n",
       "      <th>1445</th>\n",
       "      <td>696518437233913856</td>\n",
       "      <td>Oh my god 10/10 for every little hot dog pupper</td>\n",
       "      <td>NaN</td>\n",
       "    </tr>\n",
       "  </tbody>\n",
       "</table>\n",
       "</div>"
      ],
      "text/plain": [
       "                tweet_id                                               text  \\\n",
       "375   828361771580813312  Beebop and Doobert should start a band 12/10 w...   \n",
       "707   785515384317313025     Today, 10/10, should be National Dog Rates Day   \n",
       "1445  696518437233913856    Oh my god 10/10 for every little hot dog pupper   \n",
       "\n",
       "     expanded_urls  \n",
       "375            NaN  \n",
       "707            NaN  \n",
       "1445           NaN  "
      ]
     },
     "execution_count": 24,
     "metadata": {},
     "output_type": "execute_result"
    }
   ],
   "source": [
    "#Tweets that are missing urls and are NOT replies and are NOT retweets\n",
    "mask = archive.expanded_urls.isna() & \\\n",
    "       archive.in_reply_to_status_id.isna() & \\\n",
    "       archive.retweeted_status_id.isna()\n",
    "archive[mask][['tweet_id', 'text', 'expanded_urls']]"
   ]
  },
  {
   "cell_type": "markdown",
   "id": "atmospheric-composition",
   "metadata": {},
   "source": [
    "### Quality\n",
    "There are 2297 tweets with **expanded_urls** (links to the tweet), indicating 59 tweets with missing data:\n",
    "   1. 56 of these tweets are replies or retweets.\n",
    "   2. The remaining 3 tweets have not got the url within the **text** column."
   ]
  },
  {
   "cell_type": "code",
   "execution_count": 25,
   "id": "answering-columbus",
   "metadata": {},
   "outputs": [
    {
     "data": {
      "text/html": [
       "<div>\n",
       "<style scoped>\n",
       "    .dataframe tbody tr th:only-of-type {\n",
       "        vertical-align: middle;\n",
       "    }\n",
       "\n",
       "    .dataframe tbody tr th {\n",
       "        vertical-align: top;\n",
       "    }\n",
       "\n",
       "    .dataframe thead th {\n",
       "        text-align: right;\n",
       "    }\n",
       "</style>\n",
       "<table border=\"1\" class=\"dataframe\">\n",
       "  <thead>\n",
       "    <tr style=\"text-align: right;\">\n",
       "      <th></th>\n",
       "      <th>rating_numerator</th>\n",
       "      <th>rating_denominator</th>\n",
       "    </tr>\n",
       "  </thead>\n",
       "  <tbody>\n",
       "    <tr>\n",
       "      <th>count</th>\n",
       "      <td>2356.000000</td>\n",
       "      <td>2356.000000</td>\n",
       "    </tr>\n",
       "    <tr>\n",
       "      <th>mean</th>\n",
       "      <td>13.126486</td>\n",
       "      <td>10.455433</td>\n",
       "    </tr>\n",
       "    <tr>\n",
       "      <th>std</th>\n",
       "      <td>45.876648</td>\n",
       "      <td>6.745237</td>\n",
       "    </tr>\n",
       "    <tr>\n",
       "      <th>min</th>\n",
       "      <td>0.000000</td>\n",
       "      <td>0.000000</td>\n",
       "    </tr>\n",
       "    <tr>\n",
       "      <th>25%</th>\n",
       "      <td>10.000000</td>\n",
       "      <td>10.000000</td>\n",
       "    </tr>\n",
       "    <tr>\n",
       "      <th>50%</th>\n",
       "      <td>11.000000</td>\n",
       "      <td>10.000000</td>\n",
       "    </tr>\n",
       "    <tr>\n",
       "      <th>75%</th>\n",
       "      <td>12.000000</td>\n",
       "      <td>10.000000</td>\n",
       "    </tr>\n",
       "    <tr>\n",
       "      <th>max</th>\n",
       "      <td>1776.000000</td>\n",
       "      <td>170.000000</td>\n",
       "    </tr>\n",
       "  </tbody>\n",
       "</table>\n",
       "</div>"
      ],
      "text/plain": [
       "       rating_numerator  rating_denominator\n",
       "count       2356.000000         2356.000000\n",
       "mean          13.126486           10.455433\n",
       "std           45.876648            6.745237\n",
       "min            0.000000            0.000000\n",
       "25%           10.000000           10.000000\n",
       "50%           11.000000           10.000000\n",
       "75%           12.000000           10.000000\n",
       "max         1776.000000          170.000000"
      ]
     },
     "execution_count": 25,
     "metadata": {},
     "output_type": "execute_result"
    }
   ],
   "source": [
    "#`rating_numerator` and `rating_denominator`\n",
    "archive[['rating_numerator', 'rating_denominator']].describe()"
   ]
  },
  {
   "cell_type": "markdown",
   "id": "competent-japanese",
   "metadata": {},
   "source": [
    "_**`describe()`**_ method shows us some issues:\n",
    "\n",
    "### Quality\n",
    "\n",
    "- The max values are huge: 1776, 170.\n",
    " \n",
    "- The minimum is 0 for both."
   ]
  },
  {
   "cell_type": "code",
   "execution_count": 26,
   "id": "coordinated-racing",
   "metadata": {},
   "outputs": [
    {
     "data": {
      "text/plain": [
       "170       1\n",
       "150       1\n",
       "130       1\n",
       "120       1\n",
       "110       1\n",
       "90        1\n",
       "80        2\n",
       "70        1\n",
       "50        3\n",
       "40        1\n",
       "20        2\n",
       "16        1\n",
       "15        1\n",
       "11        3\n",
       "10     2333\n",
       "7         1\n",
       "2         1\n",
       "0         1\n",
       "Name: rating_denominator, dtype: int64"
      ]
     },
     "execution_count": 26,
     "metadata": {},
     "output_type": "execute_result"
    }
   ],
   "source": [
    "archive.rating_denominator.value_counts().sort_index(ascending = False)"
   ]
  },
  {
   "cell_type": "code",
   "execution_count": 27,
   "id": "other-essence",
   "metadata": {},
   "outputs": [
    {
     "data": {
      "text/plain": [
       "23"
      ]
     },
     "execution_count": 27,
     "metadata": {},
     "output_type": "execute_result"
    }
   ],
   "source": [
    "sum(archive.rating_denominator != 10)"
   ]
  },
  {
   "cell_type": "code",
   "execution_count": 28,
   "id": "rural-cornwall",
   "metadata": {
    "scrolled": true
   },
   "outputs": [
    {
     "data": {
      "text/html": [
       "<div>\n",
       "<style scoped>\n",
       "    .dataframe tbody tr th:only-of-type {\n",
       "        vertical-align: middle;\n",
       "    }\n",
       "\n",
       "    .dataframe tbody tr th {\n",
       "        vertical-align: top;\n",
       "    }\n",
       "\n",
       "    .dataframe thead th {\n",
       "        text-align: right;\n",
       "    }\n",
       "</style>\n",
       "<table border=\"1\" class=\"dataframe\">\n",
       "  <thead>\n",
       "    <tr style=\"text-align: right;\">\n",
       "      <th></th>\n",
       "      <th>text</th>\n",
       "      <th>tweet_id</th>\n",
       "      <th>rating_numerator</th>\n",
       "      <th>rating_denominator</th>\n",
       "    </tr>\n",
       "  </thead>\n",
       "  <tbody>\n",
       "    <tr>\n",
       "      <th>433</th>\n",
       "      <td>The floofs have been released I repeat the flo...</td>\n",
       "      <td>820690176645140481</td>\n",
       "      <td>84</td>\n",
       "      <td>70</td>\n",
       "    </tr>\n",
       "    <tr>\n",
       "      <th>516</th>\n",
       "      <td>Meet Sam. She smiles 24/7 &amp;amp; secretly aspir...</td>\n",
       "      <td>810984652412424192</td>\n",
       "      <td>24</td>\n",
       "      <td>7</td>\n",
       "    </tr>\n",
       "    <tr>\n",
       "      <th>902</th>\n",
       "      <td>Why does this never happen at my front door......</td>\n",
       "      <td>758467244762497024</td>\n",
       "      <td>165</td>\n",
       "      <td>150</td>\n",
       "    </tr>\n",
       "    <tr>\n",
       "      <th>1068</th>\n",
       "      <td>After so many requests, this is Bretagne. She ...</td>\n",
       "      <td>740373189193256964</td>\n",
       "      <td>9</td>\n",
       "      <td>11</td>\n",
       "    </tr>\n",
       "    <tr>\n",
       "      <th>1120</th>\n",
       "      <td>Say hello to this unbelievably well behaved sq...</td>\n",
       "      <td>731156023742988288</td>\n",
       "      <td>204</td>\n",
       "      <td>170</td>\n",
       "    </tr>\n",
       "    <tr>\n",
       "      <th>1165</th>\n",
       "      <td>Happy 4/20 from the squad! 13/10 for all https...</td>\n",
       "      <td>722974582966214656</td>\n",
       "      <td>4</td>\n",
       "      <td>20</td>\n",
       "    </tr>\n",
       "    <tr>\n",
       "      <th>1202</th>\n",
       "      <td>This is Bluebert. He just saw that both #Final...</td>\n",
       "      <td>716439118184652801</td>\n",
       "      <td>50</td>\n",
       "      <td>50</td>\n",
       "    </tr>\n",
       "    <tr>\n",
       "      <th>1228</th>\n",
       "      <td>Happy Saturday here's 9 puppers on a bench. 99...</td>\n",
       "      <td>713900603437621249</td>\n",
       "      <td>99</td>\n",
       "      <td>90</td>\n",
       "    </tr>\n",
       "    <tr>\n",
       "      <th>1254</th>\n",
       "      <td>Here's a brigade of puppers. All look very pre...</td>\n",
       "      <td>710658690886586372</td>\n",
       "      <td>80</td>\n",
       "      <td>80</td>\n",
       "    </tr>\n",
       "    <tr>\n",
       "      <th>1274</th>\n",
       "      <td>From left to right:\\nCletus, Jerome, Alejandro...</td>\n",
       "      <td>709198395643068416</td>\n",
       "      <td>45</td>\n",
       "      <td>50</td>\n",
       "    </tr>\n",
       "    <tr>\n",
       "      <th>1351</th>\n",
       "      <td>Here is a whole flock of puppers.  60/50 I'll ...</td>\n",
       "      <td>704054845121142784</td>\n",
       "      <td>60</td>\n",
       "      <td>50</td>\n",
       "    </tr>\n",
       "    <tr>\n",
       "      <th>1433</th>\n",
       "      <td>Happy Wednesday here's a bucket of pups. 44/40...</td>\n",
       "      <td>697463031882764288</td>\n",
       "      <td>44</td>\n",
       "      <td>40</td>\n",
       "    </tr>\n",
       "    <tr>\n",
       "      <th>1635</th>\n",
       "      <td>Someone help the girl is being mugged. Several...</td>\n",
       "      <td>684222868335505415</td>\n",
       "      <td>121</td>\n",
       "      <td>110</td>\n",
       "    </tr>\n",
       "    <tr>\n",
       "      <th>1662</th>\n",
       "      <td>This is Darrel. He just robbed a 7/11 and is i...</td>\n",
       "      <td>682962037429899265</td>\n",
       "      <td>7</td>\n",
       "      <td>11</td>\n",
       "    </tr>\n",
       "    <tr>\n",
       "      <th>1779</th>\n",
       "      <td>IT'S PUPPERGEDDON. Total of 144/120 ...I think...</td>\n",
       "      <td>677716515794329600</td>\n",
       "      <td>144</td>\n",
       "      <td>120</td>\n",
       "    </tr>\n",
       "    <tr>\n",
       "      <th>1843</th>\n",
       "      <td>Here we have an entire platoon of puppers. Tot...</td>\n",
       "      <td>675853064436391936</td>\n",
       "      <td>88</td>\n",
       "      <td>80</td>\n",
       "    </tr>\n",
       "    <tr>\n",
       "      <th>2335</th>\n",
       "      <td>This is an Albanian 3 1/2 legged  Episcopalian...</td>\n",
       "      <td>666287406224695296</td>\n",
       "      <td>1</td>\n",
       "      <td>2</td>\n",
       "    </tr>\n",
       "  </tbody>\n",
       "</table>\n",
       "</div>"
      ],
      "text/plain": [
       "                                                   text            tweet_id  \\\n",
       "433   The floofs have been released I repeat the flo...  820690176645140481   \n",
       "516   Meet Sam. She smiles 24/7 &amp; secretly aspir...  810984652412424192   \n",
       "902   Why does this never happen at my front door......  758467244762497024   \n",
       "1068  After so many requests, this is Bretagne. She ...  740373189193256964   \n",
       "1120  Say hello to this unbelievably well behaved sq...  731156023742988288   \n",
       "1165  Happy 4/20 from the squad! 13/10 for all https...  722974582966214656   \n",
       "1202  This is Bluebert. He just saw that both #Final...  716439118184652801   \n",
       "1228  Happy Saturday here's 9 puppers on a bench. 99...  713900603437621249   \n",
       "1254  Here's a brigade of puppers. All look very pre...  710658690886586372   \n",
       "1274  From left to right:\\nCletus, Jerome, Alejandro...  709198395643068416   \n",
       "1351  Here is a whole flock of puppers.  60/50 I'll ...  704054845121142784   \n",
       "1433  Happy Wednesday here's a bucket of pups. 44/40...  697463031882764288   \n",
       "1635  Someone help the girl is being mugged. Several...  684222868335505415   \n",
       "1662  This is Darrel. He just robbed a 7/11 and is i...  682962037429899265   \n",
       "1779  IT'S PUPPERGEDDON. Total of 144/120 ...I think...  677716515794329600   \n",
       "1843  Here we have an entire platoon of puppers. Tot...  675853064436391936   \n",
       "2335  This is an Albanian 3 1/2 legged  Episcopalian...  666287406224695296   \n",
       "\n",
       "      rating_numerator  rating_denominator  \n",
       "433                 84                  70  \n",
       "516                 24                   7  \n",
       "902                165                 150  \n",
       "1068                 9                  11  \n",
       "1120               204                 170  \n",
       "1165                 4                  20  \n",
       "1202                50                  50  \n",
       "1228                99                  90  \n",
       "1254                80                  80  \n",
       "1274                45                  50  \n",
       "1351                60                  50  \n",
       "1433                44                  40  \n",
       "1635               121                 110  \n",
       "1662                 7                  11  \n",
       "1779               144                 120  \n",
       "1843                88                  80  \n",
       "2335                 1                   2  "
      ]
     },
     "execution_count": 28,
     "metadata": {},
     "output_type": "execute_result"
    }
   ],
   "source": [
    "#It's interesting that many of the larger numbers are multiples of 10.\n",
    "#When looking at some of those tweets we see that there is more than 1 dog in the photo. \n",
    "#Ignoring the retweets and replies, we display tweets \n",
    "#that do NOT have denominator of 10, and are NOT replies and are NOT retweets\n",
    "mask_find = (archive.rating_denominator != 10) & \\\n",
    "            archive.in_reply_to_status_id.isna() & \\\n",
    "            archive.retweeted_status_id.isna()\n",
    "\n",
    "mask_cols = ['text', 'tweet_id', 'rating_numerator', 'rating_denominator']\n",
    "archive[mask_find][mask_cols]"
   ]
  },
  {
   "cell_type": "code",
   "execution_count": 29,
   "id": "vulnerable-georgia",
   "metadata": {},
   "outputs": [
    {
     "data": {
      "text/plain": [
       "17"
      ]
     },
     "execution_count": 29,
     "metadata": {},
     "output_type": "execute_result"
    }
   ],
   "source": [
    "sum(mask_find)"
   ]
  },
  {
   "cell_type": "markdown",
   "id": "lovely-evidence",
   "metadata": {},
   "source": [
    "**_`rating_denominator`_** show us an issue of \n",
    "\n",
    "### Quality\n",
    "-There are 17 tweets with denominators that aren't 10, ignoring the replies and retweets.\n",
    "\n",
    "-Many of these which are multiples of 10 are about multiple dogs, and the text indicates this, like \"floofs\", \"puppers\", \"squad\" and \"pups\""
   ]
  },
  {
   "cell_type": "code",
   "execution_count": 30,
   "id": "minute-bacon",
   "metadata": {},
   "outputs": [
    {
     "data": {
      "text/plain": [
       "None     2259\n",
       "doggo      97\n",
       "Name: doggo, dtype: int64"
      ]
     },
     "execution_count": 30,
     "metadata": {},
     "output_type": "execute_result"
    }
   ],
   "source": [
    "#doggo, floofer, pupper, and puppo\n",
    "archive.doggo.value_counts()"
   ]
  },
  {
   "cell_type": "code",
   "execution_count": 31,
   "id": "welcome-magazine",
   "metadata": {},
   "outputs": [
    {
     "data": {
      "text/plain": [
       "None       2346\n",
       "floofer      10\n",
       "Name: floofer, dtype: int64"
      ]
     },
     "execution_count": 31,
     "metadata": {},
     "output_type": "execute_result"
    }
   ],
   "source": [
    "archive.floofer.value_counts()"
   ]
  },
  {
   "cell_type": "code",
   "execution_count": 32,
   "id": "metallic-jurisdiction",
   "metadata": {},
   "outputs": [
    {
     "data": {
      "text/plain": [
       "None      2099\n",
       "pupper     257\n",
       "Name: pupper, dtype: int64"
      ]
     },
     "execution_count": 32,
     "metadata": {},
     "output_type": "execute_result"
    }
   ],
   "source": [
    "archive.pupper.value_counts()"
   ]
  },
  {
   "cell_type": "code",
   "execution_count": 33,
   "id": "stunning-baghdad",
   "metadata": {},
   "outputs": [
    {
     "data": {
      "text/plain": [
       "None     2326\n",
       "puppo      30\n",
       "Name: puppo, dtype: int64"
      ]
     },
     "execution_count": 33,
     "metadata": {},
     "output_type": "execute_result"
    }
   ],
   "source": [
    "archive.puppo.value_counts()"
   ]
  },
  {
   "cell_type": "markdown",
   "id": "circular-relevance",
   "metadata": {},
   "source": [
    "---\n",
    "<a id='prog_predictions'></a>\n",
    "\n",
    "## _**`predictions`**_"
   ]
  },
  {
   "cell_type": "code",
   "execution_count": 34,
   "id": "specialized-allen",
   "metadata": {},
   "outputs": [
    {
     "name": "stdout",
     "output_type": "stream",
     "text": [
      "<class 'pandas.core.frame.DataFrame'>\n",
      "RangeIndex: 2075 entries, 0 to 2074\n",
      "Data columns (total 12 columns):\n",
      " #   Column    Non-Null Count  Dtype  \n",
      "---  ------    --------------  -----  \n",
      " 0   tweet_id  2075 non-null   int64  \n",
      " 1   jpg_url   2075 non-null   object \n",
      " 2   img_num   2075 non-null   int64  \n",
      " 3   p1        2075 non-null   object \n",
      " 4   p1_conf   2075 non-null   float64\n",
      " 5   p1_dog    2075 non-null   bool   \n",
      " 6   p2        2075 non-null   object \n",
      " 7   p2_conf   2075 non-null   float64\n",
      " 8   p2_dog    2075 non-null   bool   \n",
      " 9   p3        2075 non-null   object \n",
      " 10  p3_conf   2075 non-null   float64\n",
      " 11  p3_dog    2075 non-null   bool   \n",
      "dtypes: bool(3), float64(3), int64(2), object(4)\n",
      "memory usage: 152.1+ KB\n"
     ]
    }
   ],
   "source": [
    "predictions.info()"
   ]
  },
  {
   "cell_type": "code",
   "execution_count": 35,
   "id": "restricted-beast",
   "metadata": {},
   "outputs": [
    {
     "data": {
      "text/html": [
       "<div>\n",
       "<style scoped>\n",
       "    .dataframe tbody tr th:only-of-type {\n",
       "        vertical-align: middle;\n",
       "    }\n",
       "\n",
       "    .dataframe tbody tr th {\n",
       "        vertical-align: top;\n",
       "    }\n",
       "\n",
       "    .dataframe thead th {\n",
       "        text-align: right;\n",
       "    }\n",
       "</style>\n",
       "<table border=\"1\" class=\"dataframe\">\n",
       "  <thead>\n",
       "    <tr style=\"text-align: right;\">\n",
       "      <th></th>\n",
       "      <th>tweet_id</th>\n",
       "      <th>jpg_url</th>\n",
       "      <th>img_num</th>\n",
       "      <th>p1</th>\n",
       "      <th>p1_conf</th>\n",
       "      <th>p1_dog</th>\n",
       "      <th>p2</th>\n",
       "      <th>p2_conf</th>\n",
       "      <th>p2_dog</th>\n",
       "      <th>p3</th>\n",
       "      <th>p3_conf</th>\n",
       "      <th>p3_dog</th>\n",
       "    </tr>\n",
       "  </thead>\n",
       "  <tbody>\n",
       "    <tr>\n",
       "      <th>0</th>\n",
       "      <td>666020888022790149</td>\n",
       "      <td>https://pbs.twimg.com/media/CT4udn0WwAA0aMy.jpg</td>\n",
       "      <td>1</td>\n",
       "      <td>Welsh_springer_spaniel</td>\n",
       "      <td>0.465074</td>\n",
       "      <td>True</td>\n",
       "      <td>collie</td>\n",
       "      <td>0.156665</td>\n",
       "      <td>True</td>\n",
       "      <td>Shetland_sheepdog</td>\n",
       "      <td>0.061428</td>\n",
       "      <td>True</td>\n",
       "    </tr>\n",
       "    <tr>\n",
       "      <th>1</th>\n",
       "      <td>666029285002620928</td>\n",
       "      <td>https://pbs.twimg.com/media/CT42GRgUYAA5iDo.jpg</td>\n",
       "      <td>1</td>\n",
       "      <td>redbone</td>\n",
       "      <td>0.506826</td>\n",
       "      <td>True</td>\n",
       "      <td>miniature_pinscher</td>\n",
       "      <td>0.074192</td>\n",
       "      <td>True</td>\n",
       "      <td>Rhodesian_ridgeback</td>\n",
       "      <td>0.072010</td>\n",
       "      <td>True</td>\n",
       "    </tr>\n",
       "    <tr>\n",
       "      <th>2</th>\n",
       "      <td>666033412701032449</td>\n",
       "      <td>https://pbs.twimg.com/media/CT4521TWwAEvMyu.jpg</td>\n",
       "      <td>1</td>\n",
       "      <td>German_shepherd</td>\n",
       "      <td>0.596461</td>\n",
       "      <td>True</td>\n",
       "      <td>malinois</td>\n",
       "      <td>0.138584</td>\n",
       "      <td>True</td>\n",
       "      <td>bloodhound</td>\n",
       "      <td>0.116197</td>\n",
       "      <td>True</td>\n",
       "    </tr>\n",
       "    <tr>\n",
       "      <th>3</th>\n",
       "      <td>666044226329800704</td>\n",
       "      <td>https://pbs.twimg.com/media/CT5Dr8HUEAA-lEu.jpg</td>\n",
       "      <td>1</td>\n",
       "      <td>Rhodesian_ridgeback</td>\n",
       "      <td>0.408143</td>\n",
       "      <td>True</td>\n",
       "      <td>redbone</td>\n",
       "      <td>0.360687</td>\n",
       "      <td>True</td>\n",
       "      <td>miniature_pinscher</td>\n",
       "      <td>0.222752</td>\n",
       "      <td>True</td>\n",
       "    </tr>\n",
       "    <tr>\n",
       "      <th>4</th>\n",
       "      <td>666049248165822465</td>\n",
       "      <td>https://pbs.twimg.com/media/CT5IQmsXIAAKY4A.jpg</td>\n",
       "      <td>1</td>\n",
       "      <td>miniature_pinscher</td>\n",
       "      <td>0.560311</td>\n",
       "      <td>True</td>\n",
       "      <td>Rottweiler</td>\n",
       "      <td>0.243682</td>\n",
       "      <td>True</td>\n",
       "      <td>Doberman</td>\n",
       "      <td>0.154629</td>\n",
       "      <td>True</td>\n",
       "    </tr>\n",
       "    <tr>\n",
       "      <th>5</th>\n",
       "      <td>666050758794694657</td>\n",
       "      <td>https://pbs.twimg.com/media/CT5Jof1WUAEuVxN.jpg</td>\n",
       "      <td>1</td>\n",
       "      <td>Bernese_mountain_dog</td>\n",
       "      <td>0.651137</td>\n",
       "      <td>True</td>\n",
       "      <td>English_springer</td>\n",
       "      <td>0.263788</td>\n",
       "      <td>True</td>\n",
       "      <td>Greater_Swiss_Mountain_dog</td>\n",
       "      <td>0.016199</td>\n",
       "      <td>True</td>\n",
       "    </tr>\n",
       "    <tr>\n",
       "      <th>6</th>\n",
       "      <td>666051853826850816</td>\n",
       "      <td>https://pbs.twimg.com/media/CT5KoJ1WoAAJash.jpg</td>\n",
       "      <td>1</td>\n",
       "      <td>box_turtle</td>\n",
       "      <td>0.933012</td>\n",
       "      <td>False</td>\n",
       "      <td>mud_turtle</td>\n",
       "      <td>0.045885</td>\n",
       "      <td>False</td>\n",
       "      <td>terrapin</td>\n",
       "      <td>0.017885</td>\n",
       "      <td>False</td>\n",
       "    </tr>\n",
       "    <tr>\n",
       "      <th>7</th>\n",
       "      <td>666055525042405380</td>\n",
       "      <td>https://pbs.twimg.com/media/CT5N9tpXIAAifs1.jpg</td>\n",
       "      <td>1</td>\n",
       "      <td>chow</td>\n",
       "      <td>0.692517</td>\n",
       "      <td>True</td>\n",
       "      <td>Tibetan_mastiff</td>\n",
       "      <td>0.058279</td>\n",
       "      <td>True</td>\n",
       "      <td>fur_coat</td>\n",
       "      <td>0.054449</td>\n",
       "      <td>False</td>\n",
       "    </tr>\n",
       "    <tr>\n",
       "      <th>8</th>\n",
       "      <td>666057090499244032</td>\n",
       "      <td>https://pbs.twimg.com/media/CT5PY90WoAAQGLo.jpg</td>\n",
       "      <td>1</td>\n",
       "      <td>shopping_cart</td>\n",
       "      <td>0.962465</td>\n",
       "      <td>False</td>\n",
       "      <td>shopping_basket</td>\n",
       "      <td>0.014594</td>\n",
       "      <td>False</td>\n",
       "      <td>golden_retriever</td>\n",
       "      <td>0.007959</td>\n",
       "      <td>True</td>\n",
       "    </tr>\n",
       "    <tr>\n",
       "      <th>9</th>\n",
       "      <td>666058600524156928</td>\n",
       "      <td>https://pbs.twimg.com/media/CT5Qw94XAAA_2dP.jpg</td>\n",
       "      <td>1</td>\n",
       "      <td>miniature_poodle</td>\n",
       "      <td>0.201493</td>\n",
       "      <td>True</td>\n",
       "      <td>komondor</td>\n",
       "      <td>0.192305</td>\n",
       "      <td>True</td>\n",
       "      <td>soft-coated_wheaten_terrier</td>\n",
       "      <td>0.082086</td>\n",
       "      <td>True</td>\n",
       "    </tr>\n",
       "    <tr>\n",
       "      <th>10</th>\n",
       "      <td>666063827256086533</td>\n",
       "      <td>https://pbs.twimg.com/media/CT5Vg_wXIAAXfnj.jpg</td>\n",
       "      <td>1</td>\n",
       "      <td>golden_retriever</td>\n",
       "      <td>0.775930</td>\n",
       "      <td>True</td>\n",
       "      <td>Tibetan_mastiff</td>\n",
       "      <td>0.093718</td>\n",
       "      <td>True</td>\n",
       "      <td>Labrador_retriever</td>\n",
       "      <td>0.072427</td>\n",
       "      <td>True</td>\n",
       "    </tr>\n",
       "    <tr>\n",
       "      <th>11</th>\n",
       "      <td>666071193221509120</td>\n",
       "      <td>https://pbs.twimg.com/media/CT5cN_3WEAAlOoZ.jpg</td>\n",
       "      <td>1</td>\n",
       "      <td>Gordon_setter</td>\n",
       "      <td>0.503672</td>\n",
       "      <td>True</td>\n",
       "      <td>Yorkshire_terrier</td>\n",
       "      <td>0.174201</td>\n",
       "      <td>True</td>\n",
       "      <td>Pekinese</td>\n",
       "      <td>0.109454</td>\n",
       "      <td>True</td>\n",
       "    </tr>\n",
       "    <tr>\n",
       "      <th>12</th>\n",
       "      <td>666073100786774016</td>\n",
       "      <td>https://pbs.twimg.com/media/CT5d9DZXAAALcwe.jpg</td>\n",
       "      <td>1</td>\n",
       "      <td>Walker_hound</td>\n",
       "      <td>0.260857</td>\n",
       "      <td>True</td>\n",
       "      <td>English_foxhound</td>\n",
       "      <td>0.175382</td>\n",
       "      <td>True</td>\n",
       "      <td>Ibizan_hound</td>\n",
       "      <td>0.097471</td>\n",
       "      <td>True</td>\n",
       "    </tr>\n",
       "    <tr>\n",
       "      <th>13</th>\n",
       "      <td>666082916733198337</td>\n",
       "      <td>https://pbs.twimg.com/media/CT5m4VGWEAAtKc8.jpg</td>\n",
       "      <td>1</td>\n",
       "      <td>pug</td>\n",
       "      <td>0.489814</td>\n",
       "      <td>True</td>\n",
       "      <td>bull_mastiff</td>\n",
       "      <td>0.404722</td>\n",
       "      <td>True</td>\n",
       "      <td>French_bulldog</td>\n",
       "      <td>0.048960</td>\n",
       "      <td>True</td>\n",
       "    </tr>\n",
       "    <tr>\n",
       "      <th>14</th>\n",
       "      <td>666094000022159362</td>\n",
       "      <td>https://pbs.twimg.com/media/CT5w9gUW4AAsBNN.jpg</td>\n",
       "      <td>1</td>\n",
       "      <td>bloodhound</td>\n",
       "      <td>0.195217</td>\n",
       "      <td>True</td>\n",
       "      <td>German_shepherd</td>\n",
       "      <td>0.078260</td>\n",
       "      <td>True</td>\n",
       "      <td>malinois</td>\n",
       "      <td>0.075628</td>\n",
       "      <td>True</td>\n",
       "    </tr>\n",
       "    <tr>\n",
       "      <th>15</th>\n",
       "      <td>666099513787052032</td>\n",
       "      <td>https://pbs.twimg.com/media/CT51-JJUEAA6hV8.jpg</td>\n",
       "      <td>1</td>\n",
       "      <td>Lhasa</td>\n",
       "      <td>0.582330</td>\n",
       "      <td>True</td>\n",
       "      <td>Shih-Tzu</td>\n",
       "      <td>0.166192</td>\n",
       "      <td>True</td>\n",
       "      <td>Dandie_Dinmont</td>\n",
       "      <td>0.089688</td>\n",
       "      <td>True</td>\n",
       "    </tr>\n",
       "    <tr>\n",
       "      <th>16</th>\n",
       "      <td>666102155909144576</td>\n",
       "      <td>https://pbs.twimg.com/media/CT54YGiWUAEZnoK.jpg</td>\n",
       "      <td>1</td>\n",
       "      <td>English_setter</td>\n",
       "      <td>0.298617</td>\n",
       "      <td>True</td>\n",
       "      <td>Newfoundland</td>\n",
       "      <td>0.149842</td>\n",
       "      <td>True</td>\n",
       "      <td>borzoi</td>\n",
       "      <td>0.133649</td>\n",
       "      <td>True</td>\n",
       "    </tr>\n",
       "    <tr>\n",
       "      <th>17</th>\n",
       "      <td>666104133288665088</td>\n",
       "      <td>https://pbs.twimg.com/media/CT56LSZWoAAlJj2.jpg</td>\n",
       "      <td>1</td>\n",
       "      <td>hen</td>\n",
       "      <td>0.965932</td>\n",
       "      <td>False</td>\n",
       "      <td>cock</td>\n",
       "      <td>0.033919</td>\n",
       "      <td>False</td>\n",
       "      <td>partridge</td>\n",
       "      <td>0.000052</td>\n",
       "      <td>False</td>\n",
       "    </tr>\n",
       "    <tr>\n",
       "      <th>18</th>\n",
       "      <td>666268910803644416</td>\n",
       "      <td>https://pbs.twimg.com/media/CT8QCd1WEAADXws.jpg</td>\n",
       "      <td>1</td>\n",
       "      <td>desktop_computer</td>\n",
       "      <td>0.086502</td>\n",
       "      <td>False</td>\n",
       "      <td>desk</td>\n",
       "      <td>0.085547</td>\n",
       "      <td>False</td>\n",
       "      <td>bookcase</td>\n",
       "      <td>0.079480</td>\n",
       "      <td>False</td>\n",
       "    </tr>\n",
       "    <tr>\n",
       "      <th>19</th>\n",
       "      <td>666273097616637952</td>\n",
       "      <td>https://pbs.twimg.com/media/CT8T1mtUwAA3aqm.jpg</td>\n",
       "      <td>1</td>\n",
       "      <td>Italian_greyhound</td>\n",
       "      <td>0.176053</td>\n",
       "      <td>True</td>\n",
       "      <td>toy_terrier</td>\n",
       "      <td>0.111884</td>\n",
       "      <td>True</td>\n",
       "      <td>basenji</td>\n",
       "      <td>0.111152</td>\n",
       "      <td>True</td>\n",
       "    </tr>\n",
       "  </tbody>\n",
       "</table>\n",
       "</div>"
      ],
      "text/plain": [
       "              tweet_id                                          jpg_url  \\\n",
       "0   666020888022790149  https://pbs.twimg.com/media/CT4udn0WwAA0aMy.jpg   \n",
       "1   666029285002620928  https://pbs.twimg.com/media/CT42GRgUYAA5iDo.jpg   \n",
       "2   666033412701032449  https://pbs.twimg.com/media/CT4521TWwAEvMyu.jpg   \n",
       "3   666044226329800704  https://pbs.twimg.com/media/CT5Dr8HUEAA-lEu.jpg   \n",
       "4   666049248165822465  https://pbs.twimg.com/media/CT5IQmsXIAAKY4A.jpg   \n",
       "5   666050758794694657  https://pbs.twimg.com/media/CT5Jof1WUAEuVxN.jpg   \n",
       "6   666051853826850816  https://pbs.twimg.com/media/CT5KoJ1WoAAJash.jpg   \n",
       "7   666055525042405380  https://pbs.twimg.com/media/CT5N9tpXIAAifs1.jpg   \n",
       "8   666057090499244032  https://pbs.twimg.com/media/CT5PY90WoAAQGLo.jpg   \n",
       "9   666058600524156928  https://pbs.twimg.com/media/CT5Qw94XAAA_2dP.jpg   \n",
       "10  666063827256086533  https://pbs.twimg.com/media/CT5Vg_wXIAAXfnj.jpg   \n",
       "11  666071193221509120  https://pbs.twimg.com/media/CT5cN_3WEAAlOoZ.jpg   \n",
       "12  666073100786774016  https://pbs.twimg.com/media/CT5d9DZXAAALcwe.jpg   \n",
       "13  666082916733198337  https://pbs.twimg.com/media/CT5m4VGWEAAtKc8.jpg   \n",
       "14  666094000022159362  https://pbs.twimg.com/media/CT5w9gUW4AAsBNN.jpg   \n",
       "15  666099513787052032  https://pbs.twimg.com/media/CT51-JJUEAA6hV8.jpg   \n",
       "16  666102155909144576  https://pbs.twimg.com/media/CT54YGiWUAEZnoK.jpg   \n",
       "17  666104133288665088  https://pbs.twimg.com/media/CT56LSZWoAAlJj2.jpg   \n",
       "18  666268910803644416  https://pbs.twimg.com/media/CT8QCd1WEAADXws.jpg   \n",
       "19  666273097616637952  https://pbs.twimg.com/media/CT8T1mtUwAA3aqm.jpg   \n",
       "\n",
       "    img_num                      p1   p1_conf  p1_dog                  p2  \\\n",
       "0         1  Welsh_springer_spaniel  0.465074    True              collie   \n",
       "1         1                 redbone  0.506826    True  miniature_pinscher   \n",
       "2         1         German_shepherd  0.596461    True            malinois   \n",
       "3         1     Rhodesian_ridgeback  0.408143    True             redbone   \n",
       "4         1      miniature_pinscher  0.560311    True          Rottweiler   \n",
       "5         1    Bernese_mountain_dog  0.651137    True    English_springer   \n",
       "6         1              box_turtle  0.933012   False          mud_turtle   \n",
       "7         1                    chow  0.692517    True     Tibetan_mastiff   \n",
       "8         1           shopping_cart  0.962465   False     shopping_basket   \n",
       "9         1        miniature_poodle  0.201493    True            komondor   \n",
       "10        1        golden_retriever  0.775930    True     Tibetan_mastiff   \n",
       "11        1           Gordon_setter  0.503672    True   Yorkshire_terrier   \n",
       "12        1            Walker_hound  0.260857    True    English_foxhound   \n",
       "13        1                     pug  0.489814    True        bull_mastiff   \n",
       "14        1              bloodhound  0.195217    True     German_shepherd   \n",
       "15        1                   Lhasa  0.582330    True            Shih-Tzu   \n",
       "16        1          English_setter  0.298617    True        Newfoundland   \n",
       "17        1                     hen  0.965932   False                cock   \n",
       "18        1        desktop_computer  0.086502   False                desk   \n",
       "19        1       Italian_greyhound  0.176053    True         toy_terrier   \n",
       "\n",
       "     p2_conf  p2_dog                           p3   p3_conf  p3_dog  \n",
       "0   0.156665    True            Shetland_sheepdog  0.061428    True  \n",
       "1   0.074192    True          Rhodesian_ridgeback  0.072010    True  \n",
       "2   0.138584    True                   bloodhound  0.116197    True  \n",
       "3   0.360687    True           miniature_pinscher  0.222752    True  \n",
       "4   0.243682    True                     Doberman  0.154629    True  \n",
       "5   0.263788    True   Greater_Swiss_Mountain_dog  0.016199    True  \n",
       "6   0.045885   False                     terrapin  0.017885   False  \n",
       "7   0.058279    True                     fur_coat  0.054449   False  \n",
       "8   0.014594   False             golden_retriever  0.007959    True  \n",
       "9   0.192305    True  soft-coated_wheaten_terrier  0.082086    True  \n",
       "10  0.093718    True           Labrador_retriever  0.072427    True  \n",
       "11  0.174201    True                     Pekinese  0.109454    True  \n",
       "12  0.175382    True                 Ibizan_hound  0.097471    True  \n",
       "13  0.404722    True               French_bulldog  0.048960    True  \n",
       "14  0.078260    True                     malinois  0.075628    True  \n",
       "15  0.166192    True               Dandie_Dinmont  0.089688    True  \n",
       "16  0.149842    True                       borzoi  0.133649    True  \n",
       "17  0.033919   False                    partridge  0.000052   False  \n",
       "18  0.085547   False                     bookcase  0.079480   False  \n",
       "19  0.111884    True                      basenji  0.111152    True  "
      ]
     },
     "execution_count": 35,
     "metadata": {},
     "output_type": "execute_result"
    }
   ],
   "source": [
    "predictions.head(20)"
   ]
  },
  {
   "cell_type": "code",
   "execution_count": 36,
   "id": "based-level",
   "metadata": {},
   "outputs": [
    {
     "data": {
      "text/html": [
       "<div>\n",
       "<style scoped>\n",
       "    .dataframe tbody tr th:only-of-type {\n",
       "        vertical-align: middle;\n",
       "    }\n",
       "\n",
       "    .dataframe tbody tr th {\n",
       "        vertical-align: top;\n",
       "    }\n",
       "\n",
       "    .dataframe thead th {\n",
       "        text-align: right;\n",
       "    }\n",
       "</style>\n",
       "<table border=\"1\" class=\"dataframe\">\n",
       "  <thead>\n",
       "    <tr style=\"text-align: right;\">\n",
       "      <th></th>\n",
       "      <th>tweet_id</th>\n",
       "      <th>jpg_url</th>\n",
       "      <th>img_num</th>\n",
       "      <th>p1</th>\n",
       "      <th>p1_conf</th>\n",
       "      <th>p1_dog</th>\n",
       "      <th>p2</th>\n",
       "      <th>p2_conf</th>\n",
       "      <th>p2_dog</th>\n",
       "      <th>p3</th>\n",
       "      <th>p3_conf</th>\n",
       "      <th>p3_dog</th>\n",
       "    </tr>\n",
       "  </thead>\n",
       "  <tbody>\n",
       "    <tr>\n",
       "      <th>911</th>\n",
       "      <td>700796979434098688</td>\n",
       "      <td>https://pbs.twimg.com/media/Cbm7IeUXIAA6Lc-.jpg</td>\n",
       "      <td>1</td>\n",
       "      <td>tailed_frog</td>\n",
       "      <td>0.652712</td>\n",
       "      <td>False</td>\n",
       "      <td>tree_frog</td>\n",
       "      <td>0.280212</td>\n",
       "      <td>False</td>\n",
       "      <td>bullfrog</td>\n",
       "      <td>0.040177</td>\n",
       "      <td>False</td>\n",
       "    </tr>\n",
       "    <tr>\n",
       "      <th>1945</th>\n",
       "      <td>862096992088072192</td>\n",
       "      <td>https://pbs.twimg.com/media/C_bIo7QXYAAGfPu.jpg</td>\n",
       "      <td>2</td>\n",
       "      <td>chow</td>\n",
       "      <td>0.677589</td>\n",
       "      <td>True</td>\n",
       "      <td>Pomeranian</td>\n",
       "      <td>0.270648</td>\n",
       "      <td>True</td>\n",
       "      <td>Pekinese</td>\n",
       "      <td>0.038110</td>\n",
       "      <td>True</td>\n",
       "    </tr>\n",
       "    <tr>\n",
       "      <th>300</th>\n",
       "      <td>671488513339211776</td>\n",
       "      <td>https://pbs.twimg.com/media/CVGbPgrWIAAQ1fB.jpg</td>\n",
       "      <td>1</td>\n",
       "      <td>hermit_crab</td>\n",
       "      <td>0.528761</td>\n",
       "      <td>False</td>\n",
       "      <td>snail</td>\n",
       "      <td>0.185644</td>\n",
       "      <td>False</td>\n",
       "      <td>shower_curtain</td>\n",
       "      <td>0.066361</td>\n",
       "      <td>False</td>\n",
       "    </tr>\n",
       "    <tr>\n",
       "      <th>1603</th>\n",
       "      <td>800141422401830912</td>\n",
       "      <td>https://pbs.twimg.com/media/CxqsX-8XUAAEvjD.jpg</td>\n",
       "      <td>3</td>\n",
       "      <td>golden_retriever</td>\n",
       "      <td>0.938048</td>\n",
       "      <td>True</td>\n",
       "      <td>kuvasz</td>\n",
       "      <td>0.025119</td>\n",
       "      <td>True</td>\n",
       "      <td>Labrador_retriever</td>\n",
       "      <td>0.022977</td>\n",
       "      <td>True</td>\n",
       "    </tr>\n",
       "    <tr>\n",
       "      <th>212</th>\n",
       "      <td>670037189829525505</td>\n",
       "      <td>https://pbs.twimg.com/media/CUxzQ-nWIAAgJUm.jpg</td>\n",
       "      <td>1</td>\n",
       "      <td>pot</td>\n",
       "      <td>0.273767</td>\n",
       "      <td>False</td>\n",
       "      <td>tray</td>\n",
       "      <td>0.092888</td>\n",
       "      <td>False</td>\n",
       "      <td>doormat</td>\n",
       "      <td>0.050728</td>\n",
       "      <td>False</td>\n",
       "    </tr>\n",
       "    <tr>\n",
       "      <th>1688</th>\n",
       "      <td>815390420867969024</td>\n",
       "      <td>https://pbs.twimg.com/media/C1DZQiTXgAUqgRI.jpg</td>\n",
       "      <td>1</td>\n",
       "      <td>restaurant</td>\n",
       "      <td>0.279846</td>\n",
       "      <td>False</td>\n",
       "      <td>toyshop</td>\n",
       "      <td>0.091429</td>\n",
       "      <td>False</td>\n",
       "      <td>paper_towel</td>\n",
       "      <td>0.046147</td>\n",
       "      <td>False</td>\n",
       "    </tr>\n",
       "    <tr>\n",
       "      <th>1804</th>\n",
       "      <td>832215726631055365</td>\n",
       "      <td>https://pbs.twimg.com/media/CwJR1okWIAA6XMp.jpg</td>\n",
       "      <td>1</td>\n",
       "      <td>Afghan_hound</td>\n",
       "      <td>0.274637</td>\n",
       "      <td>True</td>\n",
       "      <td>borzoi</td>\n",
       "      <td>0.142204</td>\n",
       "      <td>True</td>\n",
       "      <td>doormat</td>\n",
       "      <td>0.109677</td>\n",
       "      <td>False</td>\n",
       "    </tr>\n",
       "    <tr>\n",
       "      <th>576</th>\n",
       "      <td>678675843183484930</td>\n",
       "      <td>https://pbs.twimg.com/media/CWskEqnWUAAQZW_.jpg</td>\n",
       "      <td>1</td>\n",
       "      <td>maze</td>\n",
       "      <td>0.339850</td>\n",
       "      <td>False</td>\n",
       "      <td>streetcar</td>\n",
       "      <td>0.099688</td>\n",
       "      <td>False</td>\n",
       "      <td>sundial</td>\n",
       "      <td>0.084808</td>\n",
       "      <td>False</td>\n",
       "    </tr>\n",
       "    <tr>\n",
       "      <th>838</th>\n",
       "      <td>694352839993344000</td>\n",
       "      <td>https://pbs.twimg.com/media/CaLWOPfWkAAo2Dt.jpg</td>\n",
       "      <td>2</td>\n",
       "      <td>Australian_terrier</td>\n",
       "      <td>0.407886</td>\n",
       "      <td>True</td>\n",
       "      <td>Yorkshire_terrier</td>\n",
       "      <td>0.328173</td>\n",
       "      <td>True</td>\n",
       "      <td>silky_terrier</td>\n",
       "      <td>0.108404</td>\n",
       "      <td>True</td>\n",
       "    </tr>\n",
       "    <tr>\n",
       "      <th>251</th>\n",
       "      <td>670704688707301377</td>\n",
       "      <td>https://pbs.twimg.com/media/CU7SW39WwAAL8Rw.jpg</td>\n",
       "      <td>1</td>\n",
       "      <td>Norwich_terrier</td>\n",
       "      <td>0.419838</td>\n",
       "      <td>True</td>\n",
       "      <td>cairn</td>\n",
       "      <td>0.351876</td>\n",
       "      <td>True</td>\n",
       "      <td>Norfolk_terrier</td>\n",
       "      <td>0.051094</td>\n",
       "      <td>True</td>\n",
       "    </tr>\n",
       "  </tbody>\n",
       "</table>\n",
       "</div>"
      ],
      "text/plain": [
       "                tweet_id                                          jpg_url  \\\n",
       "911   700796979434098688  https://pbs.twimg.com/media/Cbm7IeUXIAA6Lc-.jpg   \n",
       "1945  862096992088072192  https://pbs.twimg.com/media/C_bIo7QXYAAGfPu.jpg   \n",
       "300   671488513339211776  https://pbs.twimg.com/media/CVGbPgrWIAAQ1fB.jpg   \n",
       "1603  800141422401830912  https://pbs.twimg.com/media/CxqsX-8XUAAEvjD.jpg   \n",
       "212   670037189829525505  https://pbs.twimg.com/media/CUxzQ-nWIAAgJUm.jpg   \n",
       "1688  815390420867969024  https://pbs.twimg.com/media/C1DZQiTXgAUqgRI.jpg   \n",
       "1804  832215726631055365  https://pbs.twimg.com/media/CwJR1okWIAA6XMp.jpg   \n",
       "576   678675843183484930  https://pbs.twimg.com/media/CWskEqnWUAAQZW_.jpg   \n",
       "838   694352839993344000  https://pbs.twimg.com/media/CaLWOPfWkAAo2Dt.jpg   \n",
       "251   670704688707301377  https://pbs.twimg.com/media/CU7SW39WwAAL8Rw.jpg   \n",
       "\n",
       "      img_num                  p1   p1_conf  p1_dog                 p2  \\\n",
       "911         1         tailed_frog  0.652712   False          tree_frog   \n",
       "1945        2                chow  0.677589    True         Pomeranian   \n",
       "300         1         hermit_crab  0.528761   False              snail   \n",
       "1603        3    golden_retriever  0.938048    True             kuvasz   \n",
       "212         1                 pot  0.273767   False               tray   \n",
       "1688        1          restaurant  0.279846   False            toyshop   \n",
       "1804        1        Afghan_hound  0.274637    True             borzoi   \n",
       "576         1                maze  0.339850   False          streetcar   \n",
       "838         2  Australian_terrier  0.407886    True  Yorkshire_terrier   \n",
       "251         1     Norwich_terrier  0.419838    True              cairn   \n",
       "\n",
       "       p2_conf  p2_dog                  p3   p3_conf  p3_dog  \n",
       "911   0.280212   False            bullfrog  0.040177   False  \n",
       "1945  0.270648    True            Pekinese  0.038110    True  \n",
       "300   0.185644   False      shower_curtain  0.066361   False  \n",
       "1603  0.025119    True  Labrador_retriever  0.022977    True  \n",
       "212   0.092888   False             doormat  0.050728   False  \n",
       "1688  0.091429   False         paper_towel  0.046147   False  \n",
       "1804  0.142204    True             doormat  0.109677   False  \n",
       "576   0.099688   False             sundial  0.084808   False  \n",
       "838   0.328173    True       silky_terrier  0.108404    True  \n",
       "251   0.351876    True     Norfolk_terrier  0.051094    True  "
      ]
     },
     "execution_count": 36,
     "metadata": {},
     "output_type": "execute_result"
    }
   ],
   "source": [
    "predictions.sample(10)"
   ]
  },
  {
   "cell_type": "code",
   "execution_count": 37,
   "id": "sorted-polymer",
   "metadata": {},
   "outputs": [
    {
     "data": {
      "text/plain": [
       "66"
      ]
     },
     "execution_count": 37,
     "metadata": {},
     "output_type": "execute_result"
    }
   ],
   "source": [
    "sum(predictions.jpg_url.duplicated())"
   ]
  },
  {
   "cell_type": "markdown",
   "id": "elder-sociology",
   "metadata": {},
   "source": [
    "**_`duplicated()`_** show us an issue of :\n",
    "\n",
    "### Quality\n",
    "- there are 66 duplicated urls."
   ]
  },
  {
   "cell_type": "code",
   "execution_count": 38,
   "id": "adopted-horizontal",
   "metadata": {},
   "outputs": [
    {
     "data": {
      "text/plain": [
       "1    1780\n",
       "2     198\n",
       "3      66\n",
       "4      31\n",
       "Name: img_num, dtype: int64"
      ]
     },
     "execution_count": 38,
     "metadata": {},
     "output_type": "execute_result"
    }
   ],
   "source": [
    "predictions.img_num.value_counts()"
   ]
  },
  {
   "cell_type": "code",
   "execution_count": 39,
   "id": "failing-match",
   "metadata": {},
   "outputs": [
    {
     "name": "stdout",
     "output_type": "stream",
     "text": [
      "True     1532\n",
      "False     543\n",
      "Name: p1_dog, dtype: int64\n",
      "True     1553\n",
      "False     522\n",
      "Name: p2_dog, dtype: int64\n",
      "True     1499\n",
      "False     576\n",
      "Name: p3_dog, dtype: int64\n"
     ]
    }
   ],
   "source": [
    "print(predictions.p1_dog.value_counts())\n",
    "print(predictions.p2_dog.value_counts())\n",
    "print(predictions.p3_dog.value_counts())"
   ]
  },
  {
   "cell_type": "markdown",
   "id": "supported-train",
   "metadata": {},
   "source": [
    "---\n",
    "<a id='prog_json_data'></a>\n",
    "\n",
    "## _**`json_data`**_\n"
   ]
  },
  {
   "cell_type": "code",
   "execution_count": 40,
   "id": "together-convergence",
   "metadata": {},
   "outputs": [
    {
     "name": "stdout",
     "output_type": "stream",
     "text": [
      "<class 'pandas.core.frame.DataFrame'>\n",
      "RangeIndex: 2354 entries, 0 to 2353\n",
      "Data columns (total 3 columns):\n",
      " #   Column          Non-Null Count  Dtype\n",
      "---  ------          --------------  -----\n",
      " 0   tweet_id        2354 non-null   int64\n",
      " 1   retweet_count   2354 non-null   int64\n",
      " 2   favorite_count  2354 non-null   int64\n",
      "dtypes: int64(3)\n",
      "memory usage: 55.3 KB\n"
     ]
    }
   ],
   "source": [
    "json_data.info()"
   ]
  },
  {
   "cell_type": "code",
   "execution_count": 41,
   "id": "american-reflection",
   "metadata": {},
   "outputs": [
    {
     "data": {
      "text/html": [
       "<div>\n",
       "<style scoped>\n",
       "    .dataframe tbody tr th:only-of-type {\n",
       "        vertical-align: middle;\n",
       "    }\n",
       "\n",
       "    .dataframe tbody tr th {\n",
       "        vertical-align: top;\n",
       "    }\n",
       "\n",
       "    .dataframe thead th {\n",
       "        text-align: right;\n",
       "    }\n",
       "</style>\n",
       "<table border=\"1\" class=\"dataframe\">\n",
       "  <thead>\n",
       "    <tr style=\"text-align: right;\">\n",
       "      <th></th>\n",
       "      <th>tweet_id</th>\n",
       "      <th>retweet_count</th>\n",
       "      <th>favorite_count</th>\n",
       "    </tr>\n",
       "  </thead>\n",
       "  <tbody>\n",
       "    <tr>\n",
       "      <th>0</th>\n",
       "      <td>892420643555336193</td>\n",
       "      <td>8853</td>\n",
       "      <td>39467</td>\n",
       "    </tr>\n",
       "    <tr>\n",
       "      <th>1</th>\n",
       "      <td>892177421306343426</td>\n",
       "      <td>6514</td>\n",
       "      <td>33819</td>\n",
       "    </tr>\n",
       "    <tr>\n",
       "      <th>2</th>\n",
       "      <td>891815181378084864</td>\n",
       "      <td>4328</td>\n",
       "      <td>25461</td>\n",
       "    </tr>\n",
       "    <tr>\n",
       "      <th>3</th>\n",
       "      <td>891689557279858688</td>\n",
       "      <td>8964</td>\n",
       "      <td>42908</td>\n",
       "    </tr>\n",
       "    <tr>\n",
       "      <th>4</th>\n",
       "      <td>891327558926688256</td>\n",
       "      <td>9774</td>\n",
       "      <td>41048</td>\n",
       "    </tr>\n",
       "    <tr>\n",
       "      <th>5</th>\n",
       "      <td>891087950875897856</td>\n",
       "      <td>3261</td>\n",
       "      <td>20562</td>\n",
       "    </tr>\n",
       "    <tr>\n",
       "      <th>6</th>\n",
       "      <td>890971913173991426</td>\n",
       "      <td>2158</td>\n",
       "      <td>12041</td>\n",
       "    </tr>\n",
       "    <tr>\n",
       "      <th>7</th>\n",
       "      <td>890729181411237888</td>\n",
       "      <td>16716</td>\n",
       "      <td>56848</td>\n",
       "    </tr>\n",
       "    <tr>\n",
       "      <th>8</th>\n",
       "      <td>890609185150312448</td>\n",
       "      <td>4429</td>\n",
       "      <td>28226</td>\n",
       "    </tr>\n",
       "    <tr>\n",
       "      <th>9</th>\n",
       "      <td>890240255349198849</td>\n",
       "      <td>7711</td>\n",
       "      <td>32467</td>\n",
       "    </tr>\n",
       "    <tr>\n",
       "      <th>10</th>\n",
       "      <td>890006608113172480</td>\n",
       "      <td>7624</td>\n",
       "      <td>31166</td>\n",
       "    </tr>\n",
       "    <tr>\n",
       "      <th>11</th>\n",
       "      <td>889880896479866881</td>\n",
       "      <td>5156</td>\n",
       "      <td>28268</td>\n",
       "    </tr>\n",
       "    <tr>\n",
       "      <th>12</th>\n",
       "      <td>889665388333682689</td>\n",
       "      <td>8538</td>\n",
       "      <td>38818</td>\n",
       "    </tr>\n",
       "    <tr>\n",
       "      <th>13</th>\n",
       "      <td>889638837579907072</td>\n",
       "      <td>4735</td>\n",
       "      <td>27672</td>\n",
       "    </tr>\n",
       "    <tr>\n",
       "      <th>14</th>\n",
       "      <td>889531135344209921</td>\n",
       "      <td>2321</td>\n",
       "      <td>15359</td>\n",
       "    </tr>\n",
       "    <tr>\n",
       "      <th>15</th>\n",
       "      <td>889278841981685760</td>\n",
       "      <td>5637</td>\n",
       "      <td>25652</td>\n",
       "    </tr>\n",
       "    <tr>\n",
       "      <th>16</th>\n",
       "      <td>888917238123831296</td>\n",
       "      <td>4709</td>\n",
       "      <td>29611</td>\n",
       "    </tr>\n",
       "    <tr>\n",
       "      <th>17</th>\n",
       "      <td>888804989199671297</td>\n",
       "      <td>4559</td>\n",
       "      <td>26080</td>\n",
       "    </tr>\n",
       "    <tr>\n",
       "      <th>18</th>\n",
       "      <td>888554962724278272</td>\n",
       "      <td>3732</td>\n",
       "      <td>20290</td>\n",
       "    </tr>\n",
       "    <tr>\n",
       "      <th>19</th>\n",
       "      <td>888078434458587136</td>\n",
       "      <td>3653</td>\n",
       "      <td>22201</td>\n",
       "    </tr>\n",
       "  </tbody>\n",
       "</table>\n",
       "</div>"
      ],
      "text/plain": [
       "              tweet_id  retweet_count  favorite_count\n",
       "0   892420643555336193           8853           39467\n",
       "1   892177421306343426           6514           33819\n",
       "2   891815181378084864           4328           25461\n",
       "3   891689557279858688           8964           42908\n",
       "4   891327558926688256           9774           41048\n",
       "5   891087950875897856           3261           20562\n",
       "6   890971913173991426           2158           12041\n",
       "7   890729181411237888          16716           56848\n",
       "8   890609185150312448           4429           28226\n",
       "9   890240255349198849           7711           32467\n",
       "10  890006608113172480           7624           31166\n",
       "11  889880896479866881           5156           28268\n",
       "12  889665388333682689           8538           38818\n",
       "13  889638837579907072           4735           27672\n",
       "14  889531135344209921           2321           15359\n",
       "15  889278841981685760           5637           25652\n",
       "16  888917238123831296           4709           29611\n",
       "17  888804989199671297           4559           26080\n",
       "18  888554962724278272           3732           20290\n",
       "19  888078434458587136           3653           22201"
      ]
     },
     "execution_count": 41,
     "metadata": {},
     "output_type": "execute_result"
    }
   ],
   "source": [
    "json_data.head(20)"
   ]
  },
  {
   "cell_type": "code",
   "execution_count": 42,
   "id": "further-evolution",
   "metadata": {},
   "outputs": [
    {
     "data": {
      "text/html": [
       "<div>\n",
       "<style scoped>\n",
       "    .dataframe tbody tr th:only-of-type {\n",
       "        vertical-align: middle;\n",
       "    }\n",
       "\n",
       "    .dataframe tbody tr th {\n",
       "        vertical-align: top;\n",
       "    }\n",
       "\n",
       "    .dataframe thead th {\n",
       "        text-align: right;\n",
       "    }\n",
       "</style>\n",
       "<table border=\"1\" class=\"dataframe\">\n",
       "  <thead>\n",
       "    <tr style=\"text-align: right;\">\n",
       "      <th></th>\n",
       "      <th>tweet_id</th>\n",
       "      <th>retweet_count</th>\n",
       "      <th>favorite_count</th>\n",
       "    </tr>\n",
       "  </thead>\n",
       "  <tbody>\n",
       "    <tr>\n",
       "      <th>256</th>\n",
       "      <td>843856843873095681</td>\n",
       "      <td>5220</td>\n",
       "      <td>23211</td>\n",
       "    </tr>\n",
       "    <tr>\n",
       "      <th>393</th>\n",
       "      <td>825829644528148480</td>\n",
       "      <td>2848</td>\n",
       "      <td>14025</td>\n",
       "    </tr>\n",
       "    <tr>\n",
       "      <th>1547</th>\n",
       "      <td>689255633275777024</td>\n",
       "      <td>1212</td>\n",
       "      <td>2805</td>\n",
       "    </tr>\n",
       "    <tr>\n",
       "      <th>2140</th>\n",
       "      <td>669972011175813120</td>\n",
       "      <td>175</td>\n",
       "      <td>471</td>\n",
       "    </tr>\n",
       "    <tr>\n",
       "      <th>1581</th>\n",
       "      <td>687102708889812993</td>\n",
       "      <td>1124</td>\n",
       "      <td>2571</td>\n",
       "    </tr>\n",
       "    <tr>\n",
       "      <th>2008</th>\n",
       "      <td>672248013293752320</td>\n",
       "      <td>656</td>\n",
       "      <td>1833</td>\n",
       "    </tr>\n",
       "    <tr>\n",
       "      <th>26</th>\n",
       "      <td>886736880519319552</td>\n",
       "      <td>3443</td>\n",
       "      <td>12306</td>\n",
       "    </tr>\n",
       "    <tr>\n",
       "      <th>1126</th>\n",
       "      <td>729823566028484608</td>\n",
       "      <td>1390</td>\n",
       "      <td>4358</td>\n",
       "    </tr>\n",
       "    <tr>\n",
       "      <th>599</th>\n",
       "      <td>798673117451325440</td>\n",
       "      <td>6485</td>\n",
       "      <td>0</td>\n",
       "    </tr>\n",
       "    <tr>\n",
       "      <th>328</th>\n",
       "      <td>833479644947025920</td>\n",
       "      <td>2357</td>\n",
       "      <td>16258</td>\n",
       "    </tr>\n",
       "  </tbody>\n",
       "</table>\n",
       "</div>"
      ],
      "text/plain": [
       "                tweet_id  retweet_count  favorite_count\n",
       "256   843856843873095681           5220           23211\n",
       "393   825829644528148480           2848           14025\n",
       "1547  689255633275777024           1212            2805\n",
       "2140  669972011175813120            175             471\n",
       "1581  687102708889812993           1124            2571\n",
       "2008  672248013293752320            656            1833\n",
       "26    886736880519319552           3443           12306\n",
       "1126  729823566028484608           1390            4358\n",
       "599   798673117451325440           6485               0\n",
       "328   833479644947025920           2357           16258"
      ]
     },
     "execution_count": 42,
     "metadata": {},
     "output_type": "execute_result"
    }
   ],
   "source": [
    "json_data.sample(10)"
   ]
  },
  {
   "cell_type": "code",
   "execution_count": 43,
   "id": "roman-scholar",
   "metadata": {},
   "outputs": [
    {
     "data": {
      "text/html": [
       "<div>\n",
       "<style scoped>\n",
       "    .dataframe tbody tr th:only-of-type {\n",
       "        vertical-align: middle;\n",
       "    }\n",
       "\n",
       "    .dataframe tbody tr th {\n",
       "        vertical-align: top;\n",
       "    }\n",
       "\n",
       "    .dataframe thead th {\n",
       "        text-align: right;\n",
       "    }\n",
       "</style>\n",
       "<table border=\"1\" class=\"dataframe\">\n",
       "  <thead>\n",
       "    <tr style=\"text-align: right;\">\n",
       "      <th></th>\n",
       "      <th>tweet_id</th>\n",
       "      <th>retweet_count</th>\n",
       "      <th>favorite_count</th>\n",
       "    </tr>\n",
       "  </thead>\n",
       "  <tbody>\n",
       "    <tr>\n",
       "      <th>count</th>\n",
       "      <td>2.354000e+03</td>\n",
       "      <td>2354.000000</td>\n",
       "      <td>2354.000000</td>\n",
       "    </tr>\n",
       "    <tr>\n",
       "      <th>mean</th>\n",
       "      <td>7.426978e+17</td>\n",
       "      <td>3164.797366</td>\n",
       "      <td>8080.968564</td>\n",
       "    </tr>\n",
       "    <tr>\n",
       "      <th>std</th>\n",
       "      <td>6.852812e+16</td>\n",
       "      <td>5284.770364</td>\n",
       "      <td>11814.771334</td>\n",
       "    </tr>\n",
       "    <tr>\n",
       "      <th>min</th>\n",
       "      <td>6.660209e+17</td>\n",
       "      <td>0.000000</td>\n",
       "      <td>0.000000</td>\n",
       "    </tr>\n",
       "    <tr>\n",
       "      <th>25%</th>\n",
       "      <td>6.783975e+17</td>\n",
       "      <td>624.500000</td>\n",
       "      <td>1415.000000</td>\n",
       "    </tr>\n",
       "    <tr>\n",
       "      <th>50%</th>\n",
       "      <td>7.194596e+17</td>\n",
       "      <td>1473.500000</td>\n",
       "      <td>3603.500000</td>\n",
       "    </tr>\n",
       "    <tr>\n",
       "      <th>75%</th>\n",
       "      <td>7.993058e+17</td>\n",
       "      <td>3652.000000</td>\n",
       "      <td>10122.250000</td>\n",
       "    </tr>\n",
       "    <tr>\n",
       "      <th>max</th>\n",
       "      <td>8.924206e+17</td>\n",
       "      <td>79515.000000</td>\n",
       "      <td>132810.000000</td>\n",
       "    </tr>\n",
       "  </tbody>\n",
       "</table>\n",
       "</div>"
      ],
      "text/plain": [
       "           tweet_id  retweet_count  favorite_count\n",
       "count  2.354000e+03    2354.000000     2354.000000\n",
       "mean   7.426978e+17    3164.797366     8080.968564\n",
       "std    6.852812e+16    5284.770364    11814.771334\n",
       "min    6.660209e+17       0.000000        0.000000\n",
       "25%    6.783975e+17     624.500000     1415.000000\n",
       "50%    7.194596e+17    1473.500000     3603.500000\n",
       "75%    7.993058e+17    3652.000000    10122.250000\n",
       "max    8.924206e+17   79515.000000   132810.000000"
      ]
     },
     "execution_count": 43,
     "metadata": {},
     "output_type": "execute_result"
    }
   ],
   "source": [
    "json_data.describe()"
   ]
  },
  {
   "cell_type": "code",
   "execution_count": 44,
   "id": "caroline-medicaid",
   "metadata": {},
   "outputs": [
    {
     "data": {
      "text/html": [
       "<div>\n",
       "<style scoped>\n",
       "    .dataframe tbody tr th:only-of-type {\n",
       "        vertical-align: middle;\n",
       "    }\n",
       "\n",
       "    .dataframe tbody tr th {\n",
       "        vertical-align: top;\n",
       "    }\n",
       "\n",
       "    .dataframe thead th {\n",
       "        text-align: right;\n",
       "    }\n",
       "</style>\n",
       "<table border=\"1\" class=\"dataframe\">\n",
       "  <thead>\n",
       "    <tr style=\"text-align: right;\">\n",
       "      <th></th>\n",
       "      <th>tweet_id</th>\n",
       "      <th>retweet_count</th>\n",
       "      <th>favorite_count</th>\n",
       "    </tr>\n",
       "  </thead>\n",
       "  <tbody>\n",
       "    <tr>\n",
       "      <th>2022</th>\n",
       "      <td>671891728106971137</td>\n",
       "      <td>618</td>\n",
       "      <td>1415</td>\n",
       "    </tr>\n",
       "    <tr>\n",
       "      <th>2280</th>\n",
       "      <td>667211855547486208</td>\n",
       "      <td>258</td>\n",
       "      <td>516</td>\n",
       "    </tr>\n",
       "    <tr>\n",
       "      <th>313</th>\n",
       "      <td>835172783151792128</td>\n",
       "      <td>6516</td>\n",
       "      <td>28552</td>\n",
       "    </tr>\n",
       "    <tr>\n",
       "      <th>764</th>\n",
       "      <td>777885040357281792</td>\n",
       "      <td>1893</td>\n",
       "      <td>7078</td>\n",
       "    </tr>\n",
       "    <tr>\n",
       "      <th>1965</th>\n",
       "      <td>673342308415348736</td>\n",
       "      <td>649</td>\n",
       "      <td>1362</td>\n",
       "    </tr>\n",
       "    <tr>\n",
       "      <th>1786</th>\n",
       "      <td>677557565589463040</td>\n",
       "      <td>1322</td>\n",
       "      <td>2665</td>\n",
       "    </tr>\n",
       "    <tr>\n",
       "      <th>1321</th>\n",
       "      <td>706265994973601792</td>\n",
       "      <td>1030</td>\n",
       "      <td>2979</td>\n",
       "    </tr>\n",
       "    <tr>\n",
       "      <th>192</th>\n",
       "      <td>855459453768019968</td>\n",
       "      <td>8987</td>\n",
       "      <td>31657</td>\n",
       "    </tr>\n",
       "    <tr>\n",
       "      <th>1572</th>\n",
       "      <td>687480748861947905</td>\n",
       "      <td>281</td>\n",
       "      <td>1760</td>\n",
       "    </tr>\n",
       "    <tr>\n",
       "      <th>809</th>\n",
       "      <td>771380798096281600</td>\n",
       "      <td>5912</td>\n",
       "      <td>11746</td>\n",
       "    </tr>\n",
       "  </tbody>\n",
       "</table>\n",
       "</div>"
      ],
      "text/plain": [
       "                tweet_id  retweet_count  favorite_count\n",
       "2022  671891728106971137            618            1415\n",
       "2280  667211855547486208            258             516\n",
       "313   835172783151792128           6516           28552\n",
       "764   777885040357281792           1893            7078\n",
       "1965  673342308415348736            649            1362\n",
       "1786  677557565589463040           1322            2665\n",
       "1321  706265994973601792           1030            2979\n",
       "192   855459453768019968           8987           31657\n",
       "1572  687480748861947905            281            1760\n",
       "809   771380798096281600           5912           11746"
      ]
     },
     "execution_count": 44,
     "metadata": {},
     "output_type": "execute_result"
    }
   ],
   "source": [
    "json_data.sample(10)"
   ]
  },
  {
   "cell_type": "markdown",
   "id": "durable-words",
   "metadata": {},
   "source": [
    "<a id='summary'></a>\n",
    "\n",
    "---\n",
    "# Assessment issues\n",
    "\n",
    "## Quality\n",
    "\n",
    "### _**`archive`**_\n",
    "\n",
    "<a href=\"#clean_q1\">1.</a> There are 181 retweets which are not original tweets, indicated by (**retweeted_status_id, retweeted_status_user_id, retweeted_status_timestamp**). \n",
    "\n",
    "<a href=\"#clean_q2\">2.</a> There are 78 reply tweets which are not original tweets (**in_reply_to_status_id, in_reply_to_user_id**).\n",
    "\n",
    "<a href=\"#clean_q3\">3.</a> There are 2297 tweets with **expanded_urls** (links to the tweet), indicating 59 tweets with missing data:\n",
    "\n",
    "     A.56 of these tweets are replies or retweets.\n",
    "     B.The remaining 3 tweets have not got the url within the **text** column.\n",
    "\n",
    "<a href=\"#clean_q4\">4.</a> **timestamp** data type is invalid (string not datetime).\n",
    "\n",
    "<a href=\"#clean_q5\">5.</a> There are 109 tweets with regular words in the **name** column that are NOT a valid name; these words are all lowercase; all valid names start with an uppercase letter.\n",
    "\n",
    "6. There are 775 tweets with the dog **name** as \"None\".(Probably not worth looking at as there are too many to verify. So, This issue will not be cleaned.)\n",
    "\n",
    "<a href=\"#clean_q7\">7.</a> Ignoring replies and retweets, there are 17 tweets with **rating_denominator** NOT equal to 10:\n",
    "\n",
    " <a href=\"#clean_q7-1\">A.</a> 4 tweets have the correct rating within the text, and can be manually fixed.\n",
    "  \n",
    " <a href=\"#clean_q7-2\">B.</a> 13 are about multiple dogs/pups, and can be dropped.\n",
    "\n",
    "\n",
    "### _**`predictions`**_\n",
    "\n",
    "<a href=\"#clean_q8\">8.</a> there are 66 duplicated urls. \n",
    "\n",
    "<a href=\"#clean_q9\">9.</a> There are 2075 image predictions, 281 less than the number of tweets in the archive, so will be classified as \"missing data\".   \n",
    "\n",
    "\n",
    "## Tidiness\n",
    "\n",
    "### _**`archive`**_\n",
    "<a href=\"#clean_t1\">1.</a> There are 4 columns for dog stages (**doggo, floofer, pupper, puppo**)\n",
    "\n",
    "<a href=\"#clean_t2\">2.</a> When all **rating_denominator**s are the same (10) this column is no longer needed. \n",
    "\n",
    "### _**`predictions`**_\n",
    "\n",
    "<a href=\"#clean_t3\">3.</a> The table does not follow the rules of “Tidy Data”; the columns **p1**, **p2** and **p3** contain the same type of data, predictions. The columns **p1_conf**, **p2_conf** and **p3_conf** all contain values for confidence level, and columns **p1_dog**, **p2_dog** and **p3_dog** all contain Boolean values indicating whether the prediction is in fact a type of dog.  \n",
    "\n",
    "### _**`json_data`**_\n",
    "<a href=\"#clean_t4\">4.</a> All data are related but devided into 3 separate dataframes \n"
   ]
  },
  {
   "cell_type": "markdown",
   "id": "ecological-lewis",
   "metadata": {},
   "source": [
    "<a id='clean'></a>\n",
    "\n",
    "---\n",
    "# Clean Data"
   ]
  },
  {
   "cell_type": "code",
   "execution_count": 45,
   "id": "integrated-philosophy",
   "metadata": {},
   "outputs": [],
   "source": [
    "# create copies of the dataframes for cleaning\n",
    "archive_clean = archive.copy()\n",
    "predictions_clean = predictions.copy()\n",
    "json_data_clean = json_data.copy()"
   ]
  },
  {
   "cell_type": "code",
   "execution_count": 46,
   "id": "analyzed-magic",
   "metadata": {},
   "outputs": [
    {
     "data": {
      "text/plain": [
       "2356"
      ]
     },
     "execution_count": 46,
     "metadata": {},
     "output_type": "execute_result"
    }
   ],
   "source": [
    "len_archive = archive_clean.shape[0]; len_archive"
   ]
  },
  {
   "cell_type": "markdown",
   "id": "efficient-collar",
   "metadata": {},
   "source": [
    "---\n",
    "<a id='clean_q1'></a>\n",
    "## Quality\n",
    "\n",
    "### _**`archive`**_\n",
    "\n",
    "1.There are 181 retweets which are not original tweets, indicated by (**retweeted_status_id, retweeted_status_user_id, retweeted_status_timestamp**).\n",
    "\n",
    "### Define\n",
    "Drop all rows containing retweets, where these columns will be non-null: **retweeted_status_id, retweeted_status_user_id and retweeted_status_timestamp**. \n",
    "\n",
    "### Code"
   ]
  },
  {
   "cell_type": "code",
   "execution_count": 47,
   "id": "governing-weekly",
   "metadata": {
    "scrolled": true
   },
   "outputs": [
    {
     "name": "stdout",
     "output_type": "stream",
     "text": [
      "181\n"
     ]
    }
   ],
   "source": [
    "print(sum(archive_clean.retweeted_status_id.notnull()))"
   ]
  },
  {
   "cell_type": "code",
   "execution_count": 48,
   "id": "premier-dutch",
   "metadata": {},
   "outputs": [],
   "source": [
    "archive_clean = archive_clean[archive_clean.retweeted_status_id.isna()]"
   ]
  },
  {
   "cell_type": "markdown",
   "id": "senior-headline",
   "metadata": {},
   "source": [
    "### Test"
   ]
  },
  {
   "cell_type": "code",
   "execution_count": 49,
   "id": "finished-telling",
   "metadata": {},
   "outputs": [
    {
     "name": "stdout",
     "output_type": "stream",
     "text": [
      "<class 'pandas.core.frame.DataFrame'>\n",
      "Int64Index: 2175 entries, 0 to 2355\n",
      "Data columns (total 17 columns):\n",
      " #   Column                      Non-Null Count  Dtype  \n",
      "---  ------                      --------------  -----  \n",
      " 0   tweet_id                    2175 non-null   int64  \n",
      " 1   in_reply_to_status_id       78 non-null     float64\n",
      " 2   in_reply_to_user_id         78 non-null     float64\n",
      " 3   timestamp                   2175 non-null   object \n",
      " 4   source                      2175 non-null   object \n",
      " 5   text                        2175 non-null   object \n",
      " 6   retweeted_status_id         0 non-null      float64\n",
      " 7   retweeted_status_user_id    0 non-null      float64\n",
      " 8   retweeted_status_timestamp  0 non-null      object \n",
      " 9   expanded_urls               2117 non-null   object \n",
      " 10  rating_numerator            2175 non-null   int64  \n",
      " 11  rating_denominator          2175 non-null   int64  \n",
      " 12  name                        2175 non-null   object \n",
      " 13  doggo                       2175 non-null   object \n",
      " 14  floofer                     2175 non-null   object \n",
      " 15  pupper                      2175 non-null   object \n",
      " 16  puppo                       2175 non-null   object \n",
      "dtypes: float64(4), int64(3), object(10)\n",
      "memory usage: 305.9+ KB\n"
     ]
    }
   ],
   "source": [
    "archive_clean.info()"
   ]
  },
  {
   "cell_type": "code",
   "execution_count": 50,
   "id": "domestic-speaker",
   "metadata": {},
   "outputs": [
    {
     "name": "stdout",
     "output_type": "stream",
     "text": [
      "181\n"
     ]
    }
   ],
   "source": [
    "# confirm the rows are dropped; compare with original table length\n",
    "print(len_archive - archive_clean.shape[0])\n",
    "# reset the variable for length of the archive\n",
    "len_archive = archive_clean.shape[0]"
   ]
  },
  {
   "cell_type": "markdown",
   "id": "precious-roads",
   "metadata": {},
   "source": [
    "---\n",
    "<a id='clean_q2'></a>\n",
    "\n",
    "### _**`archive`**_\n",
    "\n",
    "2.There are 78 reply tweets which are not original tweets (**in_reply_to_status_id, in_reply_to_user_id**).\n",
    "\n",
    "### Define\n",
    "Drop all rows that are replies, those that have non-null values in these columns: **in_reply_to_status_id and in_reply_to_user_id**\n",
    "### Code"
   ]
  },
  {
   "cell_type": "code",
   "execution_count": 51,
   "id": "ultimate-hands",
   "metadata": {},
   "outputs": [
    {
     "name": "stdout",
     "output_type": "stream",
     "text": [
      "78\n"
     ]
    }
   ],
   "source": [
    "print(sum(archive_clean.in_reply_to_status_id.notnull()))"
   ]
  },
  {
   "cell_type": "code",
   "execution_count": 52,
   "id": "medieval-brazil",
   "metadata": {},
   "outputs": [],
   "source": [
    "archive_clean = archive_clean[archive_clean.in_reply_to_status_id.isna()]"
   ]
  },
  {
   "cell_type": "markdown",
   "id": "surrounded-happiness",
   "metadata": {},
   "source": [
    "### Test"
   ]
  },
  {
   "cell_type": "code",
   "execution_count": 53,
   "id": "express-chick",
   "metadata": {},
   "outputs": [
    {
     "name": "stdout",
     "output_type": "stream",
     "text": [
      "<class 'pandas.core.frame.DataFrame'>\n",
      "Int64Index: 2097 entries, 0 to 2355\n",
      "Data columns (total 17 columns):\n",
      " #   Column                      Non-Null Count  Dtype  \n",
      "---  ------                      --------------  -----  \n",
      " 0   tweet_id                    2097 non-null   int64  \n",
      " 1   in_reply_to_status_id       0 non-null      float64\n",
      " 2   in_reply_to_user_id         0 non-null      float64\n",
      " 3   timestamp                   2097 non-null   object \n",
      " 4   source                      2097 non-null   object \n",
      " 5   text                        2097 non-null   object \n",
      " 6   retweeted_status_id         0 non-null      float64\n",
      " 7   retweeted_status_user_id    0 non-null      float64\n",
      " 8   retweeted_status_timestamp  0 non-null      object \n",
      " 9   expanded_urls               2094 non-null   object \n",
      " 10  rating_numerator            2097 non-null   int64  \n",
      " 11  rating_denominator          2097 non-null   int64  \n",
      " 12  name                        2097 non-null   object \n",
      " 13  doggo                       2097 non-null   object \n",
      " 14  floofer                     2097 non-null   object \n",
      " 15  pupper                      2097 non-null   object \n",
      " 16  puppo                       2097 non-null   object \n",
      "dtypes: float64(4), int64(3), object(10)\n",
      "memory usage: 294.9+ KB\n"
     ]
    }
   ],
   "source": [
    "archive_clean.info()"
   ]
  },
  {
   "cell_type": "code",
   "execution_count": 54,
   "id": "split-attachment",
   "metadata": {},
   "outputs": [
    {
     "name": "stdout",
     "output_type": "stream",
     "text": [
      "78\n"
     ]
    }
   ],
   "source": [
    "# confirm the rows are dropped; compare with previous table length\n",
    "print(len_archive - archive_clean.shape[0])\n",
    "# reset the variable for length of the archive\n",
    "len_archive = archive_clean.shape[0]"
   ]
  },
  {
   "cell_type": "code",
   "execution_count": 55,
   "id": "optimum-saint",
   "metadata": {},
   "outputs": [],
   "source": [
    "#drop all columns related to retweets: \n",
    "#`retweeted_status_id`, `retweeted_status_user_id`, `retweeted_status_timestamp`,\n",
    "# `in_reply_to_status_id` and `in_reply_to_user_id`.\n",
    "archive_clean = archive_clean.drop(['retweeted_status_id',\n",
    "                                    'retweeted_status_user_id',\n",
    "                                    'retweeted_status_timestamp',\n",
    "                                    'in_reply_to_status_id',\n",
    "                                    'in_reply_to_user_id'], axis = 1)"
   ]
  },
  {
   "cell_type": "code",
   "execution_count": 56,
   "id": "checked-sessions",
   "metadata": {},
   "outputs": [
    {
     "data": {
      "text/plain": [
       "['tweet_id',\n",
       " 'timestamp',\n",
       " 'source',\n",
       " 'text',\n",
       " 'expanded_urls',\n",
       " 'rating_numerator',\n",
       " 'rating_denominator',\n",
       " 'name',\n",
       " 'doggo',\n",
       " 'floofer',\n",
       " 'pupper',\n",
       " 'puppo']"
      ]
     },
     "execution_count": 56,
     "metadata": {},
     "output_type": "execute_result"
    }
   ],
   "source": [
    "# Confirm all retweet related columns are gone\n",
    "list(archive_clean)"
   ]
  },
  {
   "cell_type": "markdown",
   "id": "governmental-lodge",
   "metadata": {},
   "source": [
    "---\n",
    "<a id='clean_q3'></a>\n",
    "### _**`archive`**_\n",
    "\n",
    "3.There are 2297 tweets with **expanded_urls** (links to the tweet), indicating 59 tweets with missing data:\n",
    "\n",
    "     A. 56 of these tweets are replies or retweets.(Just resolved above)\n",
    "     B. The remaining 3 tweets have not got the url within the **text** column.\n",
    "\n",
    "\n",
    "### Define\n",
    "Drop tweets with missing data in the **expanded_urls**.\n",
    "### Code"
   ]
  },
  {
   "cell_type": "code",
   "execution_count": 57,
   "id": "expressed-conversion",
   "metadata": {},
   "outputs": [],
   "source": [
    "archive_clean = archive_clean[archive_clean.expanded_urls.notnull()]"
   ]
  },
  {
   "cell_type": "markdown",
   "id": "exceptional-ghana",
   "metadata": {},
   "source": [
    "### Test"
   ]
  },
  {
   "cell_type": "code",
   "execution_count": 58,
   "id": "incomplete-lover",
   "metadata": {},
   "outputs": [
    {
     "name": "stdout",
     "output_type": "stream",
     "text": [
      "<class 'pandas.core.frame.DataFrame'>\n",
      "Int64Index: 2094 entries, 0 to 2355\n",
      "Data columns (total 12 columns):\n",
      " #   Column              Non-Null Count  Dtype \n",
      "---  ------              --------------  ----- \n",
      " 0   tweet_id            2094 non-null   int64 \n",
      " 1   timestamp           2094 non-null   object\n",
      " 2   source              2094 non-null   object\n",
      " 3   text                2094 non-null   object\n",
      " 4   expanded_urls       2094 non-null   object\n",
      " 5   rating_numerator    2094 non-null   int64 \n",
      " 6   rating_denominator  2094 non-null   int64 \n",
      " 7   name                2094 non-null   object\n",
      " 8   doggo               2094 non-null   object\n",
      " 9   floofer             2094 non-null   object\n",
      " 10  pupper              2094 non-null   object\n",
      " 11  puppo               2094 non-null   object\n",
      "dtypes: int64(3), object(9)\n",
      "memory usage: 212.7+ KB\n"
     ]
    }
   ],
   "source": [
    "archive_clean.info()"
   ]
  },
  {
   "cell_type": "markdown",
   "id": "olympic-insurance",
   "metadata": {},
   "source": [
    "---\n",
    "<a id='clean_q4'></a>\n",
    "### _**`archive`**_\n",
    "\n",
    "4.**timestamp** data type is invalid (string not datetime).\n",
    "### Define\n",
    "Convert **timestamp** to datetime data type.\n",
    "### Code"
   ]
  },
  {
   "cell_type": "code",
   "execution_count": 59,
   "id": "exterior-handling",
   "metadata": {},
   "outputs": [],
   "source": [
    "archive_clean['timestamp'] = pd.to_datetime(archive_clean.timestamp)\n",
    "archive_clean['timestamp'] = archive_clean.timestamp.dt.floor('s')"
   ]
  },
  {
   "cell_type": "markdown",
   "id": "removed-motorcycle",
   "metadata": {},
   "source": [
    "### Test\n"
   ]
  },
  {
   "cell_type": "code",
   "execution_count": 60,
   "id": "varied-asbestos",
   "metadata": {},
   "outputs": [
    {
     "name": "stdout",
     "output_type": "stream",
     "text": [
      "<class 'pandas.core.frame.DataFrame'>\n",
      "Int64Index: 2094 entries, 0 to 2355\n",
      "Data columns (total 12 columns):\n",
      " #   Column              Non-Null Count  Dtype              \n",
      "---  ------              --------------  -----              \n",
      " 0   tweet_id            2094 non-null   int64              \n",
      " 1   timestamp           2094 non-null   datetime64[ns, UTC]\n",
      " 2   source              2094 non-null   object             \n",
      " 3   text                2094 non-null   object             \n",
      " 4   expanded_urls       2094 non-null   object             \n",
      " 5   rating_numerator    2094 non-null   int64              \n",
      " 6   rating_denominator  2094 non-null   int64              \n",
      " 7   name                2094 non-null   object             \n",
      " 8   doggo               2094 non-null   object             \n",
      " 9   floofer             2094 non-null   object             \n",
      " 10  pupper              2094 non-null   object             \n",
      " 11  puppo               2094 non-null   object             \n",
      "dtypes: datetime64[ns, UTC](1), int64(3), object(8)\n",
      "memory usage: 212.7+ KB\n"
     ]
    }
   ],
   "source": [
    "archive_clean.info()"
   ]
  },
  {
   "cell_type": "markdown",
   "id": "proof-indication",
   "metadata": {},
   "source": [
    "---\n",
    "<a id='clean_q5'></a>\n",
    "### _**`archive`**_\n",
    "\n",
    "5.There are 109 tweets with regular words in the **name** column that are NOT a valid name; these words are all lowercase; all valid names start with an uppercase letter.\n",
    "\n",
    "\n",
    "### Define\n",
    "Replace all lowercase words in the **name** column with the string \"none\".\n",
    "### Code"
   ]
  },
  {
   "cell_type": "code",
   "execution_count": 61,
   "id": "thirty-declaration",
   "metadata": {},
   "outputs": [
    {
     "data": {
      "text/plain": [
       "a               55\n",
       "actually         2\n",
       "all              1\n",
       "an               6\n",
       "by               1\n",
       "getting          2\n",
       "his              1\n",
       "incredibly       1\n",
       "infuriating      1\n",
       "just             3\n",
       "life             1\n",
       "light            1\n",
       "mad              1\n",
       "my               1\n",
       "not              2\n",
       "officially       1\n",
       "old              1\n",
       "one              4\n",
       "quite            3\n",
       "space            1\n",
       "such             1\n",
       "the              8\n",
       "this             1\n",
       "unacceptable     1\n",
       "very             4\n",
       "Name: name, dtype: int64"
      ]
     },
     "execution_count": 61,
     "metadata": {},
     "output_type": "execute_result"
    }
   ],
   "source": [
    "names_mask = archive_clean.name.str.contains('^[a-z]', regex = True)\n",
    "archive_clean[names_mask].name.value_counts().sort_index()"
   ]
  },
  {
   "cell_type": "code",
   "execution_count": 62,
   "id": "chubby-powder",
   "metadata": {},
   "outputs": [],
   "source": [
    "archive_clean.loc[names_mask, 'name'] = \"none\""
   ]
  },
  {
   "cell_type": "markdown",
   "id": "twelve-senator",
   "metadata": {},
   "source": [
    "### Test"
   ]
  },
  {
   "cell_type": "code",
   "execution_count": 63,
   "id": "greater-memorabilia",
   "metadata": {},
   "outputs": [
    {
     "data": {
      "text/plain": [
       "none    104\n",
       "Name: name, dtype: int64"
      ]
     },
     "execution_count": 63,
     "metadata": {},
     "output_type": "execute_result"
    }
   ],
   "source": [
    "# All these entries were changed to \"none\"\n",
    "archive_clean[names_mask].name.value_counts().sort_index()"
   ]
  },
  {
   "cell_type": "markdown",
   "id": "faced-mumbai",
   "metadata": {},
   "source": [
    "---\n",
    "<a id='clean_q7'></a>\n",
    "### _**`archive`**_\n",
    "\n",
    "7.Ignoring replies and retweets, there are 17 tweets with **rating_denominator** NOT equal to 10:\n"
   ]
  },
  {
   "cell_type": "markdown",
   "id": "consistent-forty",
   "metadata": {},
   "source": [
    "<a id='clean_q7-1'></a>\n",
    "  A. 4 tweets have the correct rating within the text, and can be manually fixed.\n",
    "### Define\n",
    ">Manual fix:\n",
    "- 740373189193256964: replace 9/11 with 14/10\n",
    "- 716439118184652801: replace 50/50 with 11/10\n",
    "- 682962037429899265: replace 7/11 with 10/10\n",
    "- 666287406224695296: replace 1/2 with 9/10\n",
    "\n",
    "### Code"
   ]
  },
  {
   "cell_type": "code",
   "execution_count": 64,
   "id": "respiratory-sustainability",
   "metadata": {},
   "outputs": [],
   "source": [
    "mask_row = archive_clean.tweet_id == 740373189193256964\n",
    "archive_clean.loc[mask_row, 'rating_numerator'] = 14\n",
    "archive_clean.loc[mask_row, 'rating_denominator'] = 10"
   ]
  },
  {
   "cell_type": "code",
   "execution_count": 65,
   "id": "musical-methodology",
   "metadata": {},
   "outputs": [],
   "source": [
    "mask_row = archive_clean.tweet_id == 716439118184652801\n",
    "archive_clean.loc[mask_row, 'rating_numerator'] = 11\n",
    "archive_clean.loc[mask_row, 'rating_denominator'] = 10"
   ]
  },
  {
   "cell_type": "code",
   "execution_count": 66,
   "id": "seeing-development",
   "metadata": {},
   "outputs": [],
   "source": [
    "mask_row = archive_clean.tweet_id == 682962037429899265\n",
    "archive_clean.loc[mask_row, 'rating_numerator'] = 10\n",
    "archive_clean.loc[mask_row, 'rating_denominator'] = 10"
   ]
  },
  {
   "cell_type": "code",
   "execution_count": 67,
   "id": "every-noise",
   "metadata": {},
   "outputs": [],
   "source": [
    "mask_row = archive_clean.tweet_id == 666287406224695296\n",
    "archive_clean.loc[mask_row, 'rating_numerator'] = 9\n",
    "archive_clean.loc[mask_row, 'rating_denominator'] = 10"
   ]
  },
  {
   "cell_type": "markdown",
   "id": "irish-bhutan",
   "metadata": {},
   "source": [
    "### Test"
   ]
  },
  {
   "cell_type": "code",
   "execution_count": 68,
   "id": "chinese-cyprus",
   "metadata": {},
   "outputs": [
    {
     "data": {
      "text/html": [
       "<div>\n",
       "<style scoped>\n",
       "    .dataframe tbody tr th:only-of-type {\n",
       "        vertical-align: middle;\n",
       "    }\n",
       "\n",
       "    .dataframe tbody tr th {\n",
       "        vertical-align: top;\n",
       "    }\n",
       "\n",
       "    .dataframe thead th {\n",
       "        text-align: right;\n",
       "    }\n",
       "</style>\n",
       "<table border=\"1\" class=\"dataframe\">\n",
       "  <thead>\n",
       "    <tr style=\"text-align: right;\">\n",
       "      <th></th>\n",
       "      <th>tweet_id</th>\n",
       "      <th>text</th>\n",
       "      <th>rating_numerator</th>\n",
       "      <th>rating_denominator</th>\n",
       "    </tr>\n",
       "  </thead>\n",
       "  <tbody>\n",
       "    <tr>\n",
       "      <th>1068</th>\n",
       "      <td>740373189193256964</td>\n",
       "      <td>After so many requests, this is Bretagne. She ...</td>\n",
       "      <td>14</td>\n",
       "      <td>10</td>\n",
       "    </tr>\n",
       "    <tr>\n",
       "      <th>1202</th>\n",
       "      <td>716439118184652801</td>\n",
       "      <td>This is Bluebert. He just saw that both #Final...</td>\n",
       "      <td>11</td>\n",
       "      <td>10</td>\n",
       "    </tr>\n",
       "    <tr>\n",
       "      <th>1662</th>\n",
       "      <td>682962037429899265</td>\n",
       "      <td>This is Darrel. He just robbed a 7/11 and is i...</td>\n",
       "      <td>10</td>\n",
       "      <td>10</td>\n",
       "    </tr>\n",
       "    <tr>\n",
       "      <th>2335</th>\n",
       "      <td>666287406224695296</td>\n",
       "      <td>This is an Albanian 3 1/2 legged  Episcopalian...</td>\n",
       "      <td>9</td>\n",
       "      <td>10</td>\n",
       "    </tr>\n",
       "  </tbody>\n",
       "</table>\n",
       "</div>"
      ],
      "text/plain": [
       "                tweet_id                                               text  \\\n",
       "1068  740373189193256964  After so many requests, this is Bretagne. She ...   \n",
       "1202  716439118184652801  This is Bluebert. He just saw that both #Final...   \n",
       "1662  682962037429899265  This is Darrel. He just robbed a 7/11 and is i...   \n",
       "2335  666287406224695296  This is an Albanian 3 1/2 legged  Episcopalian...   \n",
       "\n",
       "      rating_numerator  rating_denominator  \n",
       "1068                14                  10  \n",
       "1202                11                  10  \n",
       "1662                10                  10  \n",
       "2335                 9                  10  "
      ]
     },
     "execution_count": 68,
     "metadata": {},
     "output_type": "execute_result"
    }
   ],
   "source": [
    "mask_cols = ['tweet_id', 'text', 'rating_numerator', 'rating_denominator']\n",
    "archive_clean[(archive_clean.tweet_id == 740373189193256964) | \\\n",
    "              (archive_clean.tweet_id == 716439118184652801) | \\\n",
    "              (archive_clean.tweet_id == 682962037429899265) | \\\n",
    "              (archive_clean.tweet_id == 666287406224695296) ][mask_cols]"
   ]
  },
  {
   "cell_type": "markdown",
   "id": "particular-minister",
   "metadata": {},
   "source": [
    "---\n",
    "<a id='clean_q7-2'></a>\n",
    "B. 13 are about multiple dogs/pups, and can be dropped.\n",
    "\n",
    "### Define\n",
    "Drop the remaining tweets with **rating_denominator** NOT equal to 10:\n",
    "### Code"
   ]
  },
  {
   "cell_type": "code",
   "execution_count": 69,
   "id": "intimate-shareware",
   "metadata": {},
   "outputs": [
    {
     "data": {
      "text/plain": [
       "170       1\n",
       "150       1\n",
       "120       1\n",
       "110       1\n",
       "90        1\n",
       "80        2\n",
       "70        1\n",
       "50        2\n",
       "40        1\n",
       "20        1\n",
       "10     2081\n",
       "7         1\n",
       "Name: rating_denominator, dtype: int64"
      ]
     },
     "execution_count": 69,
     "metadata": {},
     "output_type": "execute_result"
    }
   ],
   "source": [
    "# display denominators\n",
    "archive_clean.rating_denominator.value_counts().sort_index(ascending = False)"
   ]
  },
  {
   "cell_type": "code",
   "execution_count": 70,
   "id": "interstate-market",
   "metadata": {},
   "outputs": [],
   "source": [
    "archive_clean = archive_clean[archive_clean.rating_denominator == 10]"
   ]
  },
  {
   "cell_type": "markdown",
   "id": "innovative-basic",
   "metadata": {},
   "source": [
    "### Test"
   ]
  },
  {
   "cell_type": "code",
   "execution_count": 71,
   "id": "ordered-drinking",
   "metadata": {},
   "outputs": [
    {
     "data": {
      "text/plain": [
       "10    2081\n",
       "Name: rating_denominator, dtype: int64"
      ]
     },
     "execution_count": 71,
     "metadata": {},
     "output_type": "execute_result"
    }
   ],
   "source": [
    "# check the values in the column - should only be \"10\"\n",
    "archive_clean.rating_denominator.value_counts().sort_index(ascending = False)"
   ]
  },
  {
   "cell_type": "markdown",
   "id": "complicated-coverage",
   "metadata": {},
   "source": [
    "---\n",
    "<a id='clean_q8'></a>\n",
    "### _**`predictions`**_\n",
    "\n",
    "8.there are 66 duplicated urls.\n",
    "### Define \n",
    "Drop 66 **jpg_url** duplicated.\n",
    "\n",
    "### Code"
   ]
  },
  {
   "cell_type": "code",
   "execution_count": 72,
   "id": "objective-fleet",
   "metadata": {},
   "outputs": [],
   "source": [
    "predictions_clean = predictions_clean.drop_duplicates(subset=['jpg_url'], keep='last')"
   ]
  },
  {
   "cell_type": "markdown",
   "id": "respiratory-enhancement",
   "metadata": {},
   "source": [
    "### Test"
   ]
  },
  {
   "cell_type": "code",
   "execution_count": 73,
   "id": "lined-exemption",
   "metadata": {},
   "outputs": [
    {
     "data": {
      "text/plain": [
       "0"
      ]
     },
     "execution_count": 73,
     "metadata": {},
     "output_type": "execute_result"
    }
   ],
   "source": [
    "sum(predictions_clean['jpg_url'].duplicated())"
   ]
  },
  {
   "cell_type": "markdown",
   "id": "sudden-premium",
   "metadata": {},
   "source": [
    "---\n",
    "<a id='clean_t1'></a>\n",
    "## Tidiness\n",
    "\n",
    "### _**`archive`**_\n",
    "1.There are 4 columns for dog stages (**doggo, floofer, pupper, puppo**) \n",
    "\n",
    "\n",
    "### Define\n",
    " Melt the 4 columns with the dog stages:\n",
    " - Create a temporary column called `none` to store the `None` values; use lowercase 'n' to avoid confusion with 'None' special NA value.\n",
    " - Create a new column `stage` to store the categories: `doggo`, `floofer`, `pupper`, `puppo`, as well as `None`, and select the stage from the column that contains a value.\n",
    " - Cast the `stage` column to categorical data type.\n",
    " - Drop the 4 original dog stage columns, and the temporary `none` column.\n",
    "\n",
    "### Code"
   ]
  },
  {
   "cell_type": "code",
   "execution_count": 74,
   "id": "protected-bundle",
   "metadata": {},
   "outputs": [
    {
     "data": {
      "text/html": [
       "<div>\n",
       "<style scoped>\n",
       "    .dataframe tbody tr th:only-of-type {\n",
       "        vertical-align: middle;\n",
       "    }\n",
       "\n",
       "    .dataframe tbody tr th {\n",
       "        vertical-align: top;\n",
       "    }\n",
       "\n",
       "    .dataframe thead th {\n",
       "        text-align: right;\n",
       "    }\n",
       "</style>\n",
       "<table border=\"1\" class=\"dataframe\">\n",
       "  <thead>\n",
       "    <tr style=\"text-align: right;\">\n",
       "      <th></th>\n",
       "      <th>doggo</th>\n",
       "      <th>floofer</th>\n",
       "      <th>pupper</th>\n",
       "      <th>puppo</th>\n",
       "    </tr>\n",
       "  </thead>\n",
       "  <tbody>\n",
       "    <tr>\n",
       "      <th>count</th>\n",
       "      <td>2081</td>\n",
       "      <td>2081</td>\n",
       "      <td>2081</td>\n",
       "      <td>2081</td>\n",
       "    </tr>\n",
       "    <tr>\n",
       "      <th>unique</th>\n",
       "      <td>2</td>\n",
       "      <td>2</td>\n",
       "      <td>2</td>\n",
       "      <td>2</td>\n",
       "    </tr>\n",
       "    <tr>\n",
       "      <th>top</th>\n",
       "      <td>None</td>\n",
       "      <td>None</td>\n",
       "      <td>None</td>\n",
       "      <td>None</td>\n",
       "    </tr>\n",
       "    <tr>\n",
       "      <th>freq</th>\n",
       "      <td>1998</td>\n",
       "      <td>2071</td>\n",
       "      <td>1852</td>\n",
       "      <td>2057</td>\n",
       "    </tr>\n",
       "  </tbody>\n",
       "</table>\n",
       "</div>"
      ],
      "text/plain": [
       "       doggo floofer pupper puppo\n",
       "count   2081    2081   2081  2081\n",
       "unique     2       2      2     2\n",
       "top     None    None   None  None\n",
       "freq    1998    2071   1852  2057"
      ]
     },
     "execution_count": 74,
     "metadata": {},
     "output_type": "execute_result"
    }
   ],
   "source": [
    "archive_clean[['doggo', 'floofer', 'pupper', 'puppo']].describe()"
   ]
  },
  {
   "cell_type": "markdown",
   "id": "unlikely-party",
   "metadata": {},
   "source": [
    "**NOTE:**\n",
    "From the describe() output here, I'm going to order the dog stages by count, in increasing order: floofer, puppo, doggo and pupper."
   ]
  },
  {
   "cell_type": "code",
   "execution_count": 75,
   "id": "foster-carpet",
   "metadata": {},
   "outputs": [
    {
     "data": {
      "text/plain": [
       "0    1746\n",
       "1     324\n",
       "2      11\n",
       "Name: none, dtype: int64"
      ]
     },
     "execution_count": 75,
     "metadata": {},
     "output_type": "execute_result"
    }
   ],
   "source": [
    "# replace the stage name with 1, and 'None' with 0, like a dummy variable\n",
    "make_dummy = lambda x: 0 if x == 'None' else 1\n",
    "\n",
    "archive_clean.doggo = archive_clean.doggo.apply(make_dummy)\n",
    "archive_clean.floofer = archive_clean.floofer.apply(make_dummy)\n",
    "archive_clean.pupper = archive_clean.pupper.apply(make_dummy)\n",
    "archive_clean.puppo = archive_clean.puppo.apply(make_dummy)\n",
    "\n",
    "# by adding the stage columns, we can see how many are 'none' and how many stages are set\n",
    "archive_clean['none'] = archive_clean['doggo'] + archive_clean['floofer'] + \\\n",
    "                        archive_clean['pupper'] + archive_clean['puppo']\n",
    "\n",
    "# have a look at what we have before we continue...\n",
    "archive_clean['none'].value_counts()"
   ]
  },
  {
   "cell_type": "markdown",
   "id": "swiss-trail",
   "metadata": {},
   "source": [
    "**NOTE:**\n",
    "Here we have a little surprise! Turns out there are 11 tweets that have 2 dog stages set, so these must be tweets about multiple dogs. As there are only 11 entries, I'll just carry on with selecting the first of the dog stages in increasing count order - floofer, puppo, doggo and pupper - so we don't loose too much information."
   ]
  },
  {
   "cell_type": "code",
   "execution_count": 76,
   "id": "loving-boulder",
   "metadata": {},
   "outputs": [],
   "source": [
    "# if there are NO stages specified then set 'None' to 1\n",
    "stage_none = lambda x: 1 if x == 0 else 0\n",
    "\n",
    "# reset values in 'none' \n",
    "archive_clean['none'] = archive_clean['none'].apply(stage_none)\n",
    "\n",
    "# Order the stages in increasing count order: floofer, puppo, doggo and pupper\n",
    "# set the choice order for dog stage based on count order\n",
    "stage = ['floofer', 'puppo', 'doggo', 'pupper', 'none']\n",
    "\n",
    "# set the conditions for selecting the dog stage based on count order\n",
    "conditions = [\n",
    "    (archive_clean[stage[0]] == 1),\n",
    "    (archive_clean[stage[1]] == 1),\n",
    "    (archive_clean[stage[2]] == 1),\n",
    "    (archive_clean[stage[3]] == 1),\n",
    "    (archive_clean[stage[4]] == 1)]\n",
    "\n",
    "# select the dog stage based on the first successful condition; stage[4] is 'None'\n",
    "archive_clean['stage'] = np.select(conditions, stage, default = stage[4])\n",
    "\n",
    "# now we can drop the original 4 dog stage columns, AND the temporary 'None'\n",
    "archive_clean.drop(stage, axis = 1, inplace = True)\n",
    "\n",
    "# set the 'stage' column data type to category\n",
    "archive_clean['stage'] = archive_clean.stage.astype('category')\n",
    "\n",
    "# Source for algorithm:    https://code.i-harness.com/en/q/19c9fbc"
   ]
  },
  {
   "cell_type": "markdown",
   "id": "positive-partition",
   "metadata": {},
   "source": [
    "### Test"
   ]
  },
  {
   "cell_type": "code",
   "execution_count": 77,
   "id": "frequent-poster",
   "metadata": {},
   "outputs": [
    {
     "name": "stdout",
     "output_type": "stream",
     "text": [
      "<class 'pandas.core.frame.DataFrame'>\n",
      "Int64Index: 2081 entries, 0 to 2355\n",
      "Data columns (total 9 columns):\n",
      " #   Column              Non-Null Count  Dtype              \n",
      "---  ------              --------------  -----              \n",
      " 0   tweet_id            2081 non-null   int64              \n",
      " 1   timestamp           2081 non-null   datetime64[ns, UTC]\n",
      " 2   source              2081 non-null   object             \n",
      " 3   text                2081 non-null   object             \n",
      " 4   expanded_urls       2081 non-null   object             \n",
      " 5   rating_numerator    2081 non-null   int64              \n",
      " 6   rating_denominator  2081 non-null   int64              \n",
      " 7   name                2081 non-null   object             \n",
      " 8   stage               2081 non-null   category           \n",
      "dtypes: category(1), datetime64[ns, UTC](1), int64(3), object(4)\n",
      "memory usage: 148.6+ KB\n"
     ]
    }
   ],
   "source": [
    "archive_clean.info()"
   ]
  },
  {
   "cell_type": "code",
   "execution_count": 78,
   "id": "australian-median",
   "metadata": {},
   "outputs": [
    {
     "data": {
      "text/plain": [
       "none       1746\n",
       "pupper      220\n",
       "doggo        81\n",
       "puppo        24\n",
       "floofer      10\n",
       "Name: stage, dtype: int64"
      ]
     },
     "execution_count": 78,
     "metadata": {},
     "output_type": "execute_result"
    }
   ],
   "source": [
    "archive_clean.stage.value_counts()"
   ]
  },
  {
   "cell_type": "markdown",
   "id": "experienced-marketing",
   "metadata": {},
   "source": [
    "---\n",
    "<a id='clean_t2'></a>\n",
    "\n",
    "### _**`archive`**_\n",
    "2.When all **rating_denominator**s are the same (10) this column is no longer needed. \n",
    "### Define\n",
    "- Drop the `rating_denominator` column.\n",
    "- Rename the `rating_numerator` column to be `rating`.\n",
    "\n",
    "### Code"
   ]
  },
  {
   "cell_type": "code",
   "execution_count": 79,
   "id": "coated-jacket",
   "metadata": {},
   "outputs": [
    {
     "data": {
      "text/plain": [
       "10    2081\n",
       "Name: rating_denominator, dtype: int64"
      ]
     },
     "execution_count": 79,
     "metadata": {},
     "output_type": "execute_result"
    }
   ],
   "source": [
    "archive_clean.rating_denominator.value_counts()"
   ]
  },
  {
   "cell_type": "code",
   "execution_count": 80,
   "id": "sound-citation",
   "metadata": {},
   "outputs": [],
   "source": [
    "archive_clean.drop(['rating_denominator'], axis = 1, inplace = True)\n",
    "archive_clean.rename(index = str, columns = {'rating_numerator': 'rating'}, inplace = True)"
   ]
  },
  {
   "cell_type": "markdown",
   "id": "suspected-nutrition",
   "metadata": {},
   "source": [
    "### Test"
   ]
  },
  {
   "cell_type": "code",
   "execution_count": 81,
   "id": "utility-puzzle",
   "metadata": {},
   "outputs": [
    {
     "data": {
      "text/plain": [
       "['tweet_id',\n",
       " 'timestamp',\n",
       " 'source',\n",
       " 'text',\n",
       " 'expanded_urls',\n",
       " 'rating',\n",
       " 'name',\n",
       " 'stage']"
      ]
     },
     "execution_count": 81,
     "metadata": {},
     "output_type": "execute_result"
    }
   ],
   "source": [
    "list(archive_clean)"
   ]
  },
  {
   "cell_type": "markdown",
   "id": "loaded-guidance",
   "metadata": {},
   "source": [
    "---\n",
    "<a id='clean_t3'></a>\n",
    "### _**`predictions`**_\n",
    "\n",
    "3.The table does not follow the rules of “Tidy Data”; the columns **p1**, **p2** and **p3** contain the same type of data, predictions. The columns **p1_conf**, **p2_conf** and **p3_conf** all contain values for confidence level, and columns **p1_dog**, **p2_dog** and **p3_dog** all contain Boolean values indicating whether the prediction is in fact a type of dog. \n",
    "\n",
    "### Define\n",
    "- Create 1 column for image prediction and 1 column for confidence level\n",
    "- Create a function where I keep the first true prediction along the confidence level as new columns.\n",
    "\n",
    "### Code"
   ]
  },
  {
   "cell_type": "code",
   "execution_count": 82,
   "id": "sapphire-concrete",
   "metadata": {},
   "outputs": [],
   "source": [
    "#the first true prediction (p1, p2 or p3) will be store in these lists\n",
    "dog_type = []\n",
    "confidence_list = []\n",
    "\n",
    "#create a function with nested if to capture the dog type and confidence level from the first 'true' prediction\n",
    "def image(predictions_clean):\n",
    "    if predictions_clean['p1_dog'] == True:\n",
    "        dog_type.append(predictions_clean['p1'])\n",
    "        confidence_list.append(predictions_clean['p1_conf'])\n",
    "    elif predictions_clean['p2_dog'] == True:\n",
    "        dog_type.append(predictions_clean['p2'])\n",
    "        confidence_list.append(predictions_clean['p2_conf'])\n",
    "    elif predictions_clean['p3_dog'] == True:\n",
    "        dog_type.append(predictions_clean['p3'])\n",
    "        confidence_list.append(predictions_clean['p3_conf'])\n",
    "    else:\n",
    "        dog_type.append('Error')\n",
    "        confidence_list.append('Error')\n",
    "\n",
    "#series objects having index the predictions_clean column.        \n",
    "predictions_clean.apply(image, axis=1)\n",
    "\n",
    "#create new columns\n",
    "predictions_clean['dog_type'] = dog_type\n",
    "predictions_clean['confidence_list'] = confidence_list"
   ]
  },
  {
   "cell_type": "code",
   "execution_count": 83,
   "id": "classical-baltimore",
   "metadata": {},
   "outputs": [],
   "source": [
    "#drop rows that has prediction_list 'error'\n",
    "predictions_clean = predictions_clean[predictions_clean['dog_type'] != 'Error']"
   ]
  },
  {
   "cell_type": "markdown",
   "id": "cutting-bumper",
   "metadata": {},
   "source": [
    "### Test"
   ]
  },
  {
   "cell_type": "code",
   "execution_count": 84,
   "id": "living-technical",
   "metadata": {},
   "outputs": [
    {
     "name": "stdout",
     "output_type": "stream",
     "text": [
      "<class 'pandas.core.frame.DataFrame'>\n",
      "Int64Index: 1691 entries, 0 to 2073\n",
      "Data columns (total 14 columns):\n",
      " #   Column           Non-Null Count  Dtype  \n",
      "---  ------           --------------  -----  \n",
      " 0   tweet_id         1691 non-null   int64  \n",
      " 1   jpg_url          1691 non-null   object \n",
      " 2   img_num          1691 non-null   int64  \n",
      " 3   p1               1691 non-null   object \n",
      " 4   p1_conf          1691 non-null   float64\n",
      " 5   p1_dog           1691 non-null   bool   \n",
      " 6   p2               1691 non-null   object \n",
      " 7   p2_conf          1691 non-null   float64\n",
      " 8   p2_dog           1691 non-null   bool   \n",
      " 9   p3               1691 non-null   object \n",
      " 10  p3_conf          1691 non-null   float64\n",
      " 11  p3_dog           1691 non-null   bool   \n",
      " 12  dog_type         1691 non-null   object \n",
      " 13  confidence_list  1691 non-null   object \n",
      "dtypes: bool(3), float64(3), int64(2), object(6)\n",
      "memory usage: 163.5+ KB\n"
     ]
    }
   ],
   "source": [
    "predictions_clean.info()"
   ]
  },
  {
   "cell_type": "code",
   "execution_count": 85,
   "id": "rotary-equipment",
   "metadata": {},
   "outputs": [],
   "source": [
    "#Delete columns that won't be used for analysis\n",
    "predictions_clean = predictions_clean.drop(['img_num', 'p1', \n",
    "                                                      'p1_conf', 'p1_dog', \n",
    "                                                      'p2', 'p2_conf', \n",
    "                                                      'p2_dog', 'p3', \n",
    "                                                      'p3_conf', \n",
    "                                                      'p3_dog'], 1)"
   ]
  },
  {
   "cell_type": "markdown",
   "id": "spread-aruba",
   "metadata": {},
   "source": [
    "### Test\n"
   ]
  },
  {
   "cell_type": "code",
   "execution_count": 86,
   "id": "positive-rubber",
   "metadata": {},
   "outputs": [
    {
     "data": {
      "text/plain": [
       "['tweet_id', 'jpg_url', 'dog_type', 'confidence_list']"
      ]
     },
     "execution_count": 86,
     "metadata": {},
     "output_type": "execute_result"
    }
   ],
   "source": [
    "list(predictions_clean)"
   ]
  },
  {
   "cell_type": "markdown",
   "id": "romantic-illinois",
   "metadata": {},
   "source": [
    "---\n",
    "<a id='clean_t4'></a>\n",
    "\n",
    "### _**`json_data`**_\n",
    "4.All data are related but devided into 3 separate dataframes \n",
    "\n",
    "### Define\n",
    " All tables should be part of one dataset\n",
    "\n",
    "### Code"
   ]
  },
  {
   "cell_type": "code",
   "execution_count": 87,
   "id": "minute-prospect",
   "metadata": {},
   "outputs": [],
   "source": [
    "#create a new dataframe that merge archive_clean and predictions_clean\n",
    "df_twitter1 = pd.merge(archive_clean, \n",
    "                      predictions_clean, \n",
    "                      how = 'left', on = ['tweet_id'])"
   ]
  },
  {
   "cell_type": "markdown",
   "id": "crazy-richardson",
   "metadata": {},
   "source": [
    "### Test"
   ]
  },
  {
   "cell_type": "code",
   "execution_count": 88,
   "id": "geological-reserve",
   "metadata": {},
   "outputs": [
    {
     "name": "stdout",
     "output_type": "stream",
     "text": [
      "<class 'pandas.core.frame.DataFrame'>\n",
      "Int64Index: 2081 entries, 0 to 2080\n",
      "Data columns (total 11 columns):\n",
      " #   Column           Non-Null Count  Dtype              \n",
      "---  ------           --------------  -----              \n",
      " 0   tweet_id         2081 non-null   int64              \n",
      " 1   timestamp        2081 non-null   datetime64[ns, UTC]\n",
      " 2   source           2081 non-null   object             \n",
      " 3   text             2081 non-null   object             \n",
      " 4   expanded_urls    2081 non-null   object             \n",
      " 5   rating           2081 non-null   int64              \n",
      " 6   name             2081 non-null   object             \n",
      " 7   stage            2081 non-null   category           \n",
      " 8   jpg_url          1594 non-null   object             \n",
      " 9   dog_type         1594 non-null   object             \n",
      " 10  confidence_list  1594 non-null   object             \n",
      "dtypes: category(1), datetime64[ns, UTC](1), int64(2), object(7)\n",
      "memory usage: 181.1+ KB\n"
     ]
    }
   ],
   "source": [
    "df_twitter1.info()"
   ]
  },
  {
   "cell_type": "code",
   "execution_count": 89,
   "id": "superb-sentence",
   "metadata": {},
   "outputs": [],
   "source": [
    "#create a new dataframe that merge df_twitter1 and json_data_clean\n",
    "df_twitter = pd.merge(df_twitter1, json_data_clean, \n",
    "                      how = 'left', on = ['tweet_id'])"
   ]
  },
  {
   "cell_type": "markdown",
   "id": "missing-measure",
   "metadata": {},
   "source": [
    "### Test"
   ]
  },
  {
   "cell_type": "code",
   "execution_count": 90,
   "id": "consecutive-designer",
   "metadata": {},
   "outputs": [
    {
     "name": "stdout",
     "output_type": "stream",
     "text": [
      "<class 'pandas.core.frame.DataFrame'>\n",
      "Int64Index: 2081 entries, 0 to 2080\n",
      "Data columns (total 13 columns):\n",
      " #   Column           Non-Null Count  Dtype              \n",
      "---  ------           --------------  -----              \n",
      " 0   tweet_id         2081 non-null   int64              \n",
      " 1   timestamp        2081 non-null   datetime64[ns, UTC]\n",
      " 2   source           2081 non-null   object             \n",
      " 3   text             2081 non-null   object             \n",
      " 4   expanded_urls    2081 non-null   object             \n",
      " 5   rating           2081 non-null   int64              \n",
      " 6   name             2081 non-null   object             \n",
      " 7   stage            2081 non-null   category           \n",
      " 8   jpg_url          1594 non-null   object             \n",
      " 9   dog_type         1594 non-null   object             \n",
      " 10  confidence_list  1594 non-null   object             \n",
      " 11  retweet_count    2081 non-null   int64              \n",
      " 12  favorite_count   2081 non-null   int64              \n",
      "dtypes: category(1), datetime64[ns, UTC](1), int64(4), object(7)\n",
      "memory usage: 213.6+ KB\n"
     ]
    }
   ],
   "source": [
    "df_twitter.info()"
   ]
  },
  {
   "cell_type": "markdown",
   "id": "moved-cattle",
   "metadata": {},
   "source": [
    "<a id='clean_q9'></a>\n",
    "### _**`predictions`**_\n",
    "9.There are 2075 image predictions, 281 less than the number of tweets in the archive, so will be classified as \"missing data\".\n",
    "### Define\n",
    "keep rows that only have picture\n",
    "### Code"
   ]
  },
  {
   "cell_type": "code",
   "execution_count": 91,
   "id": "talented-shuttle",
   "metadata": {},
   "outputs": [],
   "source": [
    "df_twitter = df_twitter[df_twitter['jpg_url'].notnull()]"
   ]
  },
  {
   "cell_type": "markdown",
   "id": "funky-trunk",
   "metadata": {},
   "source": [
    "### Test"
   ]
  },
  {
   "cell_type": "code",
   "execution_count": 92,
   "id": "elder-puppy",
   "metadata": {},
   "outputs": [
    {
     "name": "stdout",
     "output_type": "stream",
     "text": [
      "<class 'pandas.core.frame.DataFrame'>\n",
      "Int64Index: 1594 entries, 1 to 2080\n",
      "Data columns (total 13 columns):\n",
      " #   Column           Non-Null Count  Dtype              \n",
      "---  ------           --------------  -----              \n",
      " 0   tweet_id         1594 non-null   int64              \n",
      " 1   timestamp        1594 non-null   datetime64[ns, UTC]\n",
      " 2   source           1594 non-null   object             \n",
      " 3   text             1594 non-null   object             \n",
      " 4   expanded_urls    1594 non-null   object             \n",
      " 5   rating           1594 non-null   int64              \n",
      " 6   name             1594 non-null   object             \n",
      " 7   stage            1594 non-null   category           \n",
      " 8   jpg_url          1594 non-null   object             \n",
      " 9   dog_type         1594 non-null   object             \n",
      " 10  confidence_list  1594 non-null   object             \n",
      " 11  retweet_count    1594 non-null   int64              \n",
      " 12  favorite_count   1594 non-null   int64              \n",
      "dtypes: category(1), datetime64[ns, UTC](1), int64(4), object(7)\n",
      "memory usage: 163.7+ KB\n"
     ]
    }
   ],
   "source": [
    "df_twitter.info()"
   ]
  },
  {
   "cell_type": "code",
   "execution_count": 93,
   "id": "bulgarian-aurora",
   "metadata": {},
   "outputs": [
    {
     "data": {
      "text/plain": [
       "12    402\n",
       "10    352\n",
       "11    339\n",
       "13    203\n",
       "9     132\n",
       "8      68\n",
       "7      31\n",
       "14     20\n",
       "6      16\n",
       "5      14\n",
       "4       6\n",
       "3       5\n",
       "2       2\n",
       "27      1\n",
       "0       1\n",
       "26      1\n",
       "75      1\n",
       "Name: rating, dtype: int64"
      ]
     },
     "execution_count": 93,
     "metadata": {},
     "output_type": "execute_result"
    }
   ],
   "source": [
    "df_twitter['rating'].value_counts()"
   ]
  },
  {
   "cell_type": "markdown",
   "id": "baking-liechtenstein",
   "metadata": {},
   "source": [
    "---\n",
    "<a id='store'></a>\n",
    "# Store Data"
   ]
  },
  {
   "cell_type": "code",
   "execution_count": 94,
   "id": "hourly-conditioning",
   "metadata": {},
   "outputs": [],
   "source": [
    "#Store the clean DataFrame in a CSV file\n",
    "df_twitter.to_csv('twitter_archive_master.csv', \n",
    "                 index=False, encoding = 'utf-8')"
   ]
  },
  {
   "cell_type": "markdown",
   "id": "dynamic-manchester",
   "metadata": {},
   "source": [
    "---\n",
    "<a id='analyze'></a>\n",
    "# Analyze Data"
   ]
  },
  {
   "cell_type": "markdown",
   "id": "impressive-bangladesh",
   "metadata": {},
   "source": [
    "### **Most common dog type**"
   ]
  },
  {
   "cell_type": "code",
   "execution_count": 107,
   "id": "athletic-yield",
   "metadata": {},
   "outputs": [
    {
     "data": {
      "text/plain": [
       "golden_retriever        139\n",
       "Labrador_retriever       98\n",
       "Pembroke                 93\n",
       "Chihuahua                86\n",
       "pug                      60\n",
       "                       ... \n",
       "Irish_wolfhound           1\n",
       "silky_terrier             1\n",
       "Bouvier_des_Flandres      1\n",
       "EntleBucher               1\n",
       "clumber                   1\n",
       "Name: dog_type, Length: 113, dtype: int64"
      ]
     },
     "execution_count": 107,
     "metadata": {},
     "output_type": "execute_result"
    }
   ],
   "source": [
    "df_twitter['dog_type'].value_counts()"
   ]
  },
  {
   "cell_type": "code",
   "execution_count": 108,
   "id": "varied-proposal",
   "metadata": {},
   "outputs": [
    {
     "data": {
      "image/png": "[encoded data removed]",
      "text/plain": [
       "<Figure size 432x288 with 1 Axes>"
      ]
     },
     "metadata": {
      "needs_background": "light"
     },
     "output_type": "display_data"
    }
   ],
   "source": [
    "df_dog_type = df_twitter.groupby('dog_type').filter(lambda x: len(x) >= 25)\n",
    "\n",
    "df_dog_type['dog_type'].value_counts().plot(kind = 'barh')\n",
    "plt.title('Histogram of the Most Rated Dog Type')\n",
    "plt.xlabel('Count')\n",
    "plt.ylabel('Type of dog')\n",
    "\n",
    "fig = plt.gcf() \n",
    "fig.savefig('output.png',bbox_inches='tight');"
   ]
  },
  {
   "cell_type": "code",
   "execution_count": 109,
   "id": "athletic-blocking",
   "metadata": {},
   "outputs": [
    {
     "name": "stdout",
     "output_type": "stream",
     "text": [
      "14      https://pbs.twimg.com/media/DFg_2PVW0AEHN3p.jpg\n",
      "16      https://pbs.twimg.com/media/DFYRgsOUQAARGhO.jpg\n",
      "17      https://pbs.twimg.com/media/DFWra-3VYAA2piG.jpg\n",
      "41      https://pbs.twimg.com/media/DELC9dZXUAADqUk.jpg\n",
      "43      https://pbs.twimg.com/media/DEF2-_hXoAAs62q.jpg\n",
      "                             ...                       \n",
      "2018    https://pbs.twimg.com/media/CUI6uuaW4AAvCIs.jpg\n",
      "2026    https://pbs.twimg.com/media/CUHREBXXAAE6A9b.jpg\n",
      "2057    https://pbs.twimg.com/media/CT9Vn7PWoAA_ZCM.jpg\n",
      "2070    https://pbs.twimg.com/media/CT5Vg_wXIAAXfnj.jpg\n",
      "2072    https://pbs.twimg.com/media/CT5PY90WoAAQGLo.jpg\n",
      "Name: jpg_url, Length: 139, dtype: object\n"
     ]
    }
   ],
   "source": [
    "print(df_twitter.loc[df_twitter.dog_type == 'golden_retriever', 'jpg_url']) "
   ]
  },
  {
   "cell_type": "markdown",
   "id": "organic-leisure",
   "metadata": {},
   "source": [
    "## insight\n",
    "- **Golden_retriever** is the most common dog in this dataset."
   ]
  },
  {
   "cell_type": "markdown",
   "id": "sufficient-fitting",
   "metadata": {},
   "source": [
    "### value_counts of different dog stage"
   ]
  },
  {
   "cell_type": "code",
   "execution_count": 110,
   "id": "hispanic-mandate",
   "metadata": {},
   "outputs": [
    {
     "data": {
      "text/plain": [
       "none       1346\n",
       "pupper      163\n",
       "doggo        56\n",
       "puppo        21\n",
       "floofer       8\n",
       "Name: stage, dtype: int64"
      ]
     },
     "execution_count": 110,
     "metadata": {},
     "output_type": "execute_result"
    }
   ],
   "source": [
    "df_stage = df_twitter.stage.value_counts()\n",
    "df_stage"
   ]
  },
  {
   "cell_type": "markdown",
   "id": "european-contrast",
   "metadata": {},
   "source": [
    "## Insight\n",
    "- **pupper** is the highest dog stage\n",
    "- **floofer** is the lowest dog stage"
   ]
  },
  {
   "cell_type": "markdown",
   "id": "built-billy",
   "metadata": {},
   "source": [
    "### Relationship between retweet_count and favorite_count"
   ]
  },
  {
   "cell_type": "code",
   "execution_count": 111,
   "id": "handy-withdrawal",
   "metadata": {},
   "outputs": [
    {
     "data": {
      "image/png": "[encoded data removed]",
      "text/plain": [
       "<Figure size 432x288 with 1 Axes>"
      ]
     },
     "metadata": {
      "needs_background": "light"
     },
     "output_type": "display_data"
    }
   ],
   "source": [
    "plt.scatter(df_twitter.retweet_count, df_twitter.favorite_count)\n",
    "plt.xlabel('retweet_count')\n",
    "plt.ylabel('favorite_count')\n",
    "plt.title('Relationship between retweet_count and favorite_count')\n",
    "\n",
    "fig = plt.gcf() \n",
    "fig.savefig('output1.png',bbox_inches='tight');"
   ]
  },
  {
   "cell_type": "markdown",
   "id": "sudden-making",
   "metadata": {},
   "source": [
    "## Insight\n",
    "- there is linear relationship between **retweet_count** and **favorite_count**.\n",
    "\n",
    "### The highest AND lowest average rating"
   ]
  },
  {
   "cell_type": "code",
   "execution_count": 112,
   "id": "stock-fight",
   "metadata": {},
   "outputs": [],
   "source": [
    "df_dog_type_mean = df_twitter.groupby('dog_type').mean()"
   ]
  },
  {
   "cell_type": "code",
   "execution_count": 113,
   "id": "induced-selection",
   "metadata": {},
   "outputs": [
    {
     "data": {
      "text/html": [
       "<div>\n",
       "<style scoped>\n",
       "    .dataframe tbody tr th:only-of-type {\n",
       "        vertical-align: middle;\n",
       "    }\n",
       "\n",
       "    .dataframe tbody tr th {\n",
       "        vertical-align: top;\n",
       "    }\n",
       "\n",
       "    .dataframe thead th {\n",
       "        text-align: right;\n",
       "    }\n",
       "</style>\n",
       "<table border=\"1\" class=\"dataframe\">\n",
       "  <thead>\n",
       "    <tr style=\"text-align: right;\">\n",
       "      <th></th>\n",
       "      <th>tweet_id</th>\n",
       "      <th>rating</th>\n",
       "      <th>retweet_count</th>\n",
       "      <th>favorite_count</th>\n",
       "    </tr>\n",
       "    <tr>\n",
       "      <th>dog_type</th>\n",
       "      <th></th>\n",
       "      <th></th>\n",
       "      <th></th>\n",
       "      <th></th>\n",
       "    </tr>\n",
       "  </thead>\n",
       "  <tbody>\n",
       "    <tr>\n",
       "      <th>Afghan_hound</th>\n",
       "      <td>8.095999e+17</td>\n",
       "      <td>8.000000</td>\n",
       "      <td>3602.5000</td>\n",
       "      <td>12191.500000</td>\n",
       "    </tr>\n",
       "    <tr>\n",
       "      <th>Airedale</th>\n",
       "      <td>7.184489e+17</td>\n",
       "      <td>9.833333</td>\n",
       "      <td>1393.7500</td>\n",
       "      <td>5280.833333</td>\n",
       "    </tr>\n",
       "    <tr>\n",
       "      <th>American_Staffordshire_terrier</th>\n",
       "      <td>7.597284e+17</td>\n",
       "      <td>10.312500</td>\n",
       "      <td>2310.8125</td>\n",
       "      <td>9380.187500</td>\n",
       "    </tr>\n",
       "    <tr>\n",
       "      <th>Appenzeller</th>\n",
       "      <td>7.939334e+17</td>\n",
       "      <td>11.000000</td>\n",
       "      <td>1458.0000</td>\n",
       "      <td>7317.500000</td>\n",
       "    </tr>\n",
       "    <tr>\n",
       "      <th>Australian_terrier</th>\n",
       "      <td>7.785921e+17</td>\n",
       "      <td>11.500000</td>\n",
       "      <td>3078.5000</td>\n",
       "      <td>11127.500000</td>\n",
       "    </tr>\n",
       "  </tbody>\n",
       "</table>\n",
       "</div>"
      ],
      "text/plain": [
       "                                    tweet_id     rating  retweet_count  \\\n",
       "dog_type                                                                 \n",
       "Afghan_hound                    8.095999e+17   8.000000      3602.5000   \n",
       "Airedale                        7.184489e+17   9.833333      1393.7500   \n",
       "American_Staffordshire_terrier  7.597284e+17  10.312500      2310.8125   \n",
       "Appenzeller                     7.939334e+17  11.000000      1458.0000   \n",
       "Australian_terrier              7.785921e+17  11.500000      3078.5000   \n",
       "\n",
       "                                favorite_count  \n",
       "dog_type                                        \n",
       "Afghan_hound                      12191.500000  \n",
       "Airedale                           5280.833333  \n",
       "American_Staffordshire_terrier     9380.187500  \n",
       "Appenzeller                        7317.500000  \n",
       "Australian_terrier                11127.500000  "
      ]
     },
     "execution_count": 113,
     "metadata": {},
     "output_type": "execute_result"
    }
   ],
   "source": [
    "df_dog_type_mean.head()"
   ]
  },
  {
   "cell_type": "code",
   "execution_count": 114,
   "id": "comparable-throw",
   "metadata": {},
   "outputs": [
    {
     "data": {
      "text/plain": [
       "dog_type\n",
       "Japanese_spaniel                5.000000\n",
       "Afghan_hound                    8.000000\n",
       "soft-coated_wheaten_terrier     8.166667\n",
       "Walker_hound                    9.000000\n",
       "Scotch_terrier                  9.000000\n",
       "                                 ...    \n",
       "briard                         12.333333\n",
       "Saluki                         12.500000\n",
       "Pomeranian                     12.536585\n",
       "Bouvier_des_Flandres           13.000000\n",
       "clumber                        27.000000\n",
       "Name: rating, Length: 113, dtype: float64"
      ]
     },
     "execution_count": 114,
     "metadata": {},
     "output_type": "execute_result"
    }
   ],
   "source": [
    "df_dog_type_sorted = df_dog_type_mean['rating'].sort_values()\n",
    "\n",
    "df_dog_type_sorted"
   ]
  },
  {
   "cell_type": "markdown",
   "id": "concrete-austin",
   "metadata": {},
   "source": [
    "## Insight\n",
    "- **Japanese_spaniel**_ has the lowest average rating\n",
    "- **clumber**_ has the highest average rating"
   ]
  },
  {
   "cell_type": "code",
   "execution_count": 115,
   "id": "practical-shepherd",
   "metadata": {},
   "outputs": [
    {
     "name": "stdout",
     "output_type": "stream",
     "text": [
      "1542    https://pbs.twimg.com/media/CWZBsjPWsAAZFFl.jpg\n",
      "Name: jpg_url, dtype: object\n"
     ]
    }
   ],
   "source": [
    "print(df_twitter.loc[df_twitter.dog_type == 'Japanese_spaniel', 'jpg_url']) "
   ]
  },
  {
   "cell_type": "code",
   "execution_count": 116,
   "id": "danish-switzerland",
   "metadata": {},
   "outputs": [
    {
     "name": "stdout",
     "output_type": "stream",
     "text": [
      "132    https://pbs.twimg.com/ext_tw_video_thumb/86128...\n",
      "Name: jpg_url, dtype: object\n"
     ]
    }
   ],
   "source": [
    "print(df_twitter.loc[df_twitter.dog_type == 'Bouvier_des_Flandres', 'jpg_url']) "
   ]
  },
  {
   "cell_type": "markdown",
   "id": "current-exchange",
   "metadata": {},
   "source": [
    "### Relationship between rating and favorite_count"
   ]
  },
  {
   "cell_type": "code",
   "execution_count": 117,
   "id": "cultural-sponsorship",
   "metadata": {
    "scrolled": true
   },
   "outputs": [
    {
     "data": {
      "image/png": "[encoded data removed]",
      "text/plain": [
       "<Figure size 432x288 with 1 Axes>"
      ]
     },
     "metadata": {
      "needs_background": "light"
     },
     "output_type": "display_data"
    }
   ],
   "source": [
    "plt.scatter(df_twitter.favorite_count, df_twitter.rating)\n",
    "plt.xlabel('favorite_count')\n",
    "plt.ylabel('rating')\n",
    "plt.title('Relationship between rating and favorite_count')\n",
    "\n",
    "fig = plt.gcf()\n",
    "fig.savefig('output3.png',bbox_inches='tight');"
   ]
  },
  {
   "cell_type": "markdown",
   "id": "noted-deviation",
   "metadata": {},
   "source": [
    "### Relationship between rating and retweet_count"
   ]
  },
  {
   "cell_type": "code",
   "execution_count": 118,
   "id": "inappropriate-manitoba",
   "metadata": {
    "scrolled": false
   },
   "outputs": [
    {
     "data": {
      "image/png": "[encoded data removed]",
      "text/plain": [
       "<Figure size 432x288 with 1 Axes>"
      ]
     },
     "metadata": {
      "needs_background": "light"
     },
     "output_type": "display_data"
    }
   ],
   "source": [
    "plt.scatter(df_twitter.retweet_count, df_twitter.rating)\n",
    "plt.xlabel('retweet_count')\n",
    "plt.ylabel('rating')\n",
    "plt.title('Relationship between rating and retweet_count')\n",
    "\n",
    "fig = plt.gcf()\n",
    "fig.savefig('output4.png',bbox_inches='tight');"
   ]
  },
  {
   "cell_type": "markdown",
   "id": "white-senior",
   "metadata": {},
   "source": [
    "## Insight\n",
    "- The highest ratings do not receive the most favourites or retweets. "
   ]
  }
 ],
 "metadata": {
  "kernelspec": {
   "display_name": "Python [conda env:root] *",
   "language": "python",
   "name": "conda-root-py"
  },
  "language_info": {
   "codemirror_mode": {
    "name": "ipython",
    "version": 3
   },
   "file_extension": ".py",
   "mimetype": "text/x-python",
   "name": "python",
   "nbconvert_exporter": "python",
   "pygments_lexer": "ipython3",
   "version": "3.8.8"
  }
 },
 "nbformat": 4,
 "nbformat_minor": 5
}
